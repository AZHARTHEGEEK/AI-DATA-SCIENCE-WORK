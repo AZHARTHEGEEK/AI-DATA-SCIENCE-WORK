{
  "nbformat": 4,
  "nbformat_minor": 0,
  "metadata": {
    "colab": {
      "name": "Fashion Mnist.ipynb",
      "provenance": [],
      "authorship_tag": "ABX9TyN6V8f77MPsomM6qOCNzbtY",
      "include_colab_link": true
    },
    "kernelspec": {
      "name": "python3",
      "display_name": "Python 3"
    },
    "language_info": {
      "name": "python"
    }
  },
  "cells": [
    {
      "cell_type": "markdown",
      "metadata": {
        "id": "view-in-github",
        "colab_type": "text"
      },
      "source": [
        "<a href=\"https://colab.research.google.com/github/AZHARTHEGEEK/AI-DATA-SCIENCE-WORK/blob/main/Fashion_Mnist.ipynb\" target=\"_parent\"><img src=\"https://colab.research.google.com/assets/colab-badge.svg\" alt=\"Open In Colab\"/></a>"
      ]
    },
    {
      "cell_type": "code",
      "metadata": {
        "id": "aw-huZOWLn-2"
      },
      "source": [
        "import tensorflow as tf\n",
        "from tensorflow.keras import layers\n",
        "from tensorflow.keras import models\n",
        "from tensorflow.keras.datasets import fashion_mnist\n",
        "from tensorflow.keras.utils import to_categorical\n",
        "import matplotlib.pyplot as plt\n"
      ],
      "execution_count": 1,
      "outputs": []
    },
    {
      "cell_type": "code",
      "metadata": {
        "colab": {
          "base_uri": "https://localhost:8080/"
        },
        "id": "c591HmxFL1Pw",
        "outputId": "02435e6e-803a-41e7-c71d-ff8e50ca004b"
      },
      "source": [
        "#Loading Data\n",
        "(train_images, train_labels), (test_images, test_labels) = fashion_mnist.load_data()"
      ],
      "execution_count": 2,
      "outputs": [
        {
          "output_type": "stream",
          "text": [
            "Downloading data from https://storage.googleapis.com/tensorflow/tf-keras-datasets/train-labels-idx1-ubyte.gz\n",
            "32768/29515 [=================================] - 0s 0us/step\n",
            "Downloading data from https://storage.googleapis.com/tensorflow/tf-keras-datasets/train-images-idx3-ubyte.gz\n",
            "26427392/26421880 [==============================] - 0s 0us/step\n",
            "Downloading data from https://storage.googleapis.com/tensorflow/tf-keras-datasets/t10k-labels-idx1-ubyte.gz\n",
            "8192/5148 [===============================================] - 0s 0us/step\n",
            "Downloading data from https://storage.googleapis.com/tensorflow/tf-keras-datasets/t10k-images-idx3-ubyte.gz\n",
            "4423680/4422102 [==============================] - 0s 0us/step\n"
          ],
          "name": "stdout"
        }
      ]
    },
    {
      "cell_type": "code",
      "metadata": {
        "colab": {
          "base_uri": "https://localhost:8080/"
        },
        "id": "a4m9ih5cL2ye",
        "outputId": "6d82193f-cb2e-4fd1-af34-410c63f0f69b"
      },
      "source": [
        "#Shapes of the dataset\n",
        "print('train_images.shape: ', train_images.shape)\n",
        "print('train_labels.shape: ', train_labels.shape)\n",
        "print('test_images.shape: ', test_images.shape)\n",
        "print('test_labels.shape: ', test_labels.shape)"
      ],
      "execution_count": 3,
      "outputs": [
        {
          "output_type": "stream",
          "text": [
            "train_images.shape:  (60000, 28, 28)\n",
            "train_labels.shape:  (60000,)\n",
            "test_images.shape:  (10000, 28, 28)\n",
            "test_labels.shape:  (10000,)\n"
          ],
          "name": "stdout"
        }
      ]
    },
    {
      "cell_type": "code",
      "metadata": {
        "colab": {
          "base_uri": "https://localhost:8080/",
          "height": 282
        },
        "id": "CdGuJN16L4Z-",
        "outputId": "e3265124-9dfe-4e5a-94e5-270fb0353d7a"
      },
      "source": [
        "plt.imshow(train_images[5])"
      ],
      "execution_count": 4,
      "outputs": [
        {
          "output_type": "execute_result",
          "data": {
            "text/plain": [
              "<matplotlib.image.AxesImage at 0x7f55d8866b50>"
            ]
          },
          "metadata": {
            "tags": []
          },
          "execution_count": 4
        },
        {
          "output_type": "display_data",
          "data": {
            "image/png": "[encoded data removed]",
            "text/plain": [
              "<Figure size 432x288 with 1 Axes>"
            ]
          },
          "metadata": {
            "tags": [],
            "needs_background": "light"
          }
        }
      ]
    },
    {
      "cell_type": "code",
      "metadata": {
        "id": "KJXRoDV7L6w-"
      },
      "source": [
        "train_labels = to_categorical(train_labels)\n",
        "test_labels = to_categorical(test_labels)"
      ],
      "execution_count": 5,
      "outputs": []
    },
    {
      "cell_type": "code",
      "metadata": {
        "id": "nuC-2gplL-J2"
      },
      "source": [
        "# Initializes a sequential model\n",
        "model = models.Sequential()\n",
        "\n",
        "# Adding a 2D Convolutional Layer\n",
        "model.add(layers.Conv2D(32, (3, 3), activation='relu', input_shape=(28, 28, 1)))\n",
        "\n",
        "# Adding 1st Max Pooling Layer\n",
        "model.add(layers.MaxPooling2D((2, 2)))\n",
        "\n",
        "# Adding 2nd 2D Convolutional Layer\n",
        "model.add(layers.Conv2D(64, (3, 3), activation='relu'))\n",
        "\n",
        "# Adding 2nd Max Pooling Layer\n",
        "model.add(layers.MaxPooling2D((2, 2)))\n",
        "\n",
        "# Adding 3rd 2D Convolutional Layer\n",
        "model.add(layers.Conv2D(64, (3, 3), activation='relu'))\n",
        "\n",
        "# Adding a flattening layer to convert Filter maps into 1D Tensor\n",
        "model.add(layers.Flatten())\n",
        "\n",
        "# Adding Dense Layer before the outpur layer\n",
        "model.add(layers.Dense(64, activation='relu'))\n",
        "\n",
        "# Output Layer\n",
        "model.add(layers.Dense(10, activation='softmax'))"
      ],
      "execution_count": 6,
      "outputs": []
    },
    {
      "cell_type": "code",
      "metadata": {
        "colab": {
          "base_uri": "https://localhost:8080/"
        },
        "id": "wdz2-ZWoMBRu",
        "outputId": "e44ceea2-570a-484f-ee45-1b8f7df9312d"
      },
      "source": [
        "model.summary()"
      ],
      "execution_count": 7,
      "outputs": [
        {
          "output_type": "stream",
          "text": [
            "Model: \"sequential\"\n",
            "_________________________________________________________________\n",
            "Layer (type)                 Output Shape              Param #   \n",
            "=================================================================\n",
            "conv2d (Conv2D)              (None, 26, 26, 32)        320       \n",
            "_________________________________________________________________\n",
            "max_pooling2d (MaxPooling2D) (None, 13, 13, 32)        0         \n",
            "_________________________________________________________________\n",
            "conv2d_1 (Conv2D)            (None, 11, 11, 64)        18496     \n",
            "_________________________________________________________________\n",
            "max_pooling2d_1 (MaxPooling2 (None, 5, 5, 64)          0         \n",
            "_________________________________________________________________\n",
            "conv2d_2 (Conv2D)            (None, 3, 3, 64)          36928     \n",
            "_________________________________________________________________\n",
            "flatten (Flatten)            (None, 576)               0         \n",
            "_________________________________________________________________\n",
            "dense (Dense)                (None, 64)                36928     \n",
            "_________________________________________________________________\n",
            "dense_1 (Dense)              (None, 10)                650       \n",
            "=================================================================\n",
            "Total params: 93,322\n",
            "Trainable params: 93,322\n",
            "Non-trainable params: 0\n",
            "_________________________________________________________________\n"
          ],
          "name": "stdout"
        }
      ]
    },
    {
      "cell_type": "code",
      "metadata": {
        "id": "8mfa64j4MDDm"
      },
      "source": [
        "# Reshape the Train Image Array for compatible with CNN\n",
        "train_images = train_images.reshape((60000, 28, 28, 1))\n",
        "\n",
        "# Normalizing the Train Images\n",
        "train_images = train_images.astype('float32') / 255\n",
        "\n",
        "# Reshape the Test Image Array for compatible with CNN\n",
        "test_images = test_images.reshape((10000, 28, 28, 1))\n",
        "\n",
        "# Normalizing the Test Images\n",
        "test_images = test_images.astype('float32') / 255\n"
      ],
      "execution_count": 8,
      "outputs": []
    },
    {
      "cell_type": "code",
      "metadata": {
        "colab": {
          "base_uri": "https://localhost:8080/"
        },
        "id": "FkOxJ_opMFX2",
        "outputId": "a0d7474b-4e8d-4657-f4d6-96fc7232b5bd"
      },
      "source": [
        "#Compiling the CNN Model\n",
        "model.compile(optimizer='rmsprop', loss='categorical_crossentropy', metrics=['accuracy'])\n",
        "\n",
        "#Fitting the CNN Model\n",
        "model.fit(train_images, train_labels, epochs=5, batch_size=64)"
      ],
      "execution_count": 9,
      "outputs": [
        {
          "output_type": "stream",
          "text": [
            "Epoch 1/5\n",
            "938/938 [==============================] - 56s 59ms/step - loss: 0.5371 - accuracy: 0.8006\n",
            "Epoch 2/5\n",
            "938/938 [==============================] - 55s 58ms/step - loss: 0.3287 - accuracy: 0.8783\n",
            "Epoch 3/5\n",
            "938/938 [==============================] - 55s 59ms/step - loss: 0.2788 - accuracy: 0.8976\n",
            "Epoch 4/5\n",
            "938/938 [==============================] - 55s 59ms/step - loss: 0.2477 - accuracy: 0.9092\n",
            "Epoch 5/5\n",
            "938/938 [==============================] - 55s 58ms/step - loss: 0.2246 - accuracy: 0.9180\n"
          ],
          "name": "stdout"
        },
        {
          "output_type": "execute_result",
          "data": {
            "text/plain": [
              "<tensorflow.python.keras.callbacks.History at 0x7f55d9515a50>"
            ]
          },
          "metadata": {
            "tags": []
          },
          "execution_count": 9
        }
      ]
    },
    {
      "cell_type": "code",
      "metadata": {
        "colab": {
          "base_uri": "https://localhost:8080/"
        },
        "id": "SxQQPlapMG5e",
        "outputId": "8707c0ba-6f90-4402-e55f-218f63293ec7"
      },
      "source": [
        "#Evaluate the CNN Model\n",
        "test_loss, test_acc = model.evaluate(test_images, test_labels)"
      ],
      "execution_count": 10,
      "outputs": [
        {
          "output_type": "stream",
          "text": [
            "313/313 [==============================] - 3s 10ms/step - loss: 0.2831 - accuracy: 0.8969\n"
          ],
          "name": "stdout"
        }
      ]
    },
    {
      "cell_type": "code",
      "metadata": {
        "colab": {
          "base_uri": "https://localhost:8080/"
        },
        "id": "WjRNsOImMJPB",
        "outputId": "e568e7bf-34a1-4879-f5d1-b1a09da235fc"
      },
      "source": [
        "print(test_acc)"
      ],
      "execution_count": 11,
      "outputs": [
        {
          "output_type": "stream",
          "text": [
            "0.8968999981880188\n"
          ],
          "name": "stdout"
        }
      ]
    },
    {
      "cell_type": "code",
      "metadata": {
        "id": "_cKBLLgONxJP"
      },
      "source": [
        "#Done \n",
        "#ATG"
      ],
      "execution_count": 12,
      "outputs": []
    }
  ]
}