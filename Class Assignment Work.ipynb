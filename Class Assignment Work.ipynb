{
  "nbformat": 4,
  "nbformat_minor": 0,
  "metadata": {
    "colab": {
      "name": "Untitled6.ipynb",
      "provenance": [],
      "collapsed_sections": [],
      "authorship_tag": "ABX9TyOY/zi5xo5fUmL02FkOOMte",
      "include_colab_link": true
    },
    "kernelspec": {
      "name": "python3",
      "display_name": "Python 3"
    }
  },
  "cells": [
    {
      "cell_type": "markdown",
      "metadata": {
        "id": "view-in-github",
        "colab_type": "text"
      },
      "source": [
        "<a href=\"https://colab.research.google.com/github/AZHARTHEGEEK/AI-DATA-SCIENCE-WORK/blob/main/Class%20Assignment%20Work.ipynb\" target=\"_parent\"><img src=\"https://colab.research.google.com/assets/colab-badge.svg\" alt=\"Open In Colab\"/></a>"
      ]
    },
    {
      "cell_type": "markdown",
      "metadata": {
        "id": "P__ydhQToIuZ"
      },
      "source": [
        "# Class Work"
      ]
    },
    {
      "cell_type": "code",
      "metadata": {
        "id": "1SO_mwo5oIJN"
      },
      "source": [
        "import pandas as pd\r\n",
        "import numpy as np\r\n",
        "dic = {\"Name\":[\"Azhar\",\"Mehar\",\"Qandeel\",\"Owaise\",\"Taha\"],\r\n",
        "       \"Age\": [21,22,24,25,10],\r\n",
        "        \"Courses\": [\"Python\",\"Java\",\"React\",\"C+\",\"AI\"],\r\n",
        "        \"Python\":[12,54,45,98,45],\r\n",
        "        \"Java\":[12,21,52,21,21],\r\n",
        "        \"React\":[48,45,54,66,45],\r\n",
        "       }\r\n"
      ],
      "execution_count": 37,
      "outputs": []
    },
    {
      "cell_type": "code",
      "metadata": {
        "id": "7reC_JhCoVpQ"
      },
      "source": [
        "data =pd.DataFrame(dic)"
      ],
      "execution_count": 38,
      "outputs": []
    },
    {
      "cell_type": "code",
      "metadata": {
        "colab": {
          "base_uri": "https://localhost:8080/",
          "height": 195
        },
        "id": "SaQXcfWroXjP",
        "outputId": "5343b66a-4316-4969-868f-b37987cf5792"
      },
      "source": [
        "data"
      ],
      "execution_count": 39,
      "outputs": [
        {
          "output_type": "execute_result",
          "data": {
            "text/html": [
              "<div>\n",
              "<style scoped>\n",
              "    .dataframe tbody tr th:only-of-type {\n",
              "        vertical-align: middle;\n",
              "    }\n",
              "\n",
              "    .dataframe tbody tr th {\n",
              "        vertical-align: top;\n",
              "    }\n",
              "\n",
              "    .dataframe thead th {\n",
              "        text-align: right;\n",
              "    }\n",
              "</style>\n",
              "<table border=\"1\" class=\"dataframe\">\n",
              "  <thead>\n",
              "    <tr style=\"text-align: right;\">\n",
              "      <th></th>\n",
              "      <th>Name</th>\n",
              "      <th>Age</th>\n",
              "      <th>Courses</th>\n",
              "      <th>Python</th>\n",
              "      <th>Java</th>\n",
              "      <th>React</th>\n",
              "    </tr>\n",
              "  </thead>\n",
              "  <tbody>\n",
              "    <tr>\n",
              "      <th>0</th>\n",
              "      <td>Azhar</td>\n",
              "      <td>21</td>\n",
              "      <td>Python</td>\n",
              "      <td>12</td>\n",
              "      <td>12</td>\n",
              "      <td>48</td>\n",
              "    </tr>\n",
              "    <tr>\n",
              "      <th>1</th>\n",
              "      <td>Mehar</td>\n",
              "      <td>22</td>\n",
              "      <td>Java</td>\n",
              "      <td>54</td>\n",
              "      <td>21</td>\n",
              "      <td>45</td>\n",
              "    </tr>\n",
              "    <tr>\n",
              "      <th>2</th>\n",
              "      <td>Qandeel</td>\n",
              "      <td>24</td>\n",
              "      <td>React</td>\n",
              "      <td>45</td>\n",
              "      <td>52</td>\n",
              "      <td>54</td>\n",
              "    </tr>\n",
              "    <tr>\n",
              "      <th>3</th>\n",
              "      <td>Owaise</td>\n",
              "      <td>25</td>\n",
              "      <td>C+</td>\n",
              "      <td>98</td>\n",
              "      <td>21</td>\n",
              "      <td>66</td>\n",
              "    </tr>\n",
              "    <tr>\n",
              "      <th>4</th>\n",
              "      <td>Taha</td>\n",
              "      <td>10</td>\n",
              "      <td>AI</td>\n",
              "      <td>45</td>\n",
              "      <td>21</td>\n",
              "      <td>45</td>\n",
              "    </tr>\n",
              "  </tbody>\n",
              "</table>\n",
              "</div>"
            ],
            "text/plain": [
              "      Name  Age Courses  Python  Java  React\n",
              "0    Azhar   21  Python      12    12     48\n",
              "1    Mehar   22    Java      54    21     45\n",
              "2  Qandeel   24   React      45    52     54\n",
              "3   Owaise   25      C+      98    21     66\n",
              "4     Taha   10      AI      45    21     45"
            ]
          },
          "metadata": {
            "tags": []
          },
          "execution_count": 39
        }
      ]
    },
    {
      "cell_type": "code",
      "metadata": {
        "id": "1q9ZPgAOoY0v"
      },
      "source": [
        "data[\"Total\"] = data['Python']+data['Java'] + data['React']"
      ],
      "execution_count": 40,
      "outputs": []
    },
    {
      "cell_type": "code",
      "metadata": {
        "colab": {
          "base_uri": "https://localhost:8080/",
          "height": 195
        },
        "id": "7U_DPtUzofyP",
        "outputId": "a6b5b655-c258-48d7-aec3-16ec8cc54bc5"
      },
      "source": [
        "data"
      ],
      "execution_count": 41,
      "outputs": [
        {
          "output_type": "execute_result",
          "data": {
            "text/html": [
              "<div>\n",
              "<style scoped>\n",
              "    .dataframe tbody tr th:only-of-type {\n",
              "        vertical-align: middle;\n",
              "    }\n",
              "\n",
              "    .dataframe tbody tr th {\n",
              "        vertical-align: top;\n",
              "    }\n",
              "\n",
              "    .dataframe thead th {\n",
              "        text-align: right;\n",
              "    }\n",
              "</style>\n",
              "<table border=\"1\" class=\"dataframe\">\n",
              "  <thead>\n",
              "    <tr style=\"text-align: right;\">\n",
              "      <th></th>\n",
              "      <th>Name</th>\n",
              "      <th>Age</th>\n",
              "      <th>Courses</th>\n",
              "      <th>Python</th>\n",
              "      <th>Java</th>\n",
              "      <th>React</th>\n",
              "      <th>Total</th>\n",
              "    </tr>\n",
              "  </thead>\n",
              "  <tbody>\n",
              "    <tr>\n",
              "      <th>0</th>\n",
              "      <td>Azhar</td>\n",
              "      <td>21</td>\n",
              "      <td>Python</td>\n",
              "      <td>12</td>\n",
              "      <td>12</td>\n",
              "      <td>48</td>\n",
              "      <td>72</td>\n",
              "    </tr>\n",
              "    <tr>\n",
              "      <th>1</th>\n",
              "      <td>Mehar</td>\n",
              "      <td>22</td>\n",
              "      <td>Java</td>\n",
              "      <td>54</td>\n",
              "      <td>21</td>\n",
              "      <td>45</td>\n",
              "      <td>120</td>\n",
              "    </tr>\n",
              "    <tr>\n",
              "      <th>2</th>\n",
              "      <td>Qandeel</td>\n",
              "      <td>24</td>\n",
              "      <td>React</td>\n",
              "      <td>45</td>\n",
              "      <td>52</td>\n",
              "      <td>54</td>\n",
              "      <td>151</td>\n",
              "    </tr>\n",
              "    <tr>\n",
              "      <th>3</th>\n",
              "      <td>Owaise</td>\n",
              "      <td>25</td>\n",
              "      <td>C+</td>\n",
              "      <td>98</td>\n",
              "      <td>21</td>\n",
              "      <td>66</td>\n",
              "      <td>185</td>\n",
              "    </tr>\n",
              "    <tr>\n",
              "      <th>4</th>\n",
              "      <td>Taha</td>\n",
              "      <td>10</td>\n",
              "      <td>AI</td>\n",
              "      <td>45</td>\n",
              "      <td>21</td>\n",
              "      <td>45</td>\n",
              "      <td>111</td>\n",
              "    </tr>\n",
              "  </tbody>\n",
              "</table>\n",
              "</div>"
            ],
            "text/plain": [
              "      Name  Age Courses  Python  Java  React  Total\n",
              "0    Azhar   21  Python      12    12     48     72\n",
              "1    Mehar   22    Java      54    21     45    120\n",
              "2  Qandeel   24   React      45    52     54    151\n",
              "3   Owaise   25      C+      98    21     66    185\n",
              "4     Taha   10      AI      45    21     45    111"
            ]
          },
          "metadata": {
            "tags": []
          },
          "execution_count": 41
        }
      ]
    },
    {
      "cell_type": "code",
      "metadata": {
        "id": "YDp6l3E3og__"
      },
      "source": [
        "data[\"Total Marks\"]=[200 for n in data[\"Total\"]]"
      ],
      "execution_count": 42,
      "outputs": []
    },
    {
      "cell_type": "code",
      "metadata": {
        "colab": {
          "base_uri": "https://localhost:8080/",
          "height": 195
        },
        "id": "crZgVmDXojMQ",
        "outputId": "1ed2d7b9-17ea-4e51-d7c6-b86c1d81afa6"
      },
      "source": [
        "data"
      ],
      "execution_count": 43,
      "outputs": [
        {
          "output_type": "execute_result",
          "data": {
            "text/html": [
              "<div>\n",
              "<style scoped>\n",
              "    .dataframe tbody tr th:only-of-type {\n",
              "        vertical-align: middle;\n",
              "    }\n",
              "\n",
              "    .dataframe tbody tr th {\n",
              "        vertical-align: top;\n",
              "    }\n",
              "\n",
              "    .dataframe thead th {\n",
              "        text-align: right;\n",
              "    }\n",
              "</style>\n",
              "<table border=\"1\" class=\"dataframe\">\n",
              "  <thead>\n",
              "    <tr style=\"text-align: right;\">\n",
              "      <th></th>\n",
              "      <th>Name</th>\n",
              "      <th>Age</th>\n",
              "      <th>Courses</th>\n",
              "      <th>Python</th>\n",
              "      <th>Java</th>\n",
              "      <th>React</th>\n",
              "      <th>Total</th>\n",
              "      <th>Total Marks</th>\n",
              "    </tr>\n",
              "  </thead>\n",
              "  <tbody>\n",
              "    <tr>\n",
              "      <th>0</th>\n",
              "      <td>Azhar</td>\n",
              "      <td>21</td>\n",
              "      <td>Python</td>\n",
              "      <td>12</td>\n",
              "      <td>12</td>\n",
              "      <td>48</td>\n",
              "      <td>72</td>\n",
              "      <td>200</td>\n",
              "    </tr>\n",
              "    <tr>\n",
              "      <th>1</th>\n",
              "      <td>Mehar</td>\n",
              "      <td>22</td>\n",
              "      <td>Java</td>\n",
              "      <td>54</td>\n",
              "      <td>21</td>\n",
              "      <td>45</td>\n",
              "      <td>120</td>\n",
              "      <td>200</td>\n",
              "    </tr>\n",
              "    <tr>\n",
              "      <th>2</th>\n",
              "      <td>Qandeel</td>\n",
              "      <td>24</td>\n",
              "      <td>React</td>\n",
              "      <td>45</td>\n",
              "      <td>52</td>\n",
              "      <td>54</td>\n",
              "      <td>151</td>\n",
              "      <td>200</td>\n",
              "    </tr>\n",
              "    <tr>\n",
              "      <th>3</th>\n",
              "      <td>Owaise</td>\n",
              "      <td>25</td>\n",
              "      <td>C+</td>\n",
              "      <td>98</td>\n",
              "      <td>21</td>\n",
              "      <td>66</td>\n",
              "      <td>185</td>\n",
              "      <td>200</td>\n",
              "    </tr>\n",
              "    <tr>\n",
              "      <th>4</th>\n",
              "      <td>Taha</td>\n",
              "      <td>10</td>\n",
              "      <td>AI</td>\n",
              "      <td>45</td>\n",
              "      <td>21</td>\n",
              "      <td>45</td>\n",
              "      <td>111</td>\n",
              "      <td>200</td>\n",
              "    </tr>\n",
              "  </tbody>\n",
              "</table>\n",
              "</div>"
            ],
            "text/plain": [
              "      Name  Age Courses  Python  Java  React  Total  Total Marks\n",
              "0    Azhar   21  Python      12    12     48     72          200\n",
              "1    Mehar   22    Java      54    21     45    120          200\n",
              "2  Qandeel   24   React      45    52     54    151          200\n",
              "3   Owaise   25      C+      98    21     66    185          200\n",
              "4     Taha   10      AI      45    21     45    111          200"
            ]
          },
          "metadata": {
            "tags": []
          },
          "execution_count": 43
        }
      ]
    },
    {
      "cell_type": "code",
      "metadata": {
        "id": "dHOSxH3hokdA"
      },
      "source": [
        "data[\"Result\"]=[\"Pass\" if n >= 120 else \"Try Again\"for n in data[\"Total\"]]"
      ],
      "execution_count": 44,
      "outputs": []
    },
    {
      "cell_type": "code",
      "metadata": {
        "colab": {
          "base_uri": "https://localhost:8080/",
          "height": 195
        },
        "id": "XfuxV6_hol1w",
        "outputId": "e66b0ce1-3d98-4eb8-df68-b92465839535"
      },
      "source": [
        "data"
      ],
      "execution_count": 45,
      "outputs": [
        {
          "output_type": "execute_result",
          "data": {
            "text/html": [
              "<div>\n",
              "<style scoped>\n",
              "    .dataframe tbody tr th:only-of-type {\n",
              "        vertical-align: middle;\n",
              "    }\n",
              "\n",
              "    .dataframe tbody tr th {\n",
              "        vertical-align: top;\n",
              "    }\n",
              "\n",
              "    .dataframe thead th {\n",
              "        text-align: right;\n",
              "    }\n",
              "</style>\n",
              "<table border=\"1\" class=\"dataframe\">\n",
              "  <thead>\n",
              "    <tr style=\"text-align: right;\">\n",
              "      <th></th>\n",
              "      <th>Name</th>\n",
              "      <th>Age</th>\n",
              "      <th>Courses</th>\n",
              "      <th>Python</th>\n",
              "      <th>Java</th>\n",
              "      <th>React</th>\n",
              "      <th>Total</th>\n",
              "      <th>Total Marks</th>\n",
              "      <th>Result</th>\n",
              "    </tr>\n",
              "  </thead>\n",
              "  <tbody>\n",
              "    <tr>\n",
              "      <th>0</th>\n",
              "      <td>Azhar</td>\n",
              "      <td>21</td>\n",
              "      <td>Python</td>\n",
              "      <td>12</td>\n",
              "      <td>12</td>\n",
              "      <td>48</td>\n",
              "      <td>72</td>\n",
              "      <td>200</td>\n",
              "      <td>Try Again</td>\n",
              "    </tr>\n",
              "    <tr>\n",
              "      <th>1</th>\n",
              "      <td>Mehar</td>\n",
              "      <td>22</td>\n",
              "      <td>Java</td>\n",
              "      <td>54</td>\n",
              "      <td>21</td>\n",
              "      <td>45</td>\n",
              "      <td>120</td>\n",
              "      <td>200</td>\n",
              "      <td>Pass</td>\n",
              "    </tr>\n",
              "    <tr>\n",
              "      <th>2</th>\n",
              "      <td>Qandeel</td>\n",
              "      <td>24</td>\n",
              "      <td>React</td>\n",
              "      <td>45</td>\n",
              "      <td>52</td>\n",
              "      <td>54</td>\n",
              "      <td>151</td>\n",
              "      <td>200</td>\n",
              "      <td>Pass</td>\n",
              "    </tr>\n",
              "    <tr>\n",
              "      <th>3</th>\n",
              "      <td>Owaise</td>\n",
              "      <td>25</td>\n",
              "      <td>C+</td>\n",
              "      <td>98</td>\n",
              "      <td>21</td>\n",
              "      <td>66</td>\n",
              "      <td>185</td>\n",
              "      <td>200</td>\n",
              "      <td>Pass</td>\n",
              "    </tr>\n",
              "    <tr>\n",
              "      <th>4</th>\n",
              "      <td>Taha</td>\n",
              "      <td>10</td>\n",
              "      <td>AI</td>\n",
              "      <td>45</td>\n",
              "      <td>21</td>\n",
              "      <td>45</td>\n",
              "      <td>111</td>\n",
              "      <td>200</td>\n",
              "      <td>Try Again</td>\n",
              "    </tr>\n",
              "  </tbody>\n",
              "</table>\n",
              "</div>"
            ],
            "text/plain": [
              "      Name  Age Courses  Python  Java  React  Total  Total Marks     Result\n",
              "0    Azhar   21  Python      12    12     48     72          200  Try Again\n",
              "1    Mehar   22    Java      54    21     45    120          200       Pass\n",
              "2  Qandeel   24   React      45    52     54    151          200       Pass\n",
              "3   Owaise   25      C+      98    21     66    185          200       Pass\n",
              "4     Taha   10      AI      45    21     45    111          200  Try Again"
            ]
          },
          "metadata": {
            "tags": []
          },
          "execution_count": 45
        }
      ]
    },
    {
      "cell_type": "code",
      "metadata": {
        "id": "CZQjRaQeonEQ"
      },
      "source": [
        "data[\"Each Course\"]= [\"Pass\" if (python>=30 and Java>30 and React>30) else \"Try Again\" for python ,Java,React  in zip(data[\"Python\"],data[\"Java\"],data[\"React\"])]"
      ],
      "execution_count": 46,
      "outputs": []
    },
    {
      "cell_type": "code",
      "metadata": {
        "colab": {
          "base_uri": "https://localhost:8080/",
          "height": 195
        },
        "id": "HWBz_BQ1oovA",
        "outputId": "44db2ee2-0b6d-445d-a4fc-c01f328727f5"
      },
      "source": [
        "data"
      ],
      "execution_count": 47,
      "outputs": [
        {
          "output_type": "execute_result",
          "data": {
            "text/html": [
              "<div>\n",
              "<style scoped>\n",
              "    .dataframe tbody tr th:only-of-type {\n",
              "        vertical-align: middle;\n",
              "    }\n",
              "\n",
              "    .dataframe tbody tr th {\n",
              "        vertical-align: top;\n",
              "    }\n",
              "\n",
              "    .dataframe thead th {\n",
              "        text-align: right;\n",
              "    }\n",
              "</style>\n",
              "<table border=\"1\" class=\"dataframe\">\n",
              "  <thead>\n",
              "    <tr style=\"text-align: right;\">\n",
              "      <th></th>\n",
              "      <th>Name</th>\n",
              "      <th>Age</th>\n",
              "      <th>Courses</th>\n",
              "      <th>Python</th>\n",
              "      <th>Java</th>\n",
              "      <th>React</th>\n",
              "      <th>Total</th>\n",
              "      <th>Total Marks</th>\n",
              "      <th>Result</th>\n",
              "      <th>Each Course</th>\n",
              "    </tr>\n",
              "  </thead>\n",
              "  <tbody>\n",
              "    <tr>\n",
              "      <th>0</th>\n",
              "      <td>Azhar</td>\n",
              "      <td>21</td>\n",
              "      <td>Python</td>\n",
              "      <td>12</td>\n",
              "      <td>12</td>\n",
              "      <td>48</td>\n",
              "      <td>72</td>\n",
              "      <td>200</td>\n",
              "      <td>Try Again</td>\n",
              "      <td>Try Again</td>\n",
              "    </tr>\n",
              "    <tr>\n",
              "      <th>1</th>\n",
              "      <td>Mehar</td>\n",
              "      <td>22</td>\n",
              "      <td>Java</td>\n",
              "      <td>54</td>\n",
              "      <td>21</td>\n",
              "      <td>45</td>\n",
              "      <td>120</td>\n",
              "      <td>200</td>\n",
              "      <td>Pass</td>\n",
              "      <td>Try Again</td>\n",
              "    </tr>\n",
              "    <tr>\n",
              "      <th>2</th>\n",
              "      <td>Qandeel</td>\n",
              "      <td>24</td>\n",
              "      <td>React</td>\n",
              "      <td>45</td>\n",
              "      <td>52</td>\n",
              "      <td>54</td>\n",
              "      <td>151</td>\n",
              "      <td>200</td>\n",
              "      <td>Pass</td>\n",
              "      <td>Pass</td>\n",
              "    </tr>\n",
              "    <tr>\n",
              "      <th>3</th>\n",
              "      <td>Owaise</td>\n",
              "      <td>25</td>\n",
              "      <td>C+</td>\n",
              "      <td>98</td>\n",
              "      <td>21</td>\n",
              "      <td>66</td>\n",
              "      <td>185</td>\n",
              "      <td>200</td>\n",
              "      <td>Pass</td>\n",
              "      <td>Try Again</td>\n",
              "    </tr>\n",
              "    <tr>\n",
              "      <th>4</th>\n",
              "      <td>Taha</td>\n",
              "      <td>10</td>\n",
              "      <td>AI</td>\n",
              "      <td>45</td>\n",
              "      <td>21</td>\n",
              "      <td>45</td>\n",
              "      <td>111</td>\n",
              "      <td>200</td>\n",
              "      <td>Try Again</td>\n",
              "      <td>Try Again</td>\n",
              "    </tr>\n",
              "  </tbody>\n",
              "</table>\n",
              "</div>"
            ],
            "text/plain": [
              "      Name  Age Courses  Python  ...  Total  Total Marks     Result  Each Course\n",
              "0    Azhar   21  Python      12  ...     72          200  Try Again    Try Again\n",
              "1    Mehar   22    Java      54  ...    120          200       Pass    Try Again\n",
              "2  Qandeel   24   React      45  ...    151          200       Pass         Pass\n",
              "3   Owaise   25      C+      98  ...    185          200       Pass    Try Again\n",
              "4     Taha   10      AI      45  ...    111          200  Try Again    Try Again\n",
              "\n",
              "[5 rows x 10 columns]"
            ]
          },
          "metadata": {
            "tags": []
          },
          "execution_count": 47
        }
      ]
    },
    {
      "cell_type": "code",
      "metadata": {
        "id": "9sJx1O7zoqHA"
      },
      "source": [
        "data[\"Percentage\"]=[round((om/200)*100) for om in data[\"Total\"]]"
      ],
      "execution_count": 50,
      "outputs": []
    },
    {
      "cell_type": "code",
      "metadata": {
        "colab": {
          "base_uri": "https://localhost:8080/",
          "height": 195
        },
        "id": "Dy3GADlpo2Wg",
        "outputId": "f9b5ed13-4069-4bec-a2c9-3f646df59f8c"
      },
      "source": [
        "data"
      ],
      "execution_count": 51,
      "outputs": [
        {
          "output_type": "execute_result",
          "data": {
            "text/html": [
              "<div>\n",
              "<style scoped>\n",
              "    .dataframe tbody tr th:only-of-type {\n",
              "        vertical-align: middle;\n",
              "    }\n",
              "\n",
              "    .dataframe tbody tr th {\n",
              "        vertical-align: top;\n",
              "    }\n",
              "\n",
              "    .dataframe thead th {\n",
              "        text-align: right;\n",
              "    }\n",
              "</style>\n",
              "<table border=\"1\" class=\"dataframe\">\n",
              "  <thead>\n",
              "    <tr style=\"text-align: right;\">\n",
              "      <th></th>\n",
              "      <th>Name</th>\n",
              "      <th>Age</th>\n",
              "      <th>Courses</th>\n",
              "      <th>Python</th>\n",
              "      <th>Java</th>\n",
              "      <th>React</th>\n",
              "      <th>Total</th>\n",
              "      <th>Total Marks</th>\n",
              "      <th>Result</th>\n",
              "      <th>Each Course</th>\n",
              "      <th>Percentage</th>\n",
              "    </tr>\n",
              "  </thead>\n",
              "  <tbody>\n",
              "    <tr>\n",
              "      <th>0</th>\n",
              "      <td>Azhar</td>\n",
              "      <td>21</td>\n",
              "      <td>Python</td>\n",
              "      <td>12</td>\n",
              "      <td>12</td>\n",
              "      <td>48</td>\n",
              "      <td>72</td>\n",
              "      <td>200</td>\n",
              "      <td>Try Again</td>\n",
              "      <td>Try Again</td>\n",
              "      <td>36</td>\n",
              "    </tr>\n",
              "    <tr>\n",
              "      <th>1</th>\n",
              "      <td>Mehar</td>\n",
              "      <td>22</td>\n",
              "      <td>Java</td>\n",
              "      <td>54</td>\n",
              "      <td>21</td>\n",
              "      <td>45</td>\n",
              "      <td>120</td>\n",
              "      <td>200</td>\n",
              "      <td>Pass</td>\n",
              "      <td>Try Again</td>\n",
              "      <td>60</td>\n",
              "    </tr>\n",
              "    <tr>\n",
              "      <th>2</th>\n",
              "      <td>Qandeel</td>\n",
              "      <td>24</td>\n",
              "      <td>React</td>\n",
              "      <td>45</td>\n",
              "      <td>52</td>\n",
              "      <td>54</td>\n",
              "      <td>151</td>\n",
              "      <td>200</td>\n",
              "      <td>Pass</td>\n",
              "      <td>Pass</td>\n",
              "      <td>76</td>\n",
              "    </tr>\n",
              "    <tr>\n",
              "      <th>3</th>\n",
              "      <td>Owaise</td>\n",
              "      <td>25</td>\n",
              "      <td>C+</td>\n",
              "      <td>98</td>\n",
              "      <td>21</td>\n",
              "      <td>66</td>\n",
              "      <td>185</td>\n",
              "      <td>200</td>\n",
              "      <td>Pass</td>\n",
              "      <td>Try Again</td>\n",
              "      <td>92</td>\n",
              "    </tr>\n",
              "    <tr>\n",
              "      <th>4</th>\n",
              "      <td>Taha</td>\n",
              "      <td>10</td>\n",
              "      <td>AI</td>\n",
              "      <td>45</td>\n",
              "      <td>21</td>\n",
              "      <td>45</td>\n",
              "      <td>111</td>\n",
              "      <td>200</td>\n",
              "      <td>Try Again</td>\n",
              "      <td>Try Again</td>\n",
              "      <td>56</td>\n",
              "    </tr>\n",
              "  </tbody>\n",
              "</table>\n",
              "</div>"
            ],
            "text/plain": [
              "      Name  Age Courses  Python  ...  Total Marks     Result  Each Course  Percentage\n",
              "0    Azhar   21  Python      12  ...          200  Try Again    Try Again          36\n",
              "1    Mehar   22    Java      54  ...          200       Pass    Try Again          60\n",
              "2  Qandeel   24   React      45  ...          200       Pass         Pass          76\n",
              "3   Owaise   25      C+      98  ...          200       Pass    Try Again          92\n",
              "4     Taha   10      AI      45  ...          200  Try Again    Try Again          56\n",
              "\n",
              "[5 rows x 11 columns]"
            ]
          },
          "metadata": {
            "tags": []
          },
          "execution_count": 51
        }
      ]
    },
    {
      "cell_type": "code",
      "metadata": {
        "id": "MfwpvbXIo27f"
      },
      "source": [
        "# data[\"Grade\"]=[\"A+\" if pn >90 else \"A\" if pn>70 for pn in \"Percentage\"]"
      ],
      "execution_count": null,
      "outputs": []
    }
  ]
}