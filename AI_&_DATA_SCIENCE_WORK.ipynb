{
  "nbformat": 4,
  "nbformat_minor": 0,
  "metadata": {
    "colab": {
      "name": "AI & DATA SCIENCE WORK.ipynb",
      "provenance": [],
      "collapsed_sections": [],
      "authorship_tag": "ABX9TyNuf/H+QNcVBrSFkhTlpKGK",
      "include_colab_link": true
    },
    "kernelspec": {
      "name": "python3",
      "display_name": "Python 3"
    }
  },
  "cells": [
    {
      "cell_type": "markdown",
      "metadata": {
        "id": "view-in-github",
        "colab_type": "text"
      },
      "source": [
        "<a href=\"https://colab.research.google.com/github/AZHARTHEGEEK/AI-DATA-SCIENCE-WORK/blob/main/AI_%26_DATA_SCIENCE_WORK.ipynb\" target=\"_parent\"><img src=\"https://colab.research.google.com/assets/colab-badge.svg\" alt=\"Open In Colab\"/></a>"
      ]
    },
    {
      "cell_type": "code",
      "metadata": {
        "colab": {
          "base_uri": "https://localhost:8080/"
        },
        "id": "fCZKUYykgYZl",
        "outputId": "7fcf3ed0-d213-4d98-a272-c5b7e0cd2474"
      },
      "source": [
        "print(\"check\")"
      ],
      "execution_count": null,
      "outputs": [
        {
          "output_type": "stream",
          "text": [
            "check\n"
          ],
          "name": "stdout"
        }
      ]
    },
    {
      "cell_type": "markdown",
      "metadata": {
        "id": "fdniLusVhR1P"
      },
      "source": [
        "# List Comprension"
      ]
    },
    {
      "cell_type": "code",
      "metadata": {
        "colab": {
          "base_uri": "https://localhost:8080/"
        },
        "id": "dnAP3QEYhTUM",
        "outputId": "526c5c86-4f7c-4f13-aab3-4f805281f420"
      },
      "source": [
        "b=[2,3,4,5,6]\r\n",
        "s=[int ((a**2)/2) for a in b]\r\n",
        "\r\n",
        "print(s)"
      ],
      "execution_count": null,
      "outputs": [
        {
          "output_type": "stream",
          "text": [
            "[2, 4, 8, 12, 18]\n"
          ],
          "name": "stdout"
        }
      ]
    },
    {
      "cell_type": "code",
      "metadata": {
        "colab": {
          "base_uri": "https://localhost:8080/"
        },
        "id": "QgWtbXN4hWyt",
        "outputId": "3c8d0963-3784-4c6d-a8c8-689adb67676c"
      },
      "source": [
        "print([f\"even number is {a} \" if a%2 == 0 else f\"even number is {a} \"  for a in range(12)])"
      ],
      "execution_count": null,
      "outputs": [
        {
          "output_type": "stream",
          "text": [
            "['even number is 0 ', 'even number is 1 ', 'even number is 2 ', 'even number is 3 ', 'even number is 4 ', 'even number is 5 ', 'even number is 6 ', 'even number is 7 ', 'even number is 8 ', 'even number is 9 ', 'even number is 10 ', 'even number is 11 ']\n"
          ],
          "name": "stdout"
        }
      ]
    },
    {
      "cell_type": "code",
      "metadata": {
        "colab": {
          "base_uri": "https://localhost:8080/"
        },
        "id": "NNBpezGZhZaF",
        "outputId": "e7299c27-a291-4f03-d96a-57c3192dc3a3"
      },
      "source": [
        "a =[10,12,14,15,18,11]\r\n",
        "sorted(a)\r\n"
      ],
      "execution_count": null,
      "outputs": [
        {
          "output_type": "execute_result",
          "data": {
            "text/plain": [
              "[10, 11, 12, 14, 15, 18]"
            ]
          },
          "metadata": {
            "tags": []
          },
          "execution_count": 35
        }
      ]
    },
    {
      "cell_type": "markdown",
      "metadata": {
        "id": "JwaCHkZl_UuP"
      },
      "source": [
        "# Functions"
      ]
    },
    {
      "cell_type": "code",
      "metadata": {
        "id": "FvacNJXLhvJE"
      },
      "source": [
        "#Function Defination\r\n",
        "def call():\r\n",
        "  name =input(\"Tell me your Name \")\r\n",
        "  gender =input(\"Enter Your Gender \")\r\n",
        "  if gender == \"male\" or \"Male\" or \"M\" or \"m\":\r\n",
        "    print(f\"Welcome Mr.{ name}\")\r\n",
        "  else:\r\n",
        "    print(f\"Welcome Miss.{ name}\")\r\n",
        "\r\n",
        "  "
      ],
      "execution_count": null,
      "outputs": []
    },
    {
      "cell_type": "code",
      "metadata": {
        "colab": {
          "base_uri": "https://localhost:8080/"
        },
        "id": "5-kwRI0iid-H",
        "outputId": "333dda5f-0690-4267-dbdc-8b91c88088a3"
      },
      "source": [
        "#Function Call\r\n",
        "call()"
      ],
      "execution_count": null,
      "outputs": [
        {
          "output_type": "stream",
          "text": [
            "Tell me your Name Muhammad Azhar\n",
            "Enter Your Gender Male\n",
            "Welcome Mr.Muhammad Azhar\n"
          ],
          "name": "stdout"
        }
      ]
    },
    {
      "cell_type": "code",
      "metadata": {
        "id": "rOhgNkSkihqv"
      },
      "source": [
        "def usernumber():\r\n",
        "  Number = int(input(\"Enter Any Number\"))\r\n",
        "  if Number%2 == 0:\r\n",
        "    print(\"Number is Even\")\r\n",
        "  else:\r\n",
        "    print(\"Number is Odd\")"
      ],
      "execution_count": null,
      "outputs": []
    },
    {
      "cell_type": "code",
      "metadata": {
        "colab": {
          "base_uri": "https://localhost:8080/"
        },
        "id": "q0Tx0o1VlFEA",
        "outputId": "e9ee9443-8c09-4982-a974-6e38b0e9c449"
      },
      "source": [
        "usernumber()"
      ],
      "execution_count": null,
      "outputs": [
        {
          "output_type": "stream",
          "text": [
            "Enter Any Number2\n",
            "Number is Even\n"
          ],
          "name": "stdout"
        }
      ]
    },
    {
      "cell_type": "code",
      "metadata": {
        "id": "L3HZ_ctKlI7p"
      },
      "source": [
        "def usernumber():\r\n",
        "  asd =True\r\n",
        "  while(asd):\r\n",
        "    print(\"Enter Quit to Exit\")\r\n",
        "    Number = input(\"Enter Any Number\")\r\n",
        "    if Number.lower()==\"quit\":\r\n",
        "      print(\"Thank you For Using Our Servive\")\r\n",
        "      asd = False\r\n",
        "      break\r\n",
        "    elif int(Number)%2 == 0:\r\n",
        "      print(\"Number is Even\")\r\n",
        "    else:\r\n",
        "      print(\"Number is Odd\")"
      ],
      "execution_count": null,
      "outputs": []
    },
    {
      "cell_type": "code",
      "metadata": {
        "colab": {
          "base_uri": "https://localhost:8080/"
        },
        "id": "CoAWpO_mm-TY",
        "outputId": "7e068c67-70ef-43aa-f4c1-bb419153f038"
      },
      "source": [
        "usernumber()"
      ],
      "execution_count": null,
      "outputs": [
        {
          "output_type": "stream",
          "text": [
            "Enter Quit to Exit\n",
            "Enter Any Number2\n",
            "Number is Even\n",
            "Enter Quit to Exit\n",
            "Enter Any Number3\n",
            "Number is Odd\n",
            "Enter Quit to Exit\n",
            "Enter Any Numberquit\n",
            "Thank you For Using Our Servive\n"
          ],
          "name": "stdout"
        }
      ]
    },
    {
      "cell_type": "code",
      "metadata": {
        "id": "3LAbEtpvnB2G",
        "colab": {
          "base_uri": "https://localhost:8080/"
        },
        "outputId": "093c8a9c-e2fa-4df3-845a-ee4486a9a0fb"
      },
      "source": [
        "for num in range(2000,3201):\r\n",
        "  if num%7==0:\r\n",
        "    if num%5!=0:\r\n",
        "      print(num,end=\",\")\r\n"
      ],
      "execution_count": null,
      "outputs": [
        {
          "output_type": "stream",
          "text": [
            "2002,2009,2016,2023,2037,2044,2051,2058,2072,2079,2086,2093,2107,2114,2121,2128,2142,2149,2156,2163,2177,2184,2191,2198,2212,2219,2226,2233,2247,2254,2261,2268,2282,2289,2296,2303,2317,2324,2331,2338,2352,2359,2366,2373,2387,2394,2401,2408,2422,2429,2436,2443,2457,2464,2471,2478,2492,2499,2506,2513,2527,2534,2541,2548,2562,2569,2576,2583,2597,2604,2611,2618,2632,2639,2646,2653,2667,2674,2681,2688,2702,2709,2716,2723,2737,2744,2751,2758,2772,2779,2786,2793,2807,2814,2821,2828,2842,2849,2856,2863,2877,2884,2891,2898,2912,2919,2926,2933,2947,2954,2961,2968,2982,2989,2996,3003,3017,3024,3031,3038,3052,3059,3066,3073,3087,3094,3101,3108,3122,3129,3136,3143,3157,3164,3171,3178,3192,3199,"
          ],
          "name": "stdout"
        }
      ]
    },
    {
      "cell_type": "code",
      "metadata": {
        "colab": {
          "base_uri": "https://localhost:8080/"
        },
        "id": "A3WjB_BGyPLL",
        "outputId": "c706f0e3-6570-4ede-e583-c5690d154cd3"
      },
      "source": [
        "n = int(input(\"Enter the Number of Loops\"))\r\n",
        "newdic={}\r\n",
        "for number in range(1,n+1):\r\n",
        "  newdic[number]=number^number\r\n",
        "print(newdic)\r\n"
      ],
      "execution_count": null,
      "outputs": [
        {
          "output_type": "stream",
          "text": [
            "Enter the Number of Loops8\n",
            "{1: 0, 2: 0, 3: 0, 4: 0, 5: 0, 6: 0, 7: 0, 8: 0}\n"
          ],
          "name": "stdout"
        }
      ]
    },
    {
      "cell_type": "code",
      "metadata": {
        "id": "g7Tb37tp4WpN"
      },
      "source": [
        " def adding():\r\n",
        "   num1 =int(input())\r\n",
        "   num2 =int(input())\r\n",
        "\r\n",
        "   return num1+ num2"
      ],
      "execution_count": null,
      "outputs": []
    },
    {
      "cell_type": "code",
      "metadata": {
        "colab": {
          "base_uri": "https://localhost:8080/"
        },
        "id": "q7CRafHR6dJj",
        "outputId": "6ed2cae0-dd02-4c69-d0ba-8624df519207"
      },
      "source": [
        "adding()"
      ],
      "execution_count": null,
      "outputs": [
        {
          "output_type": "stream",
          "text": [
            "5\n",
            "5\n"
          ],
          "name": "stdout"
        },
        {
          "output_type": "execute_result",
          "data": {
            "text/plain": [
              "10"
            ]
          },
          "metadata": {
            "tags": []
          },
          "execution_count": 58
        }
      ]
    },
    {
      "cell_type": "markdown",
      "metadata": {
        "id": "VRD75Hjk6eEO"
      },
      "source": [
        ""
      ]
    },
    {
      "cell_type": "code",
      "metadata": {
        "colab": {
          "base_uri": "https://localhost:8080/"
        },
        "id": "rKjdGklq8tL8",
        "outputId": "819fe307-4a3c-4970-c79d-181acebc5ed0"
      },
      "source": [
        "#From Book Page 1266\r\n",
        "responses = {}\r\n",
        "polling_active = True\r\n",
        "while polling_active:\r\n",
        "  name = input(\"\\nWhat is your name? \")\r\n",
        "  response = input(\"Which mountain would you like to climb someday? \")\r\n",
        "  responses[name] = response\r\n",
        "  \r\n",
        "  repeat = input(\"Would you like to let another person respond? (yes/ no) \")\r\n",
        "  if repeat == 'no':\r\n",
        "    polling_active = False\r\n",
        "\r\n",
        "  print(\"\\n--- Poll Results ---\")\r\n",
        "  for name, response in responses.items():\r\n",
        "    print(f\"{name} would like to climb {response}.\")\r\n"
      ],
      "execution_count": null,
      "outputs": [
        {
          "output_type": "stream",
          "text": [
            "\n",
            "What is your name? Azhar\n",
            "Which mountain would you like to climb someday? k2\n",
            "Would you like to let another person respond? (yes/ no) no\n",
            "\n",
            "--- Poll Results ---\n",
            "Azhar would like to climb k2.\n"
          ],
          "name": "stdout"
        }
      ]
    },
    {
      "cell_type": "markdown",
      "metadata": {
        "id": "REklBU4N_8_u"
      },
      "source": [
        "## DOC STRING for citation"
      ]
    },
    {
      "cell_type": "code",
      "metadata": {
        "id": "igWJShGC9Zjv"
      },
      "source": [
        "def subtracting():\r\n",
        "  num1 = input(\"Enter First Number to Sub\")\r\n",
        "  num2 = input(\"Enter Second Number to Sub\")\r\n",
        "  return num1 - num2\r\n",
        " "
      ],
      "execution_count": null,
      "outputs": []
    },
    {
      "cell_type": "code",
      "metadata": {
        "id": "P8FPsmaHDVaj"
      },
      "source": [
        "def subtracting_u_para(a,b):\r\n",
        "  return a-b\r\n",
        " "
      ],
      "execution_count": null,
      "outputs": []
    },
    {
      "cell_type": "code",
      "metadata": {
        "id": "TQzxwhdlDfLI"
      },
      "source": [
        "userdata ={}\r\n",
        "def datacllection():\r\n",
        "    name = input(\"\\nWhat is your name? \")\r\n",
        "    age = input(\"What is your Age? \")\r\n",
        "    userdata[name] = age\r\n",
        "\r\n",
        "\r\n"
      ],
      "execution_count": null,
      "outputs": []
    },
    {
      "cell_type": "code",
      "metadata": {
        "id": "bmkdzDzaDjzS"
      },
      "source": [
        "def abc(x,y,z):\r\n",
        "  print(x,y,z)\r\n",
        "#Positional Arguments and defined/keyword arguments \r\n",
        "#default parameter/ Argument"
      ],
      "execution_count": null,
      "outputs": []
    },
    {
      "cell_type": "code",
      "metadata": {
        "id": "QfcqLht6Dj5R",
        "colab": {
          "base_uri": "https://localhost:8080/"
        },
        "outputId": "3e03671d-400b-4f02-ed8a-67830b6719a3"
      },
      "source": [
        "abc(21,41,z=45)"
      ],
      "execution_count": null,
      "outputs": [
        {
          "output_type": "stream",
          "text": [
            "21 41 45\n"
          ],
          "name": "stdout"
        }
      ]
    },
    {
      "cell_type": "code",
      "metadata": {
        "id": "ljNHwuktDj8x"
      },
      "source": [
        "def abc():\r\n",
        "  print(\"Hello\")"
      ],
      "execution_count": null,
      "outputs": []
    },
    {
      "cell_type": "code",
      "metadata": {
        "id": "i9gdhmShDj_5"
      },
      "source": [
        "#From Book Page 1377\r\n",
        "def make_shirt():\r\n",
        "  v1 =input(\"Enter The Size of the Shirt : \")\r\n",
        "  v2=input(\"Enter The Message Which You want to print on the Shirt : \")\r\n",
        "  print(f\"The size of Shirt is {v1} and on which the message is {v2} .\")\r\n"
      ],
      "execution_count": null,
      "outputs": []
    },
    {
      "cell_type": "code",
      "metadata": {
        "id": "S_ScCdFKDkDy",
        "colab": {
          "base_uri": "https://localhost:8080/"
        },
        "outputId": "7edc8819-2b65-482c-c05e-ed74ca98f1c1"
      },
      "source": [
        "make_shirt()"
      ],
      "execution_count": null,
      "outputs": [
        {
          "output_type": "stream",
          "text": [
            "Enter The Size of the Shirt : 25\n",
            "Enter The Message Which You want to print on the Shirt : Peace is Needed\n",
            "The size of Shirt is 25 and on which the message is Peace is Needed\n"
          ],
          "name": "stdout"
        }
      ]
    },
    {
      "cell_type": "code",
      "metadata": {
        "id": "yDvwS47ANiIL"
      },
      "source": [
        "def make_shirt(v1=\"None\",v2=\"None\"):\r\n",
        "  print(f\"The size of Shirt is {v1} and on which the message is {v2} .\")"
      ],
      "execution_count": null,
      "outputs": []
    },
    {
      "cell_type": "code",
      "metadata": {
        "colab": {
          "base_uri": "https://localhost:8080/"
        },
        "id": "KbHldO1hN0jE",
        "outputId": "0364fb71-6673-4835-cc84-89391077ad9d"
      },
      "source": [
        "v1 =input(\"Enter The Size of the Shirt : \")\r\n",
        "v2=input(\"Enter The Message Which You want to print on the Shirt : \")\r\n",
        "make_shirt(v1,v2)"
      ],
      "execution_count": null,
      "outputs": [
        {
          "output_type": "stream",
          "text": [
            "Enter The Size of the Shirt : 45\n",
            "Enter The Message Which You want to print on the Shirt : Peace\n",
            "The size of Shirt is 45 and on which the message is Peace .\n"
          ],
          "name": "stdout"
        }
      ]
    },
    {
      "cell_type": "code",
      "metadata": {
        "colab": {
          "base_uri": "https://localhost:8080/"
        },
        "id": "IMgcBpRyN6gH",
        "outputId": "8b76da95-65bf-455c-aa4e-00136a742e80"
      },
      "source": [
        "make_shirt()"
      ],
      "execution_count": null,
      "outputs": [
        {
          "output_type": "stream",
          "text": [
            "The size of Shirt is None and on which the message is None .\n"
          ],
          "name": "stdout"
        }
      ]
    },
    {
      "cell_type": "code",
      "metadata": {
        "id": "G8zGxrEyOEQ0"
      },
      "source": [
        "def make_shirt(v1=\"Large\",v2=\" I Love Python\"):\r\n",
        "  print(f\"The size of Shirt is {v1} and on which the message is {v2} .\")"
      ],
      "execution_count": null,
      "outputs": []
    },
    {
      "cell_type": "code",
      "metadata": {
        "colab": {
          "base_uri": "https://localhost:8080/"
        },
        "id": "LouDuVJDOTRj",
        "outputId": "b1332038-c23a-45ec-99ba-02eee1544aae"
      },
      "source": [
        "make_shirt()"
      ],
      "execution_count": null,
      "outputs": [
        {
          "output_type": "stream",
          "text": [
            "The size of Shirt is Large and on which the message is  I Love Python .\n"
          ],
          "name": "stdout"
        }
      ]
    },
    {
      "cell_type": "code",
      "metadata": {
        "id": "Jm5m1Ol6Oe9j"
      },
      "source": [
        "def describe_city():\r\n",
        "  name =input(\"What is Your Name ? :\")\r\n",
        "  city =input(\"What is Your City Name ? \")  \r\n",
        "  country = input(\"What is Your Country Name ? \") "
      ],
      "execution_count": null,
      "outputs": []
    },
    {
      "cell_type": "code",
      "metadata": {
        "colab": {
          "base_uri": "https://localhost:8080/"
        },
        "id": "XhQ01670PcOJ",
        "outputId": "1b124b5a-e2f9-4786-8f76-a9aa9fa5a381"
      },
      "source": [
        "def build_person(first_name, last_name):\r\n",
        "  \"\"\"Return a dictionary of information about a person.\"\"\"\r\n",
        "  person = {'first': first_name, 'last': last_name}\r\n",
        "\r\n",
        "musician = build_person('jimi', 'hendrix')\r\n",
        "print(musician)"
      ],
      "execution_count": null,
      "outputs": [
        {
          "output_type": "stream",
          "text": [
            "None\n"
          ],
          "name": "stdout"
        }
      ]
    },
    {
      "cell_type": "code",
      "metadata": {
        "colab": {
          "base_uri": "https://localhost:8080/"
        },
        "id": "0FAC3wBXPtAB",
        "outputId": "f04a73c3-2309-4040-e1b4-37b3296ebd55"
      },
      "source": [
        "def build_person(first_name, last_name, age=None):\r\n",
        "  \"\"\"Return a dictionary of information about a person.\"\"\"\r\n",
        "  person = {'first': first_name, 'last': last_name}\r\n",
        "  if age:\r\n",
        "    person['age'] = age\r\n",
        "  return person\r\n",
        "musician = build_person('jimi', 'hendrix', age=27)\r\n",
        "print(musician)"
      ],
      "execution_count": null,
      "outputs": [
        {
          "output_type": "stream",
          "text": [
            "{'first': 'jimi', 'last': 'hendrix', 'age': 27}\n"
          ],
          "name": "stdout"
        }
      ]
    },
    {
      "cell_type": "code",
      "metadata": {
        "id": "XKDvArMEQBN1"
      },
      "source": [
        "def largeestvale():\r\n",
        "  nums=[]\r\n",
        "  for a in range(5):\r\n",
        "    num1 = input(\"Enter the Number\")\r\n",
        "    nums.append(num1)\r\n",
        "  return max(nums)"
      ],
      "execution_count": null,
      "outputs": []
    },
    {
      "cell_type": "code",
      "metadata": {
        "id": "oLqB0V-zYMNp"
      },
      "source": [
        "def largeestvale1():\r\n",
        "  return max([int(input(\" Enter The Number\") for i in range(5))])"
      ],
      "execution_count": null,
      "outputs": []
    },
    {
      "cell_type": "code",
      "metadata": {
        "id": "y3jr61LgYgRI"
      },
      "source": [
        "def largeestvale2():\r\n",
        "  num = [input(\"Enter the Comma Separated Number\").split(\",\")]\r\n",
        "  return max([int(i)for i in num ])"
      ],
      "execution_count": null,
      "outputs": []
    },
    {
      "cell_type": "code",
      "metadata": {
        "id": "xL73g5YqYfrg"
      },
      "source": [
        " largeestvale2()"
      ],
      "execution_count": null,
      "outputs": []
    },
    {
      "cell_type": "code",
      "metadata": {
        "id": "zG1qDYOlU5AI"
      },
      "source": [
        "artistnameandalbumtitle ={}\r\n",
        "def make_album():\r\n",
        "  v1=input(\"Enter The ALBUM NAME : \")\r\n",
        "  v2=input(\"Enter The Album Title :\")\r\n",
        "  artistnameandalbumtitle[v1]=v2\r\n",
        "  return artistnameandalbumtitle\r\n",
        "  #print(artistnameandalbumtitle)\r\n"
      ],
      "execution_count": null,
      "outputs": []
    },
    {
      "cell_type": "code",
      "metadata": {
        "colab": {
          "base_uri": "https://localhost:8080/"
        },
        "id": "zoJHhAT-T1Up",
        "outputId": "2299f9c9-099e-4618-8829-992635beabb4"
      },
      "source": [
        "make_album()"
      ],
      "execution_count": null,
      "outputs": [
        {
          "output_type": "stream",
          "text": [
            "Enter The ALBUM NAMEAzhar\n",
            "Enter The Album TitleAzhar\n"
          ],
          "name": "stdout"
        },
        {
          "output_type": "execute_result",
          "data": {
            "text/plain": [
              "{'Azhar': 'Azhar'}"
            ]
          },
          "metadata": {
            "tags": []
          },
          "execution_count": 13
        }
      ]
    },
    {
      "cell_type": "code",
      "metadata": {
        "id": "izLUFqSgT4Rz"
      },
      "source": [
        "artistnameandalbumtitle ={}\r\n",
        "def make_album2(Tracks=\"\"):\r\n",
        "  flag = True\r\n",
        "  while(flag):\r\n",
        "    a1=input(\"Enter The ALBUM NAME : \")\r\n",
        "    a2=input(\"Enter The Album Title :\")\r\n",
        "    artistnameandalbumtitle= {\"Artist Name\":a1,\"Album Title\":a2}\r\n",
        "    if Tracks:\r\n",
        "      artistnameandalbumtitle[\"Tracks\"]= Tracks\r\n",
        "    v3 = input(\"Do You Want to Continue ? Y to Yes N to No\")\r\n",
        "    if v3 == \"n\" or v3==\"N\":\r\n",
        "      flag =False\r\n",
        "      break\r\n",
        "  return artistnameandalbumtitle\r\n",
        "  #8-8. User Albums UN-COMPLETE"
      ],
      "execution_count": null,
      "outputs": []
    },
    {
      "cell_type": "code",
      "metadata": {
        "colab": {
          "base_uri": "https://localhost:8080/"
        },
        "id": "RlmI_fPqVdQI",
        "outputId": "18e96ef8-5a99-41ba-bfa4-4afb3215a14e"
      },
      "source": [
        "make_album2()"
      ],
      "execution_count": null,
      "outputs": [
        {
          "output_type": "stream",
          "text": [
            "Enter The ALBUM NAME : j\n",
            "Enter The Album Title :j\n",
            "Do You Want to Continue ? Y to Yes N to Noy\n",
            "Enter The ALBUM NAME : h\n",
            "Enter The Album Title :\n",
            "Do You Want to Continue ? Y to Yes N to Noh\n",
            "Enter The ALBUM NAME : h\n",
            "Enter The Album Title :h\n",
            "Do You Want to Continue ? Y to Yes N to Non\n"
          ],
          "name": "stdout"
        },
        {
          "output_type": "execute_result",
          "data": {
            "text/plain": [
              "{'Album Title': 'h', 'Artist Name': 'h'}"
            ]
          },
          "metadata": {
            "tags": []
          },
          "execution_count": 58
        }
      ]
    },
    {
      "cell_type": "code",
      "metadata": {
        "id": "u6SNLrI7jJXk"
      },
      "source": [
        "def salarycalc(basic_salary):\r\n",
        "  tax_ded =0\r\n",
        "  if basic_salary < 30000:\r\n",
        "    tax_ded =0\r\n",
        "  elif basic_salary >= 30000 and basic_salary < 50000:\r\n",
        "    tax_ded =5\r\n",
        "  elif basic_salary >=50000 and basic_salary<100000:\r\n",
        "    tax_ded =10\r\n",
        "  else:\r\n",
        "    tax_ded =15\r\n",
        "  tot_ded =basic_salary*tax_ded/100\r\n",
        "  gross_salary = basic_salary - tot_ded\r\n",
        "  return gross_salary"
      ],
      "execution_count": null,
      "outputs": []
    },
    {
      "cell_type": "code",
      "metadata": {
        "colab": {
          "base_uri": "https://localhost:8080/"
        },
        "id": "vH7E-FSTjTMP",
        "outputId": "3ad476d9-8450-4bd3-a371-c23f15bb782d"
      },
      "source": [
        "basic_salary = int(input(\"\\n Enter the Basic Salary of the Employee \"))\r\n",
        "print(f\" The Gross Salary is {salarycalc(basic_salary)} .\")"
      ],
      "execution_count": null,
      "outputs": [
        {
          "output_type": "stream",
          "text": [
            "\n",
            " Enter the Basic Salary of the Employee 15000000\n",
            " The Gross Salary is 12750000.0 .\n"
          ],
          "name": "stdout"
        }
      ]
    },
    {
      "cell_type": "markdown",
      "metadata": {
        "id": "Cj0O9tpYmwtd"
      },
      "source": [
        "# Class 1/30/2021"
      ]
    },
    {
      "cell_type": "code",
      "metadata": {
        "id": "TFSGc9REmv4X"
      },
      "source": [
        "class Dog():\r\n",
        "  #Charwcteristics/ Attributes/ Properties >>>>>> Variables\r\n",
        "  def __init__(self,name,age,breed,colour): #\"__\"=Dunder\r\n",
        "    self.name = name\r\n",
        "    self.age=age\r\n",
        "    self.breed=breed\r\n",
        "    self.colour=colour\r\n",
        "    print(\"Dog Created\")\r\n",
        "  #Behaviours/actions >>>>>Method/ Functions\r\n",
        "  #Class inside Class\r\n",
        "  def bark():\r\n",
        "    pass\r\n",
        "  def walk():\r\n",
        "    pass\r\n",
        "  def rollover():\r\n",
        "    pass\r\n"
      ],
      "execution_count": null,
      "outputs": []
    },
    {
      "cell_type": "code",
      "metadata": {
        "id": "qffiqTOBkHat",
        "colab": {
          "base_uri": "https://localhost:8080/"
        },
        "outputId": "0b3d23e9-bcea-4a70-c869-594d9d1a7e68"
      },
      "source": [
        "dog1 = Dog(\"Tiger\",16,\"GALLOWN\",\"Black and White\") "
      ],
      "execution_count": null,
      "outputs": [
        {
          "output_type": "stream",
          "text": [
            "Dog Created\n"
          ],
          "name": "stdout"
        }
      ]
    },
    {
      "cell_type": "code",
      "metadata": {
        "colab": {
          "base_uri": "https://localhost:8080/",
          "height": 35
        },
        "id": "MvswmZ55s1z4",
        "outputId": "efcf5f3c-573d-45b9-e3e7-29a5134d2a16"
      },
      "source": [
        "dog1.name"
      ],
      "execution_count": null,
      "outputs": [
        {
          "output_type": "execute_result",
          "data": {
            "application/vnd.google.colaboratory.intrinsic+json": {
              "type": "string"
            },
            "text/plain": [
              "'Tiger'"
            ]
          },
          "metadata": {
            "tags": []
          },
          "execution_count": 4
        }
      ]
    },
    {
      "cell_type": "code",
      "metadata": {
        "colab": {
          "base_uri": "https://localhost:8080/"
        },
        "id": "auNSaRuds4wy",
        "outputId": "39c11e98-2041-447f-ca79-3a5a4bc143a0"
      },
      "source": [
        "dog1.age"
      ],
      "execution_count": null,
      "outputs": [
        {
          "output_type": "execute_result",
          "data": {
            "text/plain": [
              "16"
            ]
          },
          "metadata": {
            "tags": []
          },
          "execution_count": 5
        }
      ]
    },
    {
      "cell_type": "code",
      "metadata": {
        "colab": {
          "base_uri": "https://localhost:8080/",
          "height": 35
        },
        "id": "GDR_EXAts6qf",
        "outputId": "858e51a2-e33b-40b7-a0ef-5536ae8caa4b"
      },
      "source": [
        "dog1.breed"
      ],
      "execution_count": null,
      "outputs": [
        {
          "output_type": "execute_result",
          "data": {
            "application/vnd.google.colaboratory.intrinsic+json": {
              "type": "string"
            },
            "text/plain": [
              "'GALLOWN'"
            ]
          },
          "metadata": {
            "tags": []
          },
          "execution_count": 6
        }
      ]
    },
    {
      "cell_type": "code",
      "metadata": {
        "id": "a1o06y3ds-Ty",
        "colab": {
          "base_uri": "https://localhost:8080/",
          "height": 35
        },
        "outputId": "e215753f-afa1-42fe-a85b-682808dd7e47"
      },
      "source": [
        "dog1.colour"
      ],
      "execution_count": null,
      "outputs": [
        {
          "output_type": "execute_result",
          "data": {
            "application/vnd.google.colaboratory.intrinsic+json": {
              "type": "string"
            },
            "text/plain": [
              "'Black and White'"
            ]
          },
          "metadata": {
            "tags": []
          },
          "execution_count": 7
        }
      ]
    },
    {
      "cell_type": "code",
      "metadata": {
        "id": "917O2gAO1UZv"
      },
      "source": [
        "class Human():\r\n",
        "  #Charwcteristics/ Attributes/ Properties >>>>>> Variables\r\n",
        "  def __init__(self,name,age,gender,hight): #\"__\"=Dunder\r\n",
        "    self.name = name\r\n",
        "    self.age=age\r\n",
        "    self.gender=gender\r\n",
        "    self.hight=hight\r\n",
        "    print(\"Record Saved\")\r\n",
        "  #Behaviours/actions >>>>>Method/ Functions\r\n",
        "  #Class inside Class\r\n",
        "  def think(self):\r\n",
        "    print(f\"{self.name} is Thinking\")\r\n",
        "  def walk(self):\r\n",
        "    print(f\"{self.name} Can Walk\")\r\n",
        "  def cry():\r\n",
        "    print(f\"{self.name} is Crying\")\r\n",
        "  def record(self):\r\n",
        "    print(f\"NAME : {self.name}\")\r\n",
        "    print(f\"AGE : {self.age} \")\r\n",
        "    print(f\"GENDDER : {self.gender}\")\r\n",
        "    print(f\"HIGGHT : {self.hight}\")\r\n",
        "\r\n"
      ],
      "execution_count": null,
      "outputs": []
    },
    {
      "cell_type": "code",
      "metadata": {
        "colab": {
          "base_uri": "https://localhost:8080/"
        },
        "id": "Kj4y8h7e2SD6",
        "outputId": "ed3b3d61-7568-4867-e442-a5d151dfab4c"
      },
      "source": [
        "HUMANRECORD = Human(\"MEHAR\",21,\"MALE\",6.5)"
      ],
      "execution_count": null,
      "outputs": [
        {
          "output_type": "stream",
          "text": [
            "Record Saved\n"
          ],
          "name": "stdout"
        }
      ]
    },
    {
      "cell_type": "code",
      "metadata": {
        "colab": {
          "base_uri": "https://localhost:8080/"
        },
        "id": "gz_l7SGA2-f5",
        "outputId": "ac35c990-bf1b-4dbf-f6c3-537cc7171a8b"
      },
      "source": [
        "Human.record(HUMANRECORD)"
      ],
      "execution_count": null,
      "outputs": [
        {
          "output_type": "stream",
          "text": [
            "NAME : MEHAR\n",
            "AGE : 21 \n",
            "GENDDER : MALE\n",
            "HIGGHT : 6.5\n"
          ],
          "name": "stdout"
        }
      ]
    },
    {
      "cell_type": "code",
      "metadata": {
        "id": "ywQeTkYu5JyZ"
      },
      "source": [
        "class Student():\r\n",
        "  #Charwcteristics/ Attributes/ Properties >>>>>> Variables\r\n",
        "  def __init__(self,name,age,id,gender,hight): #\"__\"=Dunder\r\n",
        "    self.name = name\r\n",
        "    self.age=age\r\n",
        "    self.gender=gender\r\n",
        "    self.id=id\r\n",
        "    self.hight=hight\r\n",
        "    print(\"Record Saved\")\r\n",
        "  #Behaviours/actions >>>>>Method/ Functions\r\n",
        "  #Class inside Class\r\n",
        "  def think(self):\r\n",
        "    print(f\"{self.name} is Thinking\")\r\n",
        "  def walk(self):\r\n",
        "    print(f\"{self.name} Can Walk\")\r\n",
        "  def record(self):\r\n",
        "    print(\"This Is The Record of tthe Student:\")\r\n",
        "    print(f\"NAME : {self.name}\")\r\n",
        "    print(f\"AGE : {self.age} \")\r\n",
        "    print(f\"ID : {self.id}\")\r\n",
        "    print(f\"GENDDER : {self.gender}\")\r\n",
        "    print(f\"HIGGHT : {self.hight}\")"
      ],
      "execution_count": null,
      "outputs": []
    },
    {
      "cell_type": "code",
      "metadata": {
        "colab": {
          "base_uri": "https://localhost:8080/"
        },
        "id": "wezl3Pdv5xcK",
        "outputId": "fa8dc17f-7c60-4e05-adf3-b3e9e659026a"
      },
      "source": [
        "student1 =Student(\"Muhammad Azhar\",19,\"CSC19F069\",\"MALE\",5.5)"
      ],
      "execution_count": null,
      "outputs": [
        {
          "output_type": "stream",
          "text": [
            "Record Saved\n"
          ],
          "name": "stdout"
        }
      ]
    },
    {
      "cell_type": "code",
      "metadata": {
        "colab": {
          "base_uri": "https://localhost:8080/"
        },
        "id": "xUGsSD2x6Iyv",
        "outputId": "a42edf3c-6fc9-43c8-984f-95f195d522fa"
      },
      "source": [
        "Student.record(student1)"
      ],
      "execution_count": null,
      "outputs": [
        {
          "output_type": "stream",
          "text": [
            "This Is The Record of tthe Student:\n",
            "NAME : Muhammad Azhar\n",
            "AGE : 19 \n",
            "ID : CSC19F069\n",
            "GENDDER : MALE\n",
            "HIGGHT : 5.5\n"
          ],
          "name": "stdout"
        }
      ]
    },
    {
      "cell_type": "code",
      "metadata": {
        "id": "xeYn7PwJ6NoF"
      },
      "source": [
        "class Emplyee():\r\n",
        "  #Charwcteristics/ Attributes/ Properties >>>>>> Variables\r\n",
        "  def __init__(self,name,age,id,gender,hight,sallery): #\"__\"=Dunder\r\n",
        "    self.name = name\r\n",
        "    self.age=age\r\n",
        "    self.gender=gender\r\n",
        "    self.id=id\r\n",
        "    self.hight=hight\r\n",
        "    self.sallery=sallery\r\n",
        "    print(\"Record Saved\")\r\n",
        "  #Behaviours/actions >>>>>Method/ Functions\r\n",
        "  #Class inside Class\r\n",
        "  def think(self):\r\n",
        "    print(f\"{self.name} is Thinking\")\r\n",
        "  def walk(self):\r\n",
        "    print(f\"{self.name} Can Walk\")\r\n",
        "  def record(self):\r\n",
        "    print(\"This Is The Record of tthe Employee:\")\r\n",
        "    print(f\"NAME : {self.name}\")\r\n",
        "    print(f\"AGE : {self.age} \")\r\n",
        "    print(f\"ID : {self.id}\")\r\n",
        "    print(f\"GENDDER : {self.gender}\")\r\n",
        "    print(f\"HIGGHT : {self.hight}\")\r\n",
        "    print(f\"Sallery of {self.name} is {self.sallery}\")"
      ],
      "execution_count": null,
      "outputs": []
    },
    {
      "cell_type": "code",
      "metadata": {
        "colab": {
          "base_uri": "https://localhost:8080/"
        },
        "id": "cSmIbykd6mzL",
        "outputId": "18aa8d0b-7a0a-45b0-f9c5-17b916c81866"
      },
      "source": [
        "employee1=Emplyee(\"Muhammad Azhar\",19,\"ASD56\",\"MALE\",5.5,\"5K$\")"
      ],
      "execution_count": null,
      "outputs": [
        {
          "output_type": "stream",
          "text": [
            "Record Saved\n"
          ],
          "name": "stdout"
        }
      ]
    },
    {
      "cell_type": "code",
      "metadata": {
        "colab": {
          "base_uri": "https://localhost:8080/"
        },
        "id": "r2QKBQlt61il",
        "outputId": "145859fa-ddb9-4bfc-bf8f-c680b0338710"
      },
      "source": [
        "Emplyee.record(employee1)"
      ],
      "execution_count": null,
      "outputs": [
        {
          "output_type": "stream",
          "text": [
            "This Is The Record of tthe Employee:\n",
            "NAME : Muhammad Azhar\n",
            "AGE : 19 \n",
            "ID : ASD56\n",
            "GENDDER : MALE\n",
            "HIGGHT : 5.5\n",
            "Sallery of Muhammad Azhar is 5K$\n"
          ],
          "name": "stdout"
        }
      ]
    },
    {
      "cell_type": "markdown",
      "metadata": {
        "id": "0H_FcJP1SuBa"
      },
      "source": [
        "# ENCAPSULATION"
      ]
    },
    {
      "cell_type": "code",
      "metadata": {
        "id": "sx1TTX2z660m"
      },
      "source": [
        "class Emplyee():\r\n",
        "  #Charwcteristics/ Attributes/ Properties >>>>>> Variables\r\n",
        "  def __init__(self,name,age,id,gender,hight): #\"__\"=Dunder\r\n",
        "    self.name = name\r\n",
        "    self.age=age\r\n",
        "    self.gender=gender\r\n",
        "    self.id=id\r\n",
        "    self.hight=hight\r\n",
        "    self.employee_sallery=0\r\n",
        "    \r\n",
        "    print(\"Record Saved\")\r\n",
        "  #Behaviours/actions >>>>>Method/ Functions\r\n",
        "  #Class inside Class\r\n",
        "  #eNCAPSULATION\r\n",
        "  def get_sallery(self,sallery):    #Get Sallery\r\n",
        "    self.employee_sallery=sallery\r\n",
        "  def think(self):\r\n",
        "    print(f\"{self.name} is Thinking\")\r\n",
        "  def walk(self):\r\n",
        "    print(f\"{self.name} Can Walk\")\r\n",
        "  def record(self):\r\n",
        "    print(\"This Is The Record of tthe Employee:\")\r\n",
        "    print(f\"NAME : {self.name}\")\r\n",
        "    print(f\"AGE : {self.age} \")\r\n",
        "    print(f\"ID : {self.id}\")\r\n",
        "    print(f\"GENDDER : {self.gender}\")\r\n",
        "    print(f\"HIGGHT : {self.hight}\")\r\n",
        "    print(f\"Sallery of {self.name} is {self.employee_sallery}\")\r\n"
      ],
      "execution_count": null,
      "outputs": []
    },
    {
      "cell_type": "code",
      "metadata": {
        "colab": {
          "base_uri": "https://localhost:8080/"
        },
        "id": "dsh7Vp2gMHon",
        "outputId": "6f66fdf2-9677-46a0-d59e-7f58b155be7b"
      },
      "source": [
        "employee2=Emplyee(\"Muhammad Azhar\",19,\"ASD56\",\"MALE\",5.5)"
      ],
      "execution_count": null,
      "outputs": [
        {
          "output_type": "stream",
          "text": [
            "Record Saved\n"
          ],
          "name": "stdout"
        }
      ]
    },
    {
      "cell_type": "code",
      "metadata": {
        "colab": {
          "base_uri": "https://localhost:8080/"
        },
        "id": "5hH65yc0TUzf",
        "outputId": "e8aa4c26-8556-4f4a-ce41-6f1ce748083b"
      },
      "source": [
        "Emplyee.record(employee2)"
      ],
      "execution_count": null,
      "outputs": [
        {
          "output_type": "stream",
          "text": [
            "This Is The Record of tthe Employee:\n",
            "NAME : Muhammad Azhar\n",
            "AGE : 19 \n",
            "ID : ASD56\n",
            "GENDDER : MALE\n",
            "HIGGHT : 5.5\n",
            "Sallery of Muhammad Azhar is 0\n"
          ],
          "name": "stdout"
        }
      ]
    },
    {
      "cell_type": "code",
      "metadata": {
        "id": "abcbXYBeTZ58"
      },
      "source": [
        "employee2.get_sallery(150000)"
      ],
      "execution_count": null,
      "outputs": []
    },
    {
      "cell_type": "code",
      "metadata": {
        "colab": {
          "base_uri": "https://localhost:8080/"
        },
        "id": "NE22Yk5UThcD",
        "outputId": "6df72e49-cf66-4f97-966b-2a2dd6bcdb63"
      },
      "source": [
        "Emplyee.record(employee2)"
      ],
      "execution_count": null,
      "outputs": [
        {
          "output_type": "stream",
          "text": [
            "This Is The Record of tthe Employee:\n",
            "NAME : Muhammad Azhar\n",
            "AGE : 19 \n",
            "ID : ASD56\n",
            "GENDDER : MALE\n",
            "HIGGHT : 5.5\n",
            "Sallery of Muhammad Azhar is 150000\n"
          ],
          "name": "stdout"
        }
      ]
    },
    {
      "cell_type": "markdown",
      "metadata": {
        "id": "Td0KlHW3Z2ud"
      },
      "source": [
        "## INHERITANCE"
      ]
    },
    {
      "cell_type": "code",
      "metadata": {
        "id": "oCEFYZRFUdGf"
      },
      "source": [
        "class Managar(Emplyee):\r\n",
        "  def __init__(self,name,age,id):\r\n",
        "    super().__init__(name,age,id,0,0)"
      ],
      "execution_count": null,
      "outputs": []
    },
    {
      "cell_type": "code",
      "metadata": {
        "colab": {
          "base_uri": "https://localhost:8080/"
        },
        "id": "4SXdgpfgaSCX",
        "outputId": "1e091e51-f601-4800-b74d-c8bac2ecd141"
      },
      "source": [
        "manager = Managar(\"Azhar\",15,\"csc19f069\")"
      ],
      "execution_count": null,
      "outputs": [
        {
          "output_type": "stream",
          "text": [
            "Record Saved\n"
          ],
          "name": "stdout"
        }
      ]
    },
    {
      "cell_type": "code",
      "metadata": {
        "id": "OVm00pw2fCqx"
      },
      "source": [
        "class Car:\r\n",
        " \"\"\"A simple attempt to represent a car.\"\"\"\r\n",
        " def __init__(self, make, model, year):\r\n",
        "    self.make = make\r\n",
        "    self.model = model\r\n",
        "    self.year = year\r\n",
        "    self.odometer_reading = 0\r\n",
        "\r\n",
        " def get_descriptive_name(self):\r\n",
        "    long_name = f\"{self.year} {self.make} {self.model}\"\r\n",
        "    return long_name.title()\r\n",
        "\r\n",
        " def read_odometer(self):\r\n",
        "    print(f\"This car has {self.odometer_reading} miles on it.\")\r\n",
        "\r\n",
        " def update_odometer(self, mileage):\r\n",
        "    if mileage >= self.odometer_reading:\r\n",
        "      self.odometer_reading = mileage\r\n",
        "    else:\r\n",
        "      print(\"You can't roll back an odometer!\")\r\n",
        "\r\n",
        " def increment_odometer(self, miles):\r\n",
        "    self.odometer_reading += miles\r\n"
      ],
      "execution_count": null,
      "outputs": []
    },
    {
      "cell_type": "code",
      "metadata": {
        "id": "G8GR1G99cpA2"
      },
      "source": [
        "class ElectricCar(Car):\r\n",
        "  def __init__(self, make, model, year):\r\n",
        "    super().__init__(make, model, year)"
      ],
      "execution_count": null,
      "outputs": []
    },
    {
      "cell_type": "code",
      "metadata": {
        "colab": {
          "base_uri": "https://localhost:8080/"
        },
        "id": "F2slV-nYdMnU",
        "outputId": "aacdc8d2-c9b9-4985-e16f-43ef1f09e451"
      },
      "source": [
        "my_tesla = ElectricCar('tesla', 'model s', 2019)\r\n",
        "print(my_tesla.get_descriptive_name())"
      ],
      "execution_count": null,
      "outputs": [
        {
          "output_type": "stream",
          "text": [
            "2019 Tesla Model S\n"
          ],
          "name": "stdout"
        }
      ]
    },
    {
      "cell_type": "code",
      "metadata": {
        "id": "09-P8ylvdZIz"
      },
      "source": [
        "class ElectricCar(Car):\r\n",
        "  def __init__(self, make, model, year):\r\n",
        "    super().__init__(make, model, year)\r\n",
        "    self.battery_size = 75\r\n",
        "\r\n",
        "  def describe_battery(self):\r\n",
        "    print(f\"This car has a {self.battery_size}-kWh battery...\")"
      ],
      "execution_count": null,
      "outputs": []
    },
    {
      "cell_type": "code",
      "metadata": {
        "colab": {
          "base_uri": "https://localhost:8080/"
        },
        "id": "1QP2lUFVePZe",
        "outputId": "a837e5e4-1eb1-48de-a894-4f27d57cae08"
      },
      "source": [
        "my_tesla = ElectricCar('tesla', 'model s', 2019)\r\n",
        "print(my_tesla.get_descriptive_name())\r\n",
        "my_tesla.describe_battery()"
      ],
      "execution_count": null,
      "outputs": [
        {
          "output_type": "stream",
          "text": [
            "2019 Tesla Model S\n",
            "This car has a 75-kWh battery...\n"
          ],
          "name": "stdout"
        }
      ]
    },
    {
      "cell_type": "markdown",
      "metadata": {
        "id": "6IQXaXyRehEz"
      },
      "source": [
        "# Overriding Methods from the Parent Class"
      ]
    },
    {
      "cell_type": "code",
      "metadata": {
        "id": "zm7tRGQleciv"
      },
      "source": [
        "class ElectricCar(Car):\r\n",
        "  def __init__(self, make, model, year):\r\n",
        "    super().__init__(make, model, year)\r\n",
        "    self.battery_size = 75\r\n",
        "  def describe_battery(self):\r\n",
        "    print(f\"This car has a {self.battery_size}-kWh battery..\")\r\n",
        "  def fill_gas_tank(self):\r\n",
        "    print(\"This car doesn't need a gas tank!\")\r\n"
      ],
      "execution_count": null,
      "outputs": []
    },
    {
      "cell_type": "code",
      "metadata": {
        "colab": {
          "base_uri": "https://localhost:8080/"
        },
        "id": "Dbg3y0c1fKw7",
        "outputId": "438d2c29-75c7-4a9a-ec99-be30aee3b25a"
      },
      "source": [
        "my_tesla2 = ElectricCar('tesla', 'model s', 2019)\r\n",
        "print(my_tesla2.get_descriptive_name())\r\n",
        "my_tesla2.describe_battery()"
      ],
      "execution_count": null,
      "outputs": [
        {
          "output_type": "stream",
          "text": [
            "2019 Tesla Model S\n",
            "This car has a 75-kWh battery..\n"
          ],
          "name": "stdout"
        }
      ]
    },
    {
      "cell_type": "code",
      "metadata": {
        "colab": {
          "base_uri": "https://localhost:8080/"
        },
        "id": "Hp1J_aBspEYE",
        "outputId": "4744a4ed-22ed-4cc7-b567-a036f40168d0"
      },
      "source": [
        "my_tesla2.fill_gas_tank())"
      ],
      "execution_count": null,
      "outputs": [
        {
          "output_type": "stream",
          "text": [
            "This car doesn't need a gas tank!\n"
          ],
          "name": "stdout"
        }
      ]
    },
    {
      "cell_type": "code",
      "metadata": {
        "id": "RQuUtULgpHSn"
      },
      "source": [
        "# Class"
      ],
      "execution_count": null,
      "outputs": []
    },
    {
      "cell_type": "markdown",
      "metadata": {
        "id": "SqDUZ5Qbrk0t"
      },
      "source": [
        "## Try It Yourself"
      ]
    },
    {
      "cell_type": "markdown",
      "metadata": {
        "id": "iHyr-8AVryK7"
      },
      "source": [
        "9-1. Restaurant: Make a class called Restaurant. The __init__() method for\r\n",
        "Restaurant should store two attributes: a restaurant_name and a cuisine_type.\r\n",
        "Make a method called describe_restaurant() that prints these two pieces of\r\n",
        "information, and a method called open_restaurant() that prints a message indicating that the restaurant is open.\r\n",
        "Make an instance called restaurant from your class. Print the two attributes individually, and then call both methods."
      ]
    },
    {
      "cell_type": "code",
      "metadata": {
        "colab": {
          "base_uri": "https://localhost:8080/",
          "height": 129
        },
        "id": "fVtdWAx9q7u4",
        "outputId": "27f39914-0eab-4ed4-ee53-41b18859c1b0"
      },
      "source": [
        "class Restaurent():\r\n",
        "  def __init__(self,)\r\n",
        "  self.restaurant_name = \"Javaed Nihari\"\r\n",
        "  self.cuisine_type =\"Nihari\"\r\n",
        "  \r\n",
        "  def describe_restaurent():\r\n",
        "    print(f\"{self.restaurant_name} is Currently Deliviring {cuisine_type}\")\r\n"
      ],
      "execution_count": null,
      "outputs": [
        {
          "output_type": "error",
          "ename": "SyntaxError",
          "evalue": "ignored",
          "traceback": [
            "\u001b[0;36m  File \u001b[0;32m\"<ipython-input-66-d060b56a6eab>\"\u001b[0;36m, line \u001b[0;32m2\u001b[0m\n\u001b[0;31m    def __init__(self,)\u001b[0m\n\u001b[0m                       ^\u001b[0m\n\u001b[0;31mSyntaxError\u001b[0m\u001b[0;31m:\u001b[0m invalid syntax\n"
          ]
        }
      ]
    },
    {
      "cell_type": "markdown",
      "metadata": {
        "id": "TI4TXRLDvxWu"
      },
      "source": [
        "9-2. Three Restaurants: Start with your class from Exercise 9-1. Create three\r\n",
        "different instances from the class, and call describe_restaurant() for each\r\n",
        "instance."
      ]
    },
    {
      "cell_type": "code",
      "metadata": {
        "id": "a1EXDonStKo9"
      },
      "source": [
        ""
      ],
      "execution_count": null,
      "outputs": []
    }
  ]
}