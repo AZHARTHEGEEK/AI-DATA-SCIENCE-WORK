{
  "nbformat": 4,
  "nbformat_minor": 0,
  "metadata": {
    "kernelspec": {
      "display_name": "Python 3",
      "language": "python",
      "name": "python3"
    },
    "language_info": {
      "codemirror_mode": {
        "name": "ipython",
        "version": 3
      },
      "file_extension": ".py",
      "mimetype": "text/x-python",
      "name": "python",
      "nbconvert_exporter": "python",
      "pygments_lexer": "ipython3",
      "version": "3.7.4"
    },
    "colab": {
      "name": "Binary Classification on Sonar DATASET.ipynb",
      "provenance": []
    }
  },
  "cells": [
    {
      "cell_type": "markdown",
      "metadata": {
        "id": "sFXhk-Xz-Alc"
      },
      "source": [
        "# Binary Classification Sonar Project 1 for the Navy:\n",
        "# Mines vs. Rocks"
      ]
    },
    {
      "cell_type": "markdown",
      "metadata": {
        "id": "U-vejNnB-Alh"
      },
      "source": [
        "In this project you will discover how to effectively use the Keras library in your machine learning\n",
        "project by working through a binary classification project step-by-step."
      ]
    },
    {
      "cell_type": "code",
      "metadata": {
        "colab": {
          "base_uri": "https://localhost:8080/"
        },
        "id": "A_WjR_v3-Ali",
        "outputId": "31ce7ec6-0c93-41d1-e1d9-34ebf70f980a"
      },
      "source": [
        "%time import numpy"
      ],
      "execution_count": 1,
      "outputs": [
        {
          "output_type": "stream",
          "text": [
            "CPU times: user 0 ns, sys: 11 µs, total: 11 µs\n",
            "Wall time: 15.5 µs\n"
          ],
          "name": "stdout"
        }
      ]
    },
    {
      "cell_type": "code",
      "metadata": {
        "colab": {
          "base_uri": "https://localhost:8080/"
        },
        "id": "MMfEX-3d-Alk",
        "outputId": "6beafd99-5da2-4d14-9f32-50a8b5fab36e"
      },
      "source": [
        "%time import pandas"
      ],
      "execution_count": 2,
      "outputs": [
        {
          "output_type": "stream",
          "text": [
            "CPU times: user 8 µs, sys: 2 µs, total: 10 µs\n",
            "Wall time: 14.3 µs\n"
          ],
          "name": "stdout"
        }
      ]
    },
    {
      "cell_type": "code",
      "metadata": {
        "colab": {
          "base_uri": "https://localhost:8080/"
        },
        "id": "llFn2ebO-Alk",
        "outputId": "b612ff11-1883-4ce6-c9cd-20c5136f5d08"
      },
      "source": [
        "%time from tensorflow.keras.models import Sequential"
      ],
      "execution_count": 3,
      "outputs": [
        {
          "output_type": "stream",
          "text": [
            "CPU times: user 1.59 s, sys: 263 ms, total: 1.85 s\n",
            "Wall time: 1.79 s\n"
          ],
          "name": "stdout"
        }
      ]
    },
    {
      "cell_type": "code",
      "metadata": {
        "id": "wBAejRp6-All"
      },
      "source": [
        "from tensorflow.keras.layers import Dense"
      ],
      "execution_count": 4,
      "outputs": []
    },
    {
      "cell_type": "code",
      "metadata": {
        "colab": {
          "base_uri": "https://localhost:8080/"
        },
        "id": "EleRgLof-All",
        "outputId": "835dcae3-8f6a-4798-bd69-fe71381c8b02"
      },
      "source": [
        "%time from tensorflow.keras.wrappers.scikit_learn import KerasClassifier"
      ],
      "execution_count": 5,
      "outputs": [
        {
          "output_type": "stream",
          "text": [
            "CPU times: user 9 µs, sys: 2 µs, total: 11 µs\n",
            "Wall time: 15.3 µs\n"
          ],
          "name": "stdout"
        }
      ]
    },
    {
      "cell_type": "code",
      "metadata": {
        "id": "nup0YY7O-Alm"
      },
      "source": [
        "from sklearn.model_selection import cross_val_score"
      ],
      "execution_count": 6,
      "outputs": []
    },
    {
      "cell_type": "code",
      "metadata": {
        "id": "vYqUHH9S-Aln"
      },
      "source": [
        "from sklearn.preprocessing import LabelEncoder"
      ],
      "execution_count": 7,
      "outputs": []
    },
    {
      "cell_type": "code",
      "metadata": {
        "id": "TQTF2U_K-Aln"
      },
      "source": [
        "from sklearn.model_selection import StratifiedKFold\n"
      ],
      "execution_count": 8,
      "outputs": []
    },
    {
      "cell_type": "code",
      "metadata": {
        "id": "14-0sWn9-Alo"
      },
      "source": [
        "from sklearn.preprocessing import StandardScaler"
      ],
      "execution_count": 9,
      "outputs": []
    },
    {
      "cell_type": "code",
      "metadata": {
        "id": "eheA_TAF-Alo"
      },
      "source": [
        "from sklearn.pipeline import Pipeline"
      ],
      "execution_count": 10,
      "outputs": []
    },
    {
      "cell_type": "code",
      "metadata": {
        "id": "Tps96aGI-Alp"
      },
      "source": [
        "from sklearn.pipeline import Pipeline"
      ],
      "execution_count": 11,
      "outputs": []
    },
    {
      "cell_type": "code",
      "metadata": {
        "id": "YWyThVz9-Alp"
      },
      "source": [
        "from sklearn.pipeline import Pipeline"
      ],
      "execution_count": 12,
      "outputs": []
    },
    {
      "cell_type": "code",
      "metadata": {
        "id": "VTiG3bYW-Alq"
      },
      "source": [
        "from sklearn.pipeline import Pipeline"
      ],
      "execution_count": 13,
      "outputs": []
    },
    {
      "cell_type": "code",
      "metadata": {
        "id": "GbwcFhUU-Alq"
      },
      "source": [
        "from tensorflow import keras"
      ],
      "execution_count": 14,
      "outputs": []
    },
    {
      "cell_type": "code",
      "metadata": {
        "id": "wRY8qFQq-Alq"
      },
      "source": [
        "import tensorflow"
      ],
      "execution_count": 15,
      "outputs": []
    },
    {
      "cell_type": "code",
      "metadata": {
        "id": "PXUSivU_-Alr"
      },
      "source": [
        "seed = 7\n",
        "numpy.random.seed(seed)"
      ],
      "execution_count": 16,
      "outputs": []
    },
    {
      "cell_type": "markdown",
      "metadata": {
        "id": "N1pk4VEl-Alr"
      },
      "source": [
        "•\tHow to load training data and make it available to Keras.\n",
        "    Ans:"
      ]
    },
    {
      "cell_type": "code",
      "metadata": {
        "id": "2hM-DhE_-Als"
      },
      "source": [
        "dataframe = pandas.read_csv(\"sonar.csv\", header=None)\n",
        "dataset = dataframe.values\n",
        "# split into input (X) and output (Y) variables\n",
        "X = dataset[:,0:60].astype(float)\n",
        "Y = dataset[:,60]"
      ],
      "execution_count": 18,
      "outputs": []
    },
    {
      "cell_type": "markdown",
      "metadata": {
        "id": "546LMGoZ-Als"
      },
      "source": [
        "# Baseline Neural Network Model Performance"
      ]
    },
    {
      "cell_type": "code",
      "metadata": {
        "id": "pwoRRHkX-Alt"
      },
      "source": [
        "\n",
        "# baseline model\n",
        "def create_baseline():\n",
        "  # create model, write code below\n",
        "    from tensorflow.keras import models\n",
        "    from tensorflow.keras import layers\n",
        "    model=keras.Sequential()\n",
        "      #input layer\n",
        "    model.add(Dense(60,activation='relu',input_shape=(60,)))\n",
        "      #output layer\n",
        "    model.add(Dense(1,activation='sigmoid'))\n",
        "    # Compile model, write code below\n",
        "    model.compile(optimizer='Adam',loss='binary_crossentropy',metrics=['accuracy'])\n",
        "    return model"
      ],
      "execution_count": 19,
      "outputs": []
    },
    {
      "cell_type": "code",
      "metadata": {
        "id": "xbRM1CBj-Alt"
      },
      "source": [
        "encoder=LabelEncoder()\n",
        "encoder.fit(Y)\n",
        "encoded_Y=encoder.transform(Y)\n",
        "mine=1\n",
        "rock=0"
      ],
      "execution_count": 20,
      "outputs": []
    },
    {
      "cell_type": "code",
      "metadata": {
        "colab": {
          "base_uri": "https://localhost:8080/"
        },
        "id": "e4k5EMso-Alu",
        "outputId": "d84dbca3-1b76-4441-aa0c-ac784c6abef5"
      },
      "source": [
        "\n",
        "# evaluate model with standardized dataset\n",
        "estimator = KerasClassifier(build_fn=create_baseline, epochs=100, batch_size=5, verbose=0)\n",
        "kfold = StratifiedKFold(n_splits=10, shuffle=True, random_state=seed)\n",
        "results = cross_val_score(estimator, X, encoded_Y, cv=kfold)\n",
        "print(\"Results: %.2f%% (%.2f%%)\" % (results.mean()*100, results.std()*100))\n"
      ],
      "execution_count": 21,
      "outputs": [
        {
          "output_type": "stream",
          "text": [
            "Results: 80.29% (7.93%)\n"
          ],
          "name": "stdout"
        }
      ]
    },
    {
      "cell_type": "markdown",
      "metadata": {
        "id": "UzN9bt07-Alu"
      },
      "source": [
        "# Re-Run The Baseline Model With Data Preparation"
      ]
    },
    {
      "cell_type": "code",
      "metadata": {
        "colab": {
          "base_uri": "https://localhost:8080/"
        },
        "id": "3q-YyDWL-Alv",
        "outputId": "6283b2f6-6ce2-433e-e0a4-a78956976007"
      },
      "source": [
        "# evaluate baseline model with standardized dataset\n",
        "numpy.random.seed(seed)\n",
        "estimators = []\n",
        "estimators.append(('standardize', StandardScaler()))\n",
        "estimators.append(('mlp', KerasClassifier(build_fn=create_baseline, epochs=100, batch_size=5, verbose=0)))\n",
        "pipeline = Pipeline(estimators)\n",
        "kfold = StratifiedKFold(n_splits=10, shuffle=True, random_state=seed)\n",
        "results = cross_val_score(pipeline, X, encoded_Y, cv=kfold)\n",
        "print(\"Standardized: %.2f%% (%.2f%%)\" % (results.mean()*100, results.std()*100))\n"
      ],
      "execution_count": 22,
      "outputs": [
        {
          "output_type": "stream",
          "text": [
            "Standardized: 83.60% (5.62%)\n"
          ],
          "name": "stdout"
        }
      ]
    },
    {
      "cell_type": "markdown",
      "metadata": {
        "id": "82QnuX7L-Alv"
      },
      "source": [
        "# Tuning Layers and Number of Neurons in The Model"
      ]
    },
    {
      "cell_type": "markdown",
      "metadata": {
        "id": "yhKm-0tZ-Alv"
      },
      "source": [
        "## Evaluate a Smaller Network"
      ]
    },
    {
      "cell_type": "code",
      "metadata": {
        "id": "oPxYKApM-Alw"
      },
      "source": [
        "# smaller model\n",
        "def create_smaller():\n",
        "    # create model\n",
        "    from tensorflow.keras import models\n",
        "    from tensorflow.keras import layers\n",
        "    model= tensorflow.keras.Sequential()\n",
        "      #input layer\n",
        "    model.add(Dense(30,activation='relu',input_shape=(60,)))\n",
        "      #output layer\n",
        "    model.add(Dense(1,activation='sigmoid'))\n",
        "\n",
        "    model.compile(optimizer='Adam',loss='binary_crossentropy',metrics=['accuracy'])\n",
        "    # Compile model\n",
        "\n",
        "    return model"
      ],
      "execution_count": 23,
      "outputs": []
    },
    {
      "cell_type": "code",
      "metadata": {
        "colab": {
          "base_uri": "https://localhost:8080/"
        },
        "id": "gW-mQ9uq-Alw",
        "outputId": "f2742b1f-1be3-4585-ad57-aaa24a997388"
      },
      "source": [
        "estimators = []\n",
        "estimators.append(('standardize', StandardScaler()))\n",
        "estimators.append(('mlp', KerasClassifier(build_fn=create_smaller, epochs=100, batch_size=5, verbose=0)))\n",
        "pipeline = Pipeline(estimators)\n",
        "kfold = StratifiedKFold(n_splits=10, shuffle=True, random_state=seed)\n",
        "results = cross_val_score(pipeline, X, encoded_Y, cv=kfold)\n",
        "print(\"Smaller: %.2f%% (%.2f%%)\" % (results.mean()*100, results.std()*100))"
      ],
      "execution_count": 24,
      "outputs": [
        {
          "output_type": "stream",
          "text": [
            "Smaller: 84.10% (5.54%)\n"
          ],
          "name": "stdout"
        }
      ]
    },
    {
      "cell_type": "markdown",
      "metadata": {
        "id": "fKQbPbVC-Alx"
      },
      "source": [
        "## Evaluate a Larger Network"
      ]
    },
    {
      "cell_type": "code",
      "metadata": {
        "id": "MtDuwdMn-Alx"
      },
      "source": [
        "# larger model\n",
        "def create_larger():\n",
        "    # create model\n",
        "    from tensorflow.keras import models\n",
        "    from tensorflow.keras import layers\n",
        "    model= tensorflow.keras.Sequential()\n",
        "  #input layer\n",
        "    model.add(Dense(60,activation='relu',input_shape=(60,)))\n",
        "    model.add(Dense(30,activation='relu'))\n",
        "  #output layer\n",
        "    model.add(Dense(1,activation='sigmoid'))\n",
        "\n",
        "    model.compile(optimizer='Adam',loss='binary_crossentropy',metrics=['accuracy'])\n",
        "    # Compile model\n",
        "    return model"
      ],
      "execution_count": 25,
      "outputs": []
    },
    {
      "cell_type": "code",
      "metadata": {
        "colab": {
          "base_uri": "https://localhost:8080/"
        },
        "id": "0uSyOB4x-Aly",
        "outputId": "8ed71cb1-b0a1-40f1-c037-49ef37cd99f4"
      },
      "source": [
        "estimators = []\n",
        "estimators.append(('standardize', StandardScaler()))\n",
        "estimators.append(('mlp', KerasClassifier(build_fn=create_larger, epochs=100, batch_size=5, verbose=0)))\n",
        "pipeline = Pipeline(estimators)\n",
        "kfold = StratifiedKFold(n_splits=10, shuffle=True, random_state=seed)\n",
        "results = cross_val_score(pipeline, X, encoded_Y, cv=kfold)\n",
        "print(\"Larger: %.2f%% (%.2f%%)\" % (results.mean()*100, results.std()*100))"
      ],
      "execution_count": 26,
      "outputs": [
        {
          "output_type": "stream",
          "text": [
            "Larger: 84.57% (5.33%)\n"
          ],
          "name": "stdout"
        }
      ]
    },
    {
      "cell_type": "markdown",
      "metadata": {
        "id": "oFI06qNj-Aly"
      },
      "source": [
        "## Really Scaling up: developing a model that overfits"
      ]
    },
    {
      "cell_type": "code",
      "metadata": {
        "id": "CUmbRUCr-Alz"
      },
      "source": [
        "# larger model\n",
        "def create_larger():\n",
        "   # create model\n",
        "    from tensorflow.keras import models\n",
        "    from tensorflow.keras import layers\n",
        "    model=tensorflow.keras.Sequential()\n",
        "  #input layer\n",
        "    model.add(Dense(60,activation='relu',input_shape=(60,)))\n",
        "    model.add(Dense(60,activation='relu'))\n",
        "    model.add(Dense(50,activation='relu'))\n",
        "  #output layer\n",
        "    model.add(Dense(1,activation='sigmoid'))\n",
        "    \n",
        "    model.compile(optimizer='Adam',loss='binary_crossentropy',metrics=['accuracy'])\n",
        "    # Compile model\n",
        "  \n",
        "    return model"
      ],
      "execution_count": 27,
      "outputs": []
    },
    {
      "cell_type": "code",
      "metadata": {
        "id": "NrQ_mW3B-Alz"
      },
      "source": [
        "estimators = []\n",
        "estimators.append(('standardize', StandardScaler()))\n",
        "estimators.append(('mlp', KerasClassifier(build_fn=create_larger, epochs=800, batch_size=5, verbose=0)))\n",
        "pipeline = Pipeline(estimators)\n",
        "kfold = StratifiedKFold(n_splits=10, shuffle=True, random_state=seed)\n",
        "results = cross_val_score(pipeline, X, encoded_Y, cv=kfold)\n",
        "print(\"Larger: %.2f%% (%.2f%%)\" % (results.mean()*100, results.std()*100))"
      ],
      "execution_count": null,
      "outputs": []
    },
    {
      "cell_type": "markdown",
      "metadata": {
        "id": "v25YeQGZ-Al0"
      },
      "source": [
        "# Tuning the Model"
      ]
    },
    {
      "cell_type": "code",
      "metadata": {
        "id": "ahNWa0jv-Al0"
      },
      "source": [
        "# larger model\n",
        "def create_Tunning_model():\n",
        "   # create model\n",
        "    from tensorflow.keras import models\n",
        "    from tensorflow.keras import layers\n",
        "    model=tensorflow.keras.Sequential()\n",
        "  #input layer\n",
        "    model.add(Dense(80,activation='relu',input_shape=(60,)))\n",
        "    model.add(Dense(60,activation='relu'))\n",
        "    model.add(Dense(30,activation='relu'))\n",
        "\n",
        "            #output layer\n",
        "    model.add(Dense(1,activation='sigmoid'))\n",
        "\n",
        "    model.compile(optimizer='rmsprop',loss='binary_crossentropy',metrics=['accuracy'])\n",
        "    # Compile model\n",
        "    return model"
      ],
      "execution_count": null,
      "outputs": []
    },
    {
      "cell_type": "code",
      "metadata": {
        "id": "1frg9hbz-Al0"
      },
      "source": [
        "estimators = []\n",
        "estimators.append(('standardize', StandardScaler()))\n",
        "estimators.append(('mlp', KerasClassifier(build_fn=create_Tunning_model, epochs=100, batch_size=5, verbose=0)))\n",
        "pipeline = Pipeline(estimators)\n",
        "kfold = StratifiedKFold(n_splits=10, shuffle=True, random_state=seed)\n",
        "results = cross_val_score(pipeline, X, encoded_Y, cv=kfold)\n",
        "print(\"Tunnig: %.2f%% (%.2f%%)\" % (results.mean()*100, results.std()*100))"
      ],
      "execution_count": null,
      "outputs": []
    },
    {
      "cell_type": "code",
      "metadata": {
        "id": "JJ-H5-a_-Al1"
      },
      "source": [
        "#done "
      ],
      "execution_count": null,
      "outputs": []
    },
    {
      "cell_type": "markdown",
      "metadata": {
        "id": "wg_QWYuw-Al1"
      },
      "source": [
        "ATG"
      ]
    }
  ]
}