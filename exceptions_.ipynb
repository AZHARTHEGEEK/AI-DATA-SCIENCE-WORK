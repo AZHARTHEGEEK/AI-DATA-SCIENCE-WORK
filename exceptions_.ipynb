{
  "nbformat": 4,
  "nbformat_minor": 0,
  "metadata": {
    "kernelspec": {
      "display_name": "Python 3",
      "language": "python",
      "name": "python3"
    },
    "language_info": {
      "codemirror_mode": {
        "name": "ipython",
        "version": 3
      },
      "file_extension": ".py",
      "mimetype": "text/x-python",
      "name": "python",
      "nbconvert_exporter": "python",
      "pygments_lexer": "ipython3",
      "version": "3.6.7"
    },
    "colab": {
      "name": "exceptions .ipynb",
      "provenance": [],
      "collapsed_sections": [],
      "include_colab_link": true
    }
  },
  "cells": [
    {
      "cell_type": "markdown",
      "metadata": {
        "id": "view-in-github",
        "colab_type": "text"
      },
      "source": [
        "<a href=\"https://colab.research.google.com/github/AZHARTHEGEEK/AI-DATA-SCIENCE-WORK/blob/main/exceptions_.ipynb\" target=\"_parent\"><img src=\"https://colab.research.google.com/assets/colab-badge.svg\" alt=\"Open In Colab\"/></a>"
      ]
    },
    {
      "cell_type": "code",
      "metadata": {
        "id": "r7v8bkGEbbSY",
        "colab": {
          "base_uri": "https://localhost:8080/"
        },
        "outputId": "bf036ffa-e935-4510-8b25-d06410b1bf47"
      },
      "source": [
        "\n",
        "print(\"hello\")"
      ],
      "execution_count": 2,
      "outputs": [
        {
          "output_type": "stream",
          "text": [
            "hello\n"
          ],
          "name": "stdout"
        }
      ]
    },
    {
      "cell_type": "code",
      "metadata": {
        "id": "bry5WMw3b4nl"
      },
      "source": [
        "# Syntax error & logical/Runtime error"
      ],
      "execution_count": null,
      "outputs": []
    },
    {
      "cell_type": "code",
      "metadata": {
        "id": "y1YM7iDfbbSb",
        "colab": {
          "base_uri": "https://localhost:8080/"
        },
        "outputId": "5746dc4a-c68d-4b97-a317-d383e3c30d42"
      },
      "source": [
        "\n",
        "\n",
        "a =int(input(\"Enter a number\")) \n",
        "b =int(input(\"Enter a number\")) \n",
        "try:\n",
        "  c = a/b\n",
        "  # zeero division\n",
        "  # null value\n",
        "  # value\n",
        "  \n",
        "\n",
        "except ZeroDivisionError:\n",
        "    print(\"ABe O insan ban\")\n",
        "except ValueError:\n",
        "  print(\"Value error handled\")\n",
        "\n",
        "else:\n",
        "  \n",
        "  print(c)\n"
      ],
      "execution_count": 3,
      "outputs": [
        {
          "output_type": "stream",
          "text": [
            "Enter a number4\n",
            "Enter a number5\n",
            "0.8\n"
          ],
          "name": "stdout"
        }
      ]
    },
    {
      "cell_type": "code",
      "metadata": {
        "id": "dOnSi0qzbbSd"
      },
      "source": [
        "\n",
        "a =int(input(\"Enter a number\")) \n",
        "b =int(input(\"Enter a number\")) \n",
        "try:\n",
        "    c = a/b\n",
        "except ZeroDivisionError:\n",
        "    print(\"Handled ZeroDivisionError\")\n",
        "else:\n",
        "    print(\"Else \" +str(c))\n",
        "\n",
        "\n",
        "\n"
      ],
      "execution_count": null,
      "outputs": []
    },
    {
      "cell_type": "code",
      "metadata": {
        "id": "LHUr00sbbbSf"
      },
      "source": [
        "\n",
        "print(\"First\")\n",
        "a =int(input(\"Enter a number\")) \n",
        "b =int(input(\"Enter a number\")) \n",
        "try:\n",
        "    c = a/b\n",
        "    print(c)\n",
        "except ZeroDivisionError:\n",
        "    print(\"Handled ZeroDivisionError\")\n",
        "\n",
        "\n",
        "print(\"last\")\n",
        "\n"
      ],
      "execution_count": null,
      "outputs": []
    },
    {
      "cell_type": "code",
      "metadata": {
        "id": "yHjx2bKobbSh"
      },
      "source": [
        "\n",
        "\n",
        "a =int(input(\"Enter a number\")) \n",
        "b =int(input(\"Enter a number\")) \n",
        "d = []\n",
        "try:\n",
        "    c = a/b\n",
        "    \n",
        "    e = d[5]\n",
        "    print(e)\n",
        "except ZeroDivisionError:\n",
        "    print(\"Handled ZeroDivisionError\")\n",
        "else:\n",
        "    print(c)\n",
        "\n",
        "\n",
        "\n"
      ],
      "execution_count": null,
      "outputs": []
    },
    {
      "cell_type": "code",
      "metadata": {
        "id": "Ivcx8ws2bbSi"
      },
      "source": [
        "\n",
        "print(\"First\")\n",
        "a =int(input(\"Enter a number\")) \n",
        "b =int(input(\"Enter a number\")) \n",
        "d = []\n",
        "try:\n",
        "    c = a/b\n",
        "    e = d[5]\n",
        "except ZeroDivisionError:\n",
        "    print(\"Handled ZeroDivisionError\")\n",
        "else:\n",
        "    print(c)\n",
        "\n",
        "print(\"last\")\n",
        "\n"
      ],
      "execution_count": null,
      "outputs": []
    },
    {
      "cell_type": "code",
      "metadata": {
        "id": "s9CmBYwkbbSk"
      },
      "source": [
        "\n",
        "\n",
        "a =int(input(\"Enter a number\")) \n",
        "b =int(input(\"Enter a number\")) \n",
        "d = []\n",
        "try:\n",
        "    c = a/b\n",
        "    e = d[5]\n",
        "except ZeroDivisionError: #Type Z and press tab to get list of Exception\n",
        "    print(\"Exception is caught ZeroDivisionError\")\n",
        "except  IndexError:                #Type I and press tab to get list of Exception\n",
        "    print(\"Exception is caught is list index out of range\")\n",
        "else:\n",
        "    print(c)\n",
        "    print(e)\n",
        "\n",
        "\n"
      ],
      "execution_count": null,
      "outputs": []
    },
    {
      "cell_type": "code",
      "metadata": {
        "id": "4zxypLG5bbSm"
      },
      "source": [
        "\n",
        "\n",
        "# a =int(input(\"Enter a number\")) \n",
        "# b =int(input(\"Enter a number\")) \n",
        "d = []\n",
        "try:\n",
        "    a =int(input(\"Enter a number\")) # to except null value and value tpye errors\n",
        "    b =int(input(\"Enter a number\")) # we kept these inputs also in try block\n",
        "    c = a/b\n",
        "    e = d[5]\n",
        "except:           # here we did not explain the type of exception. Genral exception will\n",
        "                  # be used. means it will catch every kind of exception\n",
        "    print(\"Exception is caught\")\n",
        "else:\n",
        "    print(c)\n",
        "\n",
        "\n"
      ],
      "execution_count": null,
      "outputs": []
    },
    {
      "cell_type": "code",
      "metadata": {
        "id": "TGpDymetbbSo"
      },
      "source": [
        "\n",
        "\n",
        "d = []\n",
        "try:\n",
        "  a =int(input(\"Enter a number\")) \n",
        "  b =int(input(\"Enter a number\")) \n",
        "    '''built in message print karna hy exception ka to {except Exception as e:}\n",
        "    is me jistrah ki acception aegi wo uska message khud he utha k laega or print karega\n",
        "    is code ko khud se run kare or exception raise kar k dekhen'''\n",
        "    c = a/b\n",
        "    ee = d[5]\n",
        "except Exception as e:\n",
        "    print(\"Handle Error == \" +str(e))\n",
        "else:\n",
        "    print(c)\n",
        "\n",
        "print('HelloWorld')"
      ],
      "execution_count": null,
      "outputs": []
    },
    {
      "cell_type": "code",
      "metadata": {
        "id": "AhOouAjMbbSr"
      },
      "source": [
        "\n",
        "a =int(input(\"Enter a number\")) \n",
        "b =int(input(\"Enter a number\")) \n",
        "d = []\n",
        "try:\n",
        "    c = a/b\n",
        "    e = d[5]\n",
        "    \n",
        "    \"\"\"yahan ek humne apni message likha hy or ek built in use kia hy\"\"\"\n",
        "    \n",
        "except ZeroDivisionError:\n",
        "    print(\"Handel ZeroDivisionError\")\n",
        "    \n",
        "except Exception as e:\n",
        "    \n",
        "    print(\"Handle Error == \" +str(e))\n",
        "    \n",
        "else:\n",
        "    print(c)\n",
        "\n",
        "\n",
        "\n"
      ],
      "execution_count": null,
      "outputs": []
    },
    {
      "cell_type": "code",
      "metadata": {
        "id": "7CMFytXDbbSt",
        "colab": {
          "base_uri": "https://localhost:8080/",
          "height": 129
        },
        "outputId": "a9652d4f-51c7-4dfc-875a-4b094455c16b"
      },
      "source": [
        "\n",
        "\n",
        "a =int(input(\"Enter a number\")) \n",
        "b =int(input(\"Enter a number\")) \n",
        "\n",
        "try:\n",
        "  d = []\n",
        "  c = a/b\n",
        "  e = d[]\n",
        "except ZeroDivisionError:\n",
        "    print(\"Handel ZeroDivisionError\")\n",
        "except IndentationError:\n",
        "  print(\"Index Error\")\n",
        "except ValueError:\n",
        "  print(\"Value Error\")\n",
        "except IndexError:\n",
        "  print(\"Index Error\")\n",
        "except invalid syntax:\n",
        "  print(\"invalid syntax\")\n",
        "finally:\n",
        "    print(\"Finally will always run\")\n",
        "\n",
        "\n",
        "\n"
      ],
      "execution_count": null,
      "outputs": [
        {
          "output_type": "error",
          "ename": "SyntaxError",
          "evalue": "ignored",
          "traceback": [
            "\u001b[0;36m  File \u001b[0;32m\"<ipython-input-17-491e8a4d13cd>\"\u001b[0;36m, line \u001b[0;32m9\u001b[0m\n\u001b[0;31m    e = d[]\u001b[0m\n\u001b[0m          ^\u001b[0m\n\u001b[0;31mSyntaxError\u001b[0m\u001b[0;31m:\u001b[0m invalid syntax\n"
          ]
        }
      ]
    },
    {
      "cell_type": "code",
      "metadata": {
        "id": "G2vdn4s7bbSv"
      },
      "source": [
        "f"
      ],
      "execution_count": null,
      "outputs": []
    },
    {
      "cell_type": "markdown",
      "metadata": {
        "id": "psyAubd-bbSy"
      },
      "source": [
        "###Rasing our own exceptions\n",
        "\n",
        "We can rasie exception by ourselves. ony any condition we defined like if a>10 raise exception\n",
        "like if user inputs value 10 raise exception bla bla bla bla......"
      ]
    },
    {
      "cell_type": "code",
      "metadata": {
        "id": "OAouiwsQbbSz"
      },
      "source": [
        "\n",
        "class Student():\n",
        "    def __init__(self,name,age):\n",
        "        if age > 80 or age <16:\n",
        "            raise Exception(\"Age can not be greater then 80 and less then 16\")\n",
        "        self.name = name\n",
        "        self.age = age"
      ],
      "execution_count": null,
      "outputs": []
    },
    {
      "cell_type": "code",
      "metadata": {
        "id": "FKP-nszQbbS1"
      },
      "source": [
        "age = int(input(\"Enter students age: \"))\n",
        "st = Student(\"Nasir\",age)\n",
        "print(st.age)\n"
      ],
      "execution_count": null,
      "outputs": []
    },
    {
      "cell_type": "markdown",
      "metadata": {
        "id": "J-1xUXDTbbS4"
      },
      "source": [
        "#Catching the exception raised by ourself###\n",
        "Exception catch karne ki liye wahi kam karenge k jahan se raise hone k dar ho usko try me\n",
        "dal den. or except me catch kara den. Go through the code......"
      ]
    },
    {
      "cell_type": "code",
      "metadata": {
        "id": "nkGII9_VbbS5"
      },
      "source": [
        "class Student():\n",
        "    def __init__(self,name,age):\n",
        "        if age > 80:\n",
        "            raise Exception(\"Age can not be greater then 80\")\n",
        "        self.name = name\n",
        "        self.age = age\n",
        "\n",
        "\n"
      ],
      "execution_count": null,
      "outputs": []
    },
    {
      "cell_type": "code",
      "metadata": {
        "id": "mknmaWhYbbS7"
      },
      "source": [
        "\n",
        "'''ab humen try except laga diya hy code crash nahi hoga '''\n",
        "try:\n",
        "    age = int(input(\"Enter students age: \"))\n",
        "    st = Student(\"Hello\",age)   # send different ages and see the result\n",
        "except Exception as e:\n",
        "    print(\"Exception \"+str(e))\n",
        "else :\n",
        "    print(st.age)\n"
      ],
      "execution_count": null,
      "outputs": []
    },
    {
      "cell_type": "markdown",
      "metadata": {
        "id": "pT_iQjwQbbS-"
      },
      "source": [
        "\n",
        "#####################################################\n",
        "#######Importantttttttttttttttttttttttttttttttt######\n",
        "#####################################################"
      ]
    },
    {
      "cell_type": "markdown",
      "metadata": {
        "id": "0RZ6wR4RbbS_"
      },
      "source": [
        "Making our class of exception::::::::\n",
        "Raising exception ourselves::::::\n",
        "\n",
        "Last code me we used python exception class\n",
        "Now we will make our own exception class and will used in the code.\n",
        "Dont panic guls and guys...\n",
        "\n"
      ]
    },
    {
      "cell_type": "code",
      "metadata": {
        "id": "w6N8bWvKbbTA"
      },
      "source": [
        "\n",
        "class Student():\n",
        "    def __init__(self,name,age):\n",
        "        if age > 80 or age <16:\n",
        "            raise StudentAgeException(\"Age can not be greater then 80 and less then 16\")\n",
        "            # we used here own class of exceptio\n",
        "        self.name = name\n",
        "        self.age = age\n",
        "\n",
        "'''All the exception raised are derived from a class Exception by default \n",
        "   We can make our own class of exception and can derived(inherit) it from parent\n",
        "   Exception class like this:'''        \n",
        "        \n",
        "class StudentAgeException(Exception):\n",
        "    pass\n"
      ],
      "execution_count": null,
      "outputs": []
    },
    {
      "cell_type": "code",
      "metadata": {
        "scrolled": true,
        "id": "38IUYPdnbbTC"
      },
      "source": [
        "age = int(input(\"Enter students age: \"))\n",
        "st = Student(\"Hello\",age)\n",
        "# abhi it is creating exception that is not handled\n",
        "print(st.age)\n",
        "\n",
        "####Note###\n",
        "'''exception raise karane k liye humne Exception python ki general wali use nahiiiiiii ki hy\n",
        "   abhi code crash hogaya hy kyu k humne abhi exception catch nahiiiiiiiiiiiiiiiiii ki hy'''"
      ],
      "execution_count": null,
      "outputs": []
    },
    {
      "cell_type": "markdown",
      "metadata": {
        "id": "lDqmztnhbbTE"
      },
      "source": [
        "\n",
        "#################################################################################\n",
        "Raising and catching our own exception [[[[defined in our own exception class]]]]\n",
        "Raising and catching our own exception [[[[defined in our own exception class]]]]\n",
        "Raising and catching our own exception [[[[defined in our own exception class]]]]\n",
        "Raising and catching our own exception [[[[defined in our own exception class]]]]\n",
        "Raising and catching our own exception [[[[defined in our own exception class]]]]\n",
        "#################################################################################"
      ]
    },
    {
      "cell_type": "code",
      "metadata": {
        "id": "JxuH8ss8bbTF",
        "colab": {
          "base_uri": "https://localhost:8080/",
          "height": 248
        },
        "outputId": "2825bb95-9e17-4033-f99f-ed1cba3c14f0"
      },
      "source": [
        "\n",
        "class Student():\n",
        "    def __init__(self,name,age):\n",
        "        if age > 80 or age <16:\n",
        "            raise StudentAgeException(\"Age can not be greater then 80 and less then 16\")\n",
        "        self.name = name\n",
        "        self.age = age\n",
        "\n",
        "class StudentAgeException(Exception):\n",
        "    pass\n",
        "\n",
        "\n",
        "try:\n",
        "    age = int(input(\"Enter students age: \"))\n",
        "    st = Student(\"Hello\",age)\n",
        "\n",
        "except StudentAgeException as e:\n",
        "    print(\"StudentAgeException == \"+str(e))\n",
        "else :\n",
        "    print(st.age) \n",
        "\n"
      ],
      "execution_count": null,
      "outputs": [
        {
          "output_type": "stream",
          "text": [
            "Enter students age: \n"
          ],
          "name": "stdout"
        },
        {
          "output_type": "error",
          "ename": "ValueError",
          "evalue": "ignored",
          "traceback": [
            "\u001b[0;31m---------------------------------------------------------------------------\u001b[0m",
            "\u001b[0;31mValueError\u001b[0m                                Traceback (most recent call last)",
            "\u001b[0;32m<ipython-input-4-4182e4d81fd5>\u001b[0m in \u001b[0;36m<module>\u001b[0;34m()\u001b[0m\n\u001b[1;32m     12\u001b[0m \u001b[0;34m\u001b[0m\u001b[0m\n\u001b[1;32m     13\u001b[0m \u001b[0;32mtry\u001b[0m\u001b[0;34m:\u001b[0m\u001b[0;34m\u001b[0m\u001b[0;34m\u001b[0m\u001b[0m\n\u001b[0;32m---> 14\u001b[0;31m     \u001b[0mage\u001b[0m \u001b[0;34m=\u001b[0m \u001b[0mint\u001b[0m\u001b[0;34m(\u001b[0m\u001b[0minput\u001b[0m\u001b[0;34m(\u001b[0m\u001b[0;34m\"Enter students age: \"\u001b[0m\u001b[0;34m)\u001b[0m\u001b[0;34m)\u001b[0m\u001b[0;34m\u001b[0m\u001b[0;34m\u001b[0m\u001b[0m\n\u001b[0m\u001b[1;32m     15\u001b[0m     \u001b[0mst\u001b[0m \u001b[0;34m=\u001b[0m \u001b[0mStudent\u001b[0m\u001b[0;34m(\u001b[0m\u001b[0;34m\"Hello\"\u001b[0m\u001b[0;34m,\u001b[0m\u001b[0mage\u001b[0m\u001b[0;34m)\u001b[0m\u001b[0;34m\u001b[0m\u001b[0;34m\u001b[0m\u001b[0m\n\u001b[1;32m     16\u001b[0m \u001b[0;34m\u001b[0m\u001b[0m\n",
            "\u001b[0;31mValueError\u001b[0m: invalid literal for int() with base 10: ''"
          ]
        }
      ]
    },
    {
      "cell_type": "code",
      "metadata": {
        "id": "GWLfr50sbbTI"
      },
      "source": [
        "def abc():\n",
        "  pass\n",
        "  \n"
      ],
      "execution_count": null,
      "outputs": []
    },
    {
      "cell_type": "code",
      "metadata": {
        "id": "3Cyfa_DNbbTN"
      },
      "source": [
        ""
      ],
      "execution_count": null,
      "outputs": []
    }
  ]
}