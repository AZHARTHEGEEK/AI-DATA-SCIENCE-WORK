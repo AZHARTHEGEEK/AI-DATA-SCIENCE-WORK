{
 "cells": [
  {
   "cell_type": "code",
   "execution_count": 5,
   "metadata": {},
   "outputs": [],
   "source": [
    "texttotransform = '''Let’s start with a simple analogy(likeness). You have a painting – say the Mona Lisa – and we have a master forger who want to make a duplicate painting of it. The forger does this by learning how the original painter – Leonardo Da Vinci – designed the painting.\n",
    "Meanwhile, you have an investigator who trying to capture the forger & second guess the rules the forger is learning from real dataset.\n",
    "The forger is that the generator network used to map this onto the architecture of a GAN, which learns the distribution(allocation) of classes used while the investigator is the discriminator network, which learning the boundaries between those classification\n",
    "– the formal 'shape' of the dataset.'''"
   ]
  },
  {
   "cell_type": "code",
   "execution_count": 6,
   "metadata": {},
   "outputs": [],
   "source": [
    "import text_modules"
   ]
  },
  {
   "cell_type": "markdown",
   "metadata": {},
   "source": [
    "# Lines Count"
   ]
  },
  {
   "cell_type": "code",
   "execution_count": 7,
   "metadata": {},
   "outputs": [
    {
     "name": "stdout",
     "output_type": "stream",
     "text": [
      "4\n"
     ]
    }
   ],
   "source": [
    "linescount = text_modules.lines(texttotransform)\n",
    "print(linescount)"
   ]
  },
  {
   "cell_type": "markdown",
   "metadata": {},
   "source": [
    "# Sentence Count"
   ]
  },
  {
   "cell_type": "code",
   "execution_count": 9,
   "metadata": {},
   "outputs": [
    {
     "name": "stdout",
     "output_type": "stream",
     "text": [
      "5\n"
     ]
    }
   ],
   "source": [
    "sentencecount = text_modules.sentences(texttotransform)\n",
    "print(sentencecount)"
   ]
  },
  {
   "cell_type": "markdown",
   "metadata": {},
   "source": [
    "# Word Count"
   ]
  },
  {
   "cell_type": "code",
   "execution_count": 10,
   "metadata": {},
   "outputs": [
    {
     "name": "stdout",
     "output_type": "stream",
     "text": [
      "117\n"
     ]
    }
   ],
   "source": [
    "wordcount =text_modules.words(texttotransform)\n",
    "print(wordcount)"
   ]
  },
  {
   "cell_type": "markdown",
   "metadata": {},
   "source": [
    "# Tab Count"
   ]
  },
  {
   "cell_type": "code",
   "execution_count": 11,
   "metadata": {},
   "outputs": [
    {
     "name": "stdout",
     "output_type": "stream",
     "text": [
      "0\n"
     ]
    }
   ],
   "source": [
    "tabcount =text_modules.tabs(texttotransform)\n",
    "print(tabcount)"
   ]
  },
  {
   "cell_type": "markdown",
   "metadata": {},
   "source": [
    "# Spaces Count"
   ]
  },
  {
   "cell_type": "code",
   "execution_count": 12,
   "metadata": {},
   "outputs": [
    {
     "name": "stdout",
     "output_type": "stream",
     "text": [
      "113\n"
     ]
    }
   ],
   "source": [
    "spacescount = text_modules.spaces(texttotransform)\n",
    "print(spacescount)"
   ]
  },
  {
   "cell_type": "markdown",
   "metadata": {},
   "source": [
    "# All Capital"
   ]
  },
  {
   "cell_type": "code",
   "execution_count": 13,
   "metadata": {},
   "outputs": [
    {
     "name": "stdout",
     "output_type": "stream",
     "text": [
      "LET’S START WITH A SIMPLE ANALOGY(LIKENESS). YOU HAVE A PAINTING – SAY THE MONA LISA – AND WE HAVE A MASTER FORGER WHO WANT TO MAKE A DUPLICATE PAINTING OF IT. THE FORGER DOES THIS BY LEARNING HOW THE ORIGINAL PAINTER – LEONARDO DA VINCI – DESIGNED THE PAINTING.\n",
      "MEANWHILE, YOU HAVE AN INVESTIGATOR WHO TRYING TO CAPTURE THE FORGER & SECOND GUESS THE RULES THE FORGER IS LEARNING FROM REAL DATASET.\n",
      "THE FORGER IS THAT THE GENERATOR NETWORK USED TO MAP THIS ONTO THE ARCHITECTURE OF A GAN, WHICH LEARNS THE DISTRIBUTION(ALLOCATION) OF CLASSES USED WHILE THE INVESTIGATOR IS THE DISCRIMINATOR NETWORK, WHICH LEARNING THE BOUNDARIES BETWEEN THOSE CLASSIFICATION\n",
      "– THE FORMAL 'SHAPE' OF THE DATASET.\n"
     ]
    }
   ],
   "source": [
    "allcapital = text_modules.capital(texttotransform)\n",
    "print(allcapital)"
   ]
  },
  {
   "cell_type": "markdown",
   "metadata": {},
   "source": [
    "# All Small"
   ]
  },
  {
   "cell_type": "code",
   "execution_count": 14,
   "metadata": {},
   "outputs": [
    {
     "name": "stdout",
     "output_type": "stream",
     "text": [
      "let’s start with a simple analogy(likeness). you have a painting – say the mona lisa – and we have a master forger who want to make a duplicate painting of it. the forger does this by learning how the original painter – leonardo da vinci – designed the painting.\n",
      "meanwhile, you have an investigator who trying to capture the forger & second guess the rules the forger is learning from real dataset.\n",
      "the forger is that the generator network used to map this onto the architecture of a gan, which learns the distribution(allocation) of classes used while the investigator is the discriminator network, which learning the boundaries between those classification\n",
      "– the formal 'shape' of the dataset.\n"
     ]
    }
   ],
   "source": [
    "allsmall = text_modules.small(texttotransform)\n",
    "print(allsmall)"
   ]
  },
  {
   "cell_type": "markdown",
   "metadata": {},
   "source": [
    "# Punctuations Removed"
   ]
  },
  {
   "cell_type": "code",
   "execution_count": 15,
   "metadata": {},
   "outputs": [
    {
     "name": "stdout",
     "output_type": "stream",
     "text": [
      "Let’s start with a simple analogylikeness You have a painting – say the Mona Lisa – and we have a master forger who want to make a duplicate painting of it The forger does this by learning how the original painter – Leonardo Da Vinci – designed the painting\n",
      "Meanwhile you have an investigator who trying to capture the forger  second guess the rules the forger is learning from real dataset\n",
      "The forger is that the generator network used to map this onto the architecture of a GAN which learns the distributionallocation of classes used while the investigator is the discriminator network which learning the boundaries between those classification\n",
      "– the formal shape of the dataset\n"
     ]
    }
   ],
   "source": [
    "puncremoved = text_modules.punctuations(texttotransform)\n",
    "print(puncremoved)"
   ]
  },
  {
   "cell_type": "code",
   "execution_count": null,
   "metadata": {},
   "outputs": [],
   "source": []
  }
 ],
 "metadata": {
  "kernelspec": {
   "display_name": "Python 3",
   "language": "python",
   "name": "python3"
  },
  "language_info": {
   "codemirror_mode": {
    "name": "ipython",
    "version": 3
   },
   "file_extension": ".py",
   "mimetype": "text/x-python",
   "name": "python",
   "nbconvert_exporter": "python",
   "pygments_lexer": "ipython3",
   "version": "3.7.6"
  }
 },
 "nbformat": 4,
 "nbformat_minor": 4
}
