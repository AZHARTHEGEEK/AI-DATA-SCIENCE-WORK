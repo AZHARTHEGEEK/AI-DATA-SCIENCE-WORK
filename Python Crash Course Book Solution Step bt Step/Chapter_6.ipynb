{
  "nbformat": 4,
  "nbformat_minor": 0,
  "metadata": {
    "colab": {
      "name": "Chapter_6.ipynb",
      "provenance": [],
      "collapsed_sections": []
    },
    "kernelspec": {
      "name": "python3",
      "display_name": "Python 3"
    }
  },
  "cells": [
    {
      "cell_type": "markdown",
      "metadata": {
        "id": "g0ySVAntl0BE"
      },
      "source": [
        "## Dictionaries"
      ]
    },
    {
      "cell_type": "markdown",
      "metadata": {
        "id": "Pw0FypRPl2dY"
      },
      "source": [
        "6-1. Person: Use a dictionary to store information about a person you know.\r\n",
        "Store their first name, last name, age, and the city in which they live. You\r\n",
        "should have keys such as first_name, last_name, age, and city. Print each\r\n",
        "piece of information stored in your dictionary."
      ]
    },
    {
      "cell_type": "code",
      "metadata": {
        "colab": {
          "base_uri": "https://localhost:8080/"
        },
        "id": "q7CL4WfTlrZm",
        "outputId": "da75504b-39e4-4f93-97fd-6bd8893ac07b"
      },
      "source": [
        "Person = {\r\n",
        "    \"first_name\": \"Muhammad\",\r\n",
        "    \"last_name\": \"Azhar\",\r\n",
        "    \"age\": 21,\r\n",
        "    \"city\": \"Karachi\",\r\n",
        "    }\r\n",
        "print(Person[\"first_name\"])\r\n",
        "print(Person[\"last_name\"])\r\n",
        "print(Person[\"age\"])\r\n",
        "print(Person[\"city\"])"
      ],
      "execution_count": 1,
      "outputs": [
        {
          "output_type": "stream",
          "text": [
            "Muhammad\n",
            "Azhar\n",
            "21\n",
            "Karachi\n"
          ],
          "name": "stdout"
        }
      ]
    },
    {
      "cell_type": "markdown",
      "metadata": {
        "id": "A9luY3_-t1vA"
      },
      "source": [
        "6-2. Favorite Numbers: Use a dictionary to store people’s favorite numbers.\r\n",
        "Think of five names, and use them as keys in your dictionary. Think of a favorite\r\n",
        "number for each person, and store each as a value in your dictionary. Print\r\n",
        "each person’s name and their favorite number. For even more fun, poll a few\r\n",
        "friends and get some actual data for your program."
      ]
    },
    {
      "cell_type": "code",
      "metadata": {
        "colab": {
          "base_uri": "https://localhost:8080/"
        },
        "id": "Q8VoFH2Etwik",
        "outputId": "ec40e9f6-46aa-4268-bdc5-0e455716f4b6"
      },
      "source": [
        "favorite_numbers = {\r\n",
        "    \"azhar\": 5,\r\n",
        "    \"khurram\": 6,\r\n",
        "    \"bilal\": 7,\r\n",
        "    \"arham\": 8,\r\n",
        "    \"elon mask\": 0,\r\n",
        "    }\r\n",
        "\r\n",
        "for key , value in favorite_numbers.items():\r\n",
        "  print(key.title()+\" Favourite number is \" + str(value) + \".\")"
      ],
      "execution_count": 30,
      "outputs": [
        {
          "output_type": "stream",
          "text": [
            "Azhar Favourite number is 5.\n",
            "Khurram Favourite number is 6.\n",
            "Bilal Favourite number is 7.\n",
            "Arham Favourite number is 8.\n",
            "Elon Mask Favourite number is 0.\n"
          ],
          "name": "stdout"
        }
      ]
    },
    {
      "cell_type": "markdown",
      "metadata": {
        "id": "WwMEzBiILcqY"
      },
      "source": [
        "6-3. Glossary: A Python dictionary can be used to model an actual dictionary.\r\n",
        "However, to avoid confusion, let’s call it a glossary.\r\n",
        "*\t Think of five programming words you’ve learned about in the previous\r\n",
        "chapters. Use these words as the keys in your glossary, and store their\r\n",
        "meanings as values.\r\n",
        "*\t Print each word and its meaning as neatly formatted output. You might\r\n",
        "print the word followed by a colon and then its meaning, or print the word\r\n",
        "on one line and then print its meaning indented on a second line. Use the\r\n",
        "newline character (\\n) to insert a blank line between each word-meaning\r\n",
        "pair in your output.\r\n"
      ]
    },
    {
      "cell_type": "code",
      "metadata": {
        "id": "9QQixp1TLgEu"
      },
      "source": [
        ""
      ],
      "execution_count": null,
      "outputs": []
    },
    {
      "cell_type": "code",
      "metadata": {
        "id": "7ERO32rKzbLj"
      },
      "source": [
        ""
      ],
      "execution_count": null,
      "outputs": []
    },
    {
      "cell_type": "code",
      "metadata": {
        "id": "HD49r5L20Ii4"
      },
      "source": [
        ""
      ],
      "execution_count": null,
      "outputs": []
    }
  ]
}