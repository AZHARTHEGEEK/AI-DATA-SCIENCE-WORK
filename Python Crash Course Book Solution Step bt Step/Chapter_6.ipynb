{
  "nbformat": 4,
  "nbformat_minor": 0,
  "metadata": {
    "colab": {
      "name": "Chapter_6.ipynb",
      "provenance": [],
      "collapsed_sections": []
    },
    "kernelspec": {
      "name": "python3",
      "display_name": "Python 3"
    }
  },
  "cells": [
    {
      "cell_type": "markdown",
      "metadata": {
        "id": "g0ySVAntl0BE"
      },
      "source": [
        "## Dictionaries"
      ]
    },
    {
      "cell_type": "markdown",
      "metadata": {
        "id": "Pw0FypRPl2dY"
      },
      "source": [
        "6-1. Person: Use a dictionary to store information about a person you know.\r\n",
        "Store their first name, last name, age, and the city in which they live. You\r\n",
        "should have keys such as first_name, last_name, age, and city. Print each\r\n",
        "piece of information stored in your dictionary."
      ]
    },
    {
      "cell_type": "code",
      "metadata": {
        "colab": {
          "base_uri": "https://localhost:8080/"
        },
        "id": "q7CL4WfTlrZm",
        "outputId": "da75504b-39e4-4f93-97fd-6bd8893ac07b"
      },
      "source": [
        "Person = {\r\n",
        "    \"first_name\": \"Muhammad\",\r\n",
        "    \"last_name\": \"Azhar\",\r\n",
        "    \"age\": 21,\r\n",
        "    \"city\": \"Karachi\",\r\n",
        "    }\r\n",
        "print(Person[\"first_name\"])\r\n",
        "print(Person[\"last_name\"])\r\n",
        "print(Person[\"age\"])\r\n",
        "print(Person[\"city\"])"
      ],
      "execution_count": null,
      "outputs": [
        {
          "output_type": "stream",
          "text": [
            "Muhammad\n",
            "Azhar\n",
            "21\n",
            "Karachi\n"
          ],
          "name": "stdout"
        }
      ]
    },
    {
      "cell_type": "markdown",
      "metadata": {
        "id": "A9luY3_-t1vA"
      },
      "source": [
        "6-2. Favorite Numbers: Use a dictionary to store people’s favorite numbers.\r\n",
        "Think of five names, and use them as keys in your dictionary. Think of a favorite\r\n",
        "number for each person, and store each as a value in your dictionary. Print\r\n",
        "each person’s name and their favorite number. For even more fun, poll a few\r\n",
        "friends and get some actual data for your program."
      ]
    },
    {
      "cell_type": "code",
      "metadata": {
        "colab": {
          "base_uri": "https://localhost:8080/"
        },
        "id": "Q8VoFH2Etwik",
        "outputId": "ec40e9f6-46aa-4268-bdc5-0e455716f4b6"
      },
      "source": [
        "favorite_numbers = {\r\n",
        "    \"azhar\": 5,\r\n",
        "    \"khurram\": 6,\r\n",
        "    \"bilal\": 7,\r\n",
        "    \"arham\": 8,\r\n",
        "    \"elon mask\": 0,\r\n",
        "    }\r\n",
        "for key , value in favorite_numbers.items():\r\n",
        "  print(key.title()+\" Favourite number is \" + str(value) + \".\")"
      ],
      "execution_count": null,
      "outputs": [
        {
          "output_type": "stream",
          "text": [
            "Azhar Favourite number is 5.\n",
            "Khurram Favourite number is 6.\n",
            "Bilal Favourite number is 7.\n",
            "Arham Favourite number is 8.\n",
            "Elon Mask Favourite number is 0.\n"
          ],
          "name": "stdout"
        }
      ]
    },
    {
      "cell_type": "markdown",
      "metadata": {
        "id": "WwMEzBiILcqY"
      },
      "source": [
        "6-3. Glossary: A Python dictionary can be used to model an actual dictionary.\r\n",
        "However, to avoid confusion, let’s call it a glossary.\r\n",
        "*\t Think of five programming words you’ve learned about in the previous\r\n",
        "chapters. Use these words as the keys in your glossary, and store their\r\n",
        "meanings as values.\r\n",
        "*\t Print each word and its meaning as neatly formatted output. You might\r\n",
        "print the word followed by a colon and then its meaning, or print the word\r\n",
        "on one line and then print its meaning indented on a second line. Use the\r\n",
        "newline character (\\n) to insert a blank line between each word-meaning\r\n",
        "pair in your output.\r\n"
      ]
    },
    {
      "cell_type": "code",
      "metadata": {
        "id": "9QQixp1TLgEu",
        "colab": {
          "base_uri": "https://localhost:8080/"
        },
        "outputId": "a6e28880-acc8-4020-f2e3-b4ccfd5cc74d"
      },
      "source": [
        "glossary = {\r\n",
        "  \"if elif else\": \"if, else, elif are used for conditional branching or decision making.\",\r\n",
        "  \"for\\t\": \"for is used for looping. Generally we use for when we know the number of times we want to loop.\",\r\n",
        "  \"List()\\t\": \"Used to store multiple items in a single variable.\",\r\n",
        "  \"dictionary\": \"Consists of a collection of key-value pairs. Each key-value pair maps the key to its associated value.\",\r\n",
        "  \"Comment (#)\": \"Comments are in the source code for humans to read, not for computers to execute.\"\r\n",
        "  }\r\n",
        "for key, value in glossary.items():\r\n",
        "    print(\"\\t\"+key+ \"\\t:\\t\" +value)"
      ],
      "execution_count": 9,
      "outputs": [
        {
          "output_type": "stream",
          "text": [
            "\tif elif else\t:\tif, else, elif are used for conditional branching or decision making.\n",
            "\tfor\t\t:\tfor is used for looping. Generally we use for when we know the number of times we want to loop.\n",
            "\tList()\t\t:\tUsed to store multiple items in a single variable.\n",
            "\tdictionary\t:\tConsists of a collection of key-value pairs. Each key-value pair maps the key to its associated value.\n",
            "\tComment (#)\t:\tComments are in the source code for humans to read, not for computers to execute.\n"
          ],
          "name": "stdout"
        }
      ]
    },
    {
      "cell_type": "markdown",
      "metadata": {
        "id": "ceTTr-oZ_VZW"
      },
      "source": [
        "6-4. Glossary 2: Now that you know how to loop through a dictionary, clean\r\n",
        "up the code from Exercise 6-3 (page 99) by replacing your series of print()\r\n",
        "calls with a loop that runs through the dictionary’s keys and values. When\r\n",
        "you’re sure that your loop works, add five more Python terms to your glossary.\r\n",
        "When you run your program again, these new words and meanings should\r\n",
        "automatically be included in the output."
      ]
    },
    {
      "cell_type": "code",
      "metadata": {
        "id": "7ERO32rKzbLj",
        "colab": {
          "base_uri": "https://localhost:8080/"
        },
        "outputId": "8cfb4ab2-f1c6-47e5-c9ef-6b8cb38e0f75"
      },
      "source": [
        "glossary = {\r\n",
        "  \"Variable\" : \"Reserved memory location to store values\",\r\n",
        "  \"if elif else\": \"if, else, elif are used for conditional branching or decision making.\",\r\n",
        "  \"for \\t\": \"for is used for looping. Generally we use for when we know the number of times we want to loop.\",\r\n",
        "  \"List() \\t\": \"Used to store multiple items in a single variable.\",\r\n",
        "  \"dictionary\": \"Consists of a collection of key-value pairs. Each key-value pair maps the key to its associated value.\",\r\n",
        "  \"Comment (#)\": \"Comments are in the source code for humans to read, not for computers to execute.\",\r\n",
        "  \"in \\t\": \"in is used to test if a sequence (list, tuple, string etc.) contains a value. It returns True if the value is present, else it returns False.\",\r\n",
        "  \"is \\t\": \"is is used in Python for testing object identity. While the == operator is used to test if two variables are equal or not, is is used to test if the two variables refer to the same object.\",\r\n",
        "  \"Operators\": \"Operators are special symbols in Python that carry out arithmetic or logical computation.\",\r\n",
        "  \"strip()\\t\": \"removes any leading (spaces at the beginning) and trailing (spaces at the end) characters (space is the default leading character to remove)\"\r\n",
        "\r\n",
        "  }\r\n",
        "for key, value in glossary.items():\r\n",
        "    print(\"\\t\"+key+ \"\\t:\\t\" +value)"
      ],
      "execution_count": 12,
      "outputs": [
        {
          "output_type": "stream",
          "text": [
            "\tVariable\t:\tReserved memory location to store values\n",
            "\tif elif else\t:\tif, else, elif are used for conditional branching or decision making.\n",
            "\tfor \t\t:\tfor is used for looping. Generally we use for when we know the number of times we want to loop.\n",
            "\tList() \t\t:\tUsed to store multiple items in a single variable.\n",
            "\tdictionary\t:\tConsists of a collection of key-value pairs. Each key-value pair maps the key to its associated value.\n",
            "\tComment (#)\t:\tComments are in the source code for humans to read, not for computers to execute.\n",
            "\tin \t\t:\tin is used to test if a sequence (list, tuple, string etc.) contains a value. It returns True if the value is present, else it returns False.\n",
            "\tis \t\t:\tis is used in Python for testing object identity. While the == operator is used to test if two variables are equal or not, is is used to test if the two variables refer to the same object.\n",
            "\tOperators\t:\tOperators are special symbols in Python that carry out arithmetic or logical computation.\n",
            "\tstrip()\t\t:\tremoves any leading (spaces at the beginning) and trailing (spaces at the end) characters (space is the default leading character to remove)\n"
          ],
          "name": "stdout"
        }
      ]
    },
    {
      "cell_type": "markdown",
      "metadata": {
        "id": "LQmhKpt4BuN9"
      },
      "source": [
        "6-5. Rivers: Make a dictionary containing three major rivers and the country\r\n",
        "each river runs through. One key-value pair might be 'nile': 'egypt'.\r\n",
        "*\t Use a loop to print a sentence about each river, such as The Nile runs\r\n",
        "through Egypt.\r\n",
        "*\t Use a loop to print the name of each river included in the dictionary.\r\n",
        "*\t Use a loop to print the name of each country included in the dictionary."
      ]
    },
    {
      "cell_type": "code",
      "metadata": {
        "id": "HD49r5L20Ii4",
        "colab": {
          "base_uri": "https://localhost:8080/"
        },
        "outputId": "be5b01b3-fbe2-4b05-af8e-9aec1d0885e0"
      },
      "source": [
        "rivers = {\"Amazon\":\"Brazil\", \"Nile\":\"Egypt\", \"Yangtze River\":\"China\"}\r\n",
        "print(\"Three major rivers and the country each river runs through are\")\r\n",
        "for key, value in rivers.items():\r\n",
        "    print(f\"{key} runs through {value}.\")"
      ],
      "execution_count": 13,
      "outputs": [
        {
          "output_type": "stream",
          "text": [
            "Three major rivers and the country each river runs through are\n",
            "Amazon runs through Brazil.\n",
            "Nile runs through Egypt.\n",
            "Yangtze River runs through China.\n"
          ],
          "name": "stdout"
        }
      ]
    },
    {
      "cell_type": "code",
      "metadata": {
        "colab": {
          "base_uri": "https://localhost:8080/"
        },
        "id": "mb7m5av_DT5c",
        "outputId": "0b023423-72d8-4e85-8d9d-834df8118413"
      },
      "source": [
        "for key in rivers.keys():\r\n",
        "    print(key)"
      ],
      "execution_count": 14,
      "outputs": [
        {
          "output_type": "stream",
          "text": [
            "Amazon\n",
            "Nile\n",
            "Yangtze River\n"
          ],
          "name": "stdout"
        }
      ]
    },
    {
      "cell_type": "code",
      "metadata": {
        "colab": {
          "base_uri": "https://localhost:8080/"
        },
        "id": "X0k1pa9MDZIR",
        "outputId": "42c70683-4dfa-4dee-f34f-070ec901467c"
      },
      "source": [
        "for value in rivers.values():\r\n",
        "    print(value)"
      ],
      "execution_count": 15,
      "outputs": [
        {
          "output_type": "stream",
          "text": [
            "Brazil\n",
            "Egypt\n",
            "China\n"
          ],
          "name": "stdout"
        }
      ]
    },
    {
      "cell_type": "markdown",
      "metadata": {
        "id": "C4VLkjVLDf0h"
      },
      "source": [
        "6-6. Polling: Use the code in favorite_languages.py (page 97).\r\n",
        "*\t Make a list of people who should take the favorite languages poll. Include\r\n",
        "some names that are already in the dictionary and some that are not.\r\n",
        "*\t Loop through the list of people who should take the poll. If they have\r\n",
        "already taken the poll, print a message thanking them for responding.\r\n",
        "If they have not yet taken the poll, print a message inviting them to take\r\n",
        "the poll."
      ]
    },
    {
      "cell_type": "code",
      "metadata": {
        "id": "FeKiLwsxDbrh"
      },
      "source": [
        "favorite_languages = {\r\n",
        " 'jen': 'python',\r\n",
        " 'sarah': 'c',\r\n",
        " 'edward': 'ruby',\r\n",
        " 'phil': 'python',\r\n",
        " }"
      ],
      "execution_count": 20,
      "outputs": []
    },
    {
      "cell_type": "code",
      "metadata": {
        "id": "BPdeFWJhKLNE"
      },
      "source": [
        "people = [\"Mehar\", \"jen\", \"Arham\", \"sarah\", \"Shehriyar\",\"edward\"]"
      ],
      "execution_count": 21,
      "outputs": []
    },
    {
      "cell_type": "code",
      "metadata": {
        "colab": {
          "base_uri": "https://localhost:8080/"
        },
        "id": "NtYCMHarK8sA",
        "outputId": "6dc911aa-f25f-4112-f2a6-34a538215bbf"
      },
      "source": [
        "for onepeople in people:\r\n",
        "  for key in favorite_languages.keys():\r\n",
        "    if onepeople == key:\r\n",
        "      print(f\"{onepeople}, Thank you for responding\")\r\n",
        "      break\r\n",
        "    else:\r\n",
        "      print(f\"{onepeople}, you are invited to take the poll.\")\r\n",
        "      break"
      ],
      "execution_count": 25,
      "outputs": [
        {
          "output_type": "stream",
          "text": [
            "Mehar, you are invited to take the poll.\n",
            "jen, Thank you for responding\n",
            "Arham, you are invited to take the poll.\n",
            "sarah, you are invited to take the poll.\n",
            "Shehriyar, you are invited to take the poll.\n",
            "edward, you are invited to take the poll.\n"
          ],
          "name": "stdout"
        }
      ]
    },
    {
      "cell_type": "markdown",
      "metadata": {
        "id": "3HYloxRcQI2Y"
      },
      "source": [
        "6-7. People: Start with the program you wrote for Exercise 6-1 (page 99).\r\n",
        "Make two new dictionaries representing different people, and store all three\r\n",
        "dictionaries in a list called people. Loop through your list of people. As you\r\n",
        "loop through the list, print everything you know about each person."
      ]
    },
    {
      "cell_type": "code",
      "metadata": {
        "id": "xXyJV0mzPj2j"
      },
      "source": [
        "Peoples = [{\r\n",
        "    \"first_name\": \"Muhammad\",\r\n",
        "    \"last_name\": \"Azhar\",\r\n",
        "    \"age\": 21,\r\n",
        "    \"city\": \"Karachi\"\r\n",
        "    },\r\n",
        "    {\r\n",
        "      \"first_name\": \"Mehar\",\r\n",
        "      \"last_name\": \"Khan Niazi\",\r\n",
        "      \"age\": 22,\r\n",
        "      \"city\": \"Mianwali\"\r\n",
        "     },\r\n",
        "     {\r\n",
        "      \"first_name\": \"Shahzad\",\r\n",
        "      \"last_name\": \"Munawar\",\r\n",
        "      \"age\": 21,\r\n",
        "      \"city\": \"Multan\"\r\n",
        "    },]"
      ],
      "execution_count": 46,
      "outputs": []
    },
    {
      "cell_type": "code",
      "metadata": {
        "colab": {
          "base_uri": "https://localhost:8080/"
        },
        "id": "tAT_TrW7Rqru",
        "outputId": "6a54146f-fe1d-4264-862f-7bec50559a02"
      },
      "source": [
        "for Person in People:\r\n",
        "    for key, value in Person.items():\r\n",
        "        print(f\"{key} : {value}\")\r\n",
        "    print(\"#####################\\n\")"
      ],
      "execution_count": 48,
      "outputs": [
        {
          "output_type": "stream",
          "text": [
            "first_name : Muhammad\n",
            "last_name : Azhar\n",
            "age : 21\n",
            "city : Karachi\n",
            "#####################\n",
            "\n",
            "first_name : Mehar\n",
            "last_name : Khan Niazi\n",
            "age : 22\n",
            "city : Mianwali\n",
            "#####################\n",
            "\n",
            "first_name : Shahzad\n",
            "last_name : Munawar\n",
            "age : 21\n",
            "city : Multan\n",
            "#####################\n",
            "\n"
          ],
          "name": "stdout"
        }
      ]
    },
    {
      "cell_type": "markdown",
      "metadata": {
        "id": "4L0dzB-GTsEa"
      },
      "source": [
        "6-8. Pets: Make several dictionaries, where each dictionary represents a different pet. In each dictionary, include the kind of animal and the owner’s name.\r\n",
        "Store these dictionaries in a list called pets. Next, loop through your list and as\r\n",
        "you do, print everything you know about each pet."
      ]
    },
    {
      "cell_type": "code",
      "metadata": {
        "id": "Ko-XF-XlTf8X"
      },
      "source": [
        "pets = [\r\n",
        "  {\"Cat\":\"Ghafoor\"},\r\n",
        "  {\"Dog\":\"Khalid\"},\r\n",
        "  {\"Cow\":\"Nasir\"},\r\n",
        "  {\"Goat\":\"Ali\"},\r\n",
        "  {\"Fish\":\"Ajmal\"}\r\n",
        "  ]"
      ],
      "execution_count": 50,
      "outputs": []
    },
    {
      "cell_type": "code",
      "metadata": {
        "colab": {
          "base_uri": "https://localhost:8080/"
        },
        "id": "E6p-w4udUeKk",
        "outputId": "4c64782e-6f3e-4efa-9f27-27ae5cd08358"
      },
      "source": [
        "for pet in pets:\r\n",
        "  for key, value in pet.items():\r\n",
        "    print(f\"Pet : {key} Owner's Name : {value}\")"
      ],
      "execution_count": 54,
      "outputs": [
        {
          "output_type": "stream",
          "text": [
            "Pet : Cat Owner's Name : Ghafoor\n",
            "Pet : Dog Owner's Name : Khalid\n",
            "Pet : Cow Owner's Name : Nasir\n",
            "Pet : Goat Owner's Name : Ali\n",
            "Pet : Fish Owner's Name : Ajmal\n"
          ],
          "name": "stdout"
        }
      ]
    },
    {
      "cell_type": "markdown",
      "metadata": {
        "id": "3BJWH6n7VUGH"
      },
      "source": [
        "6-9. Favorite Places: Make a dictionary called favorite_places. Think of three\r\n",
        "names to use as keys in the dictionary, and store one to three favorite places\r\n",
        "for each person. To make this exercise a bit more interesting, ask some friends\r\n",
        "to name a few of their favorite places. Loop through the dictionary, and print\r\n",
        "each person’s name and their favorite places."
      ]
    },
    {
      "cell_type": "code",
      "metadata": {
        "id": "Mq0Mxsm0Us3A"
      },
      "source": [
        "favorite_places = {\r\n",
        "    \"Khalid\":[\"Karachi\",\"Peshawar\",\"Quetta\"], \r\n",
        "    \"Iqbal\":[\"Istanbol\",\"Karachi\",\"Islamabad\"], \r\n",
        "    \"Mushtaq\":[\"Multan\",\"Tando Adam\",\"Thar\"]\r\n",
        "    }"
      ],
      "execution_count": 55,
      "outputs": []
    },
    {
      "cell_type": "code",
      "metadata": {
        "colab": {
          "base_uri": "https://localhost:8080/"
        },
        "id": "VmqB8eo8ZjvO",
        "outputId": "7c86a89b-7b1b-4aa6-a8d6-d0284b66bb26"
      },
      "source": [
        "for key, value in favorite_places.items():\r\n",
        "  print(f\"\\n\\nFriend Name : {key}\")\r\n",
        "  print(\"His Favourite Places are \",end=\" \")\r\n",
        "  for place in value:\r\n",
        "    print(place, end=\", \")"
      ],
      "execution_count": 56,
      "outputs": [
        {
          "output_type": "stream",
          "text": [
            "\n",
            "\n",
            "Friend Name : Khalid\n",
            "His Favourite Places are  Karachi, Peshawar, Quetta, \n",
            "\n",
            "Friend Name : Iqbal\n",
            "His Favourite Places are  Istanbol, Karachi, Islamabad, \n",
            "\n",
            "Friend Name : Mushtaq\n",
            "His Favourite Places are  Multan, Tando Adam, Thar, "
          ],
          "name": "stdout"
        }
      ]
    },
    {
      "cell_type": "markdown",
      "metadata": {
        "id": "FqZANGfLoKss"
      },
      "source": [
        "6-10. Favorite Numbers: Modify your program from Exercise 6-2 (page 99)\r\n",
        "so each person can have more than one favorite number. Then print each person’s name along with their favorite numbers"
      ]
    },
    {
      "cell_type": "code",
      "metadata": {
        "id": "flqx3BOPoGWp"
      },
      "source": [
        "favorite_numbers = {\r\n",
        "    \"azhar\": [5,4,3],\r\n",
        "    \"khurram\": [6,7,8],\r\n",
        "    \"bilal\": [1,5,7],\r\n",
        "    \"arham\": [0,1,5],\r\n",
        "    \"elon mask\": [0,2,10],\r\n",
        "    }"
      ],
      "execution_count": 60,
      "outputs": []
    },
    {
      "cell_type": "code",
      "metadata": {
        "colab": {
          "base_uri": "https://localhost:8080/"
        },
        "id": "dl8VWcgCoLnu",
        "outputId": "79b65f6c-58c4-4964-e96e-471fe656440f"
      },
      "source": [
        "for key , value in favorite_numbers.items():\r\n",
        "  print(key.title()+\" Favourite number is \" + str(value) + \".\\n\")"
      ],
      "execution_count": 62,
      "outputs": [
        {
          "output_type": "stream",
          "text": [
            "Azhar Favourite number is [5, 4, 3].\n",
            "\n",
            "Khurram Favourite number is [6, 7, 8].\n",
            "\n",
            "Bilal Favourite number is [1, 5, 7].\n",
            "\n",
            "Arham Favourite number is [0, 1, 5].\n",
            "\n",
            "Elon Mask Favourite number is [0, 2, 10].\n",
            "\n"
          ],
          "name": "stdout"
        }
      ]
    },
    {
      "cell_type": "markdown",
      "metadata": {
        "id": "GB2Di178og4L"
      },
      "source": [
        "6-11. Cities: Make a dictionary called cities. Use the names of three cities as\r\n",
        "keys in your dictionary. Create a dictionary of information about each city and\r\n",
        "include the country that the city is in, its approximate population, and one fact\r\n",
        "about that city. The keys for each city’s dictionary should be something like\r\n",
        "country, population, and fact. Print the name of each city and all of the information you have stored about it."
      ]
    },
    {
      "cell_type": "code",
      "metadata": {
        "id": "HDBOPkHMoZEV"
      },
      "source": [
        "cities = {\r\n",
        "    \"Karachi\":\r\n",
        "    {\"Country\":\"Pakistan\", \"Population\":\"30M\", \"Fact\":\"The city is the financial and commercial centre of Pakistan.\"}, \r\n",
        "    \"Islamabad\":\r\n",
        "    {\"Country\":\"Pakistan\", \"Population\":\"1.015M\", \"Fact\":\"The world's fourth-largest mosque Faisal Masjid\"}, \r\n",
        "    \"Multan\":\r\n",
        "    {\"Country\":\"Pakistan\", \"Population\":\"1.872M\", \"Fact\":\"One Word Sufi shrines\"}\r\n",
        "            }"
      ],
      "execution_count": 66,
      "outputs": []
    },
    {
      "cell_type": "code",
      "metadata": {
        "colab": {
          "base_uri": "https://localhost:8080/"
        },
        "id": "OWiA1Pr0oiPY",
        "outputId": "e10eac75-3bd5-4665-f3e1-b6184c3586f0"
      },
      "source": [
        "for key,value in cities.items():\r\n",
        "    print(\"\\nCity Name: {}\".format(key))\r\n",
        "    for keys, values in value.items():\r\n",
        "        print(f\"{keys}:{values}\")\r\n",
        "    print(\"#########################\\n\")"
      ],
      "execution_count": 69,
      "outputs": [
        {
          "output_type": "stream",
          "text": [
            "\n",
            "City Name: Karachi\n",
            "Country:Pakistan\n",
            "Population:30M\n",
            "Fact:The city is the financial and commercial centre of Pakistan.\n",
            "#########################\n",
            "\n",
            "\n",
            "City Name: Islamabad\n",
            "Country:Pakistan\n",
            "Population:1.015M\n",
            "Fact:The world's fourth-largest mosque Faisal Masjid\n",
            "#########################\n",
            "\n",
            "\n",
            "City Name: Multan\n",
            "Country:Pakistan\n",
            "Population:1.872M\n",
            "Fact:One Word Sufi shrines\n",
            "#########################\n",
            "\n"
          ],
          "name": "stdout"
        }
      ]
    },
    {
      "cell_type": "markdown",
      "metadata": {
        "id": "DqAfoHL7ouwt"
      },
      "source": [
        "6-12. Extensions: We’re now working with examples that are complex enough\r\n",
        "that they can be extended in any number of ways. Use one of the example programs from this chapter, and extend it by adding new keys and values, changing the context of the program or improving the formatting of the output."
      ]
    },
    {
      "cell_type": "code",
      "metadata": {
        "id": "AVxERO2eonBh"
      },
      "source": [
        "# Taking A Dict from Page 97 Modifying it by adding new key value\r\n",
        "favorite_languages = {\r\n",
        " 'jen': 'python',\r\n",
        " 'sarah': 'c',\r\n",
        " 'edward': 'ruby',\r\n",
        " 'phil': 'python',\r\n",
        " }"
      ],
      "execution_count": 72,
      "outputs": []
    },
    {
      "cell_type": "code",
      "metadata": {
        "colab": {
          "base_uri": "https://localhost:8080/"
        },
        "id": "GsWUbUl6ovvK",
        "outputId": "23d19519-1de2-40c8-fd3f-3b182e9b64bd"
      },
      "source": [
        "newkey = input(\"Enter Your Name : \\n\")\r\n",
        "newvalue = input(\"Enter Favourite Language Name : \\n\")"
      ],
      "execution_count": 74,
      "outputs": [
        {
          "output_type": "stream",
          "text": [
            "Enter Your Name : \n",
            "Muhammad Azhar\n",
            "Enter Favourite Language Name : \n",
            "Python & C\n"
          ],
          "name": "stdout"
        }
      ]
    },
    {
      "cell_type": "code",
      "metadata": {
        "id": "kEO30j-bo2uB"
      },
      "source": [
        "favorite_languages[newkey]=newvalue"
      ],
      "execution_count": 75,
      "outputs": []
    },
    {
      "cell_type": "code",
      "metadata": {
        "colab": {
          "base_uri": "https://localhost:8080/"
        },
        "id": "oXvBbl1lpB3z",
        "outputId": "4b69118d-ba3f-4108-d8ae-5a70a52cbee1"
      },
      "source": [
        "print(\"The Dict After Modifing the Dict User Define\")\r\n",
        "for key, value in favorite_languages.items():\r\n",
        "  print(f\"{key} : {value}\")\r\n"
      ],
      "execution_count": 78,
      "outputs": [
        {
          "output_type": "stream",
          "text": [
            "The Dict After Modifing the Dict User Define\n",
            "jen : python\n",
            "sarah : c\n",
            "edward : ruby\n",
            "phil : python\n",
            "Muhammad Azhar : Python & C\n"
          ],
          "name": "stdout"
        }
      ]
    },
    {
      "cell_type": "code",
      "metadata": {
        "id": "NTU8N8DepRlh"
      },
      "source": [
        "#Done Chapter 6"
      ],
      "execution_count": 79,
      "outputs": []
    }
  ]
}