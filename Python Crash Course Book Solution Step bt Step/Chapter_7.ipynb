{
  "nbformat": 4,
  "nbformat_minor": 0,
  "metadata": {
    "colab": {
      "name": "Chapter_7.ipynb",
      "provenance": [],
      "collapsed_sections": []
    },
    "kernelspec": {
      "name": "python3",
      "display_name": "Python 3"
    }
  },
  "cells": [
    {
      "cell_type": "markdown",
      "metadata": {
        "id": "tD4vlDHWqBr3"
      },
      "source": [
        "# User Input and while Loops"
      ]
    },
    {
      "cell_type": "markdown",
      "metadata": {
        "id": "rtDtjoOdqCnu"
      },
      "source": [
        "7-1. Rental Car: Write a program that asks the user what kind of rental car they\r\n",
        "would like. Print a message about that car, such as “Let me see if I can find you\r\n",
        "a Subaru.”"
      ]
    },
    {
      "cell_type": "code",
      "metadata": {
        "colab": {
          "base_uri": "https://localhost:8080/"
        },
        "id": "oFLjHP24p-VI",
        "outputId": "7135f6ef-d836-43f4-aa9b-3fd4b92ca629"
      },
      "source": [
        "car = input(\"What kind of rental car they would like ?\\nPlease Enter The Car Name : \")\r\n",
        "print(f\"Let me see if I can find you a {car}.\")"
      ],
      "execution_count": 5,
      "outputs": [
        {
          "output_type": "stream",
          "text": [
            "What kind of rental car they would like ?\n",
            "Please Enter The Car Name : Audi S\n",
            "Let me see if I can find you a Audi S.\n"
          ],
          "name": "stdout"
        }
      ]
    },
    {
      "cell_type": "markdown",
      "metadata": {
        "id": "mmoBZ30YrFEd"
      },
      "source": [
        "7-2. Restaurant Seating: Write a program that asks the user how many people\r\n",
        "are in their dinner group. If the answer is more than eight, print a message saying they’ll have to wait for a table. Otherwise, report that their table is ready."
      ]
    },
    {
      "cell_type": "code",
      "metadata": {
        "colab": {
          "base_uri": "https://localhost:8080/"
        },
        "id": "78gbgk7srFs7",
        "outputId": "e5b6c9ae-c757-4f50-cfac-10bab32bad27"
      },
      "source": [
        "Persons = int(input(\"How many people are in their dinner group ?\\nPlease Enter The Number : \"))\r\n",
        "if Persons > 8:\r\n",
        "  print(\"Please Wait For a Table\")\r\n",
        "else:\r\n",
        "  print(\"Table is ready.\")"
      ],
      "execution_count": 3,
      "outputs": [
        {
          "output_type": "stream",
          "text": [
            "How many people are in their dinner group ?\n",
            "Please Enter The Number : 5\n",
            "Table is ready.\n"
          ],
          "name": "stdout"
        }
      ]
    },
    {
      "cell_type": "markdown",
      "metadata": {
        "id": "EbTUJa0UrJBO"
      },
      "source": [
        "7-3. Multiples of Ten: Ask the user for a number, and then report whether the\r\n",
        "number is a multiple of 10 or not."
      ]
    },
    {
      "cell_type": "code",
      "metadata": {
        "colab": {
          "base_uri": "https://localhost:8080/"
        },
        "id": "xZA_UpAfrJpl",
        "outputId": "c44e20df-e9cf-4943-8f4e-9bda797dbe3c"
      },
      "source": [
        "inputnum = input(\"Enter number to find whether it is a multiple of 10 or not ?\\n Enter : \")\r\n"
      ],
      "execution_count": 1,
      "outputs": [
        {
          "output_type": "stream",
          "text": [
            "Enter number to find whether it is a multiple of 10 or not ?\n",
            " Enter : 5\n"
          ],
          "name": "stdout"
        }
      ]
    },
    {
      "cell_type": "code",
      "metadata": {
        "colab": {
          "base_uri": "https://localhost:8080/"
        },
        "id": "LlI5KmZev0rB",
        "outputId": "b1f48d52-a259-4c27-d419-b2765b41850d"
      },
      "source": [
        "if int(inputnum) % 10 == 0:\r\n",
        "  print(inputnum +\" is a multiple of 10.\")\r\n",
        "else:\r\n",
        "  print(inputnum+\" is not a multiple of 10.\")"
      ],
      "execution_count": 3,
      "outputs": [
        {
          "output_type": "stream",
          "text": [
            "5 is not a multiple of 10.\n"
          ],
          "name": "stdout"
        }
      ]
    },
    {
      "cell_type": "markdown",
      "metadata": {
        "id": "GdHjSsX4rKdD"
      },
      "source": [
        "7-4. Pizza Toppings: Write a loop that prompts the user to enter a series of\r\n",
        "pizza toppings until they enter a 'quit' value. As they enter each topping,\r\n",
        "print a message saying you’ll add that topping to their pizza."
      ]
    },
    {
      "cell_type": "code",
      "metadata": {
        "colab": {
          "base_uri": "https://localhost:8080/"
        },
        "id": "kF-jlMgprQAi",
        "outputId": "f0708649-1e35-46dd-de91-29dc7c5f3ce5"
      },
      "source": [
        "while True:\r\n",
        "  pizzatopping = input(\"Enter a pizza topping. Enter 'Quit' for exit:  \")\r\n",
        "  if pizzatopping.lower() == 'quit':\r\n",
        "    print(\"Exit, Thankyou!\")\r\n",
        "    break\r\n",
        "  else:\r\n",
        "    print(f\"I'll add {pizzatopping} to your Pizza.\")"
      ],
      "execution_count": 6,
      "outputs": [
        {
          "output_type": "stream",
          "text": [
            "Enter a pizza topping. Enter 'Quit' for exit:  Cherry\n",
            "I'll add Cherry to your Pizza.\n",
            "Enter a pizza topping. Enter 'Quit' for exit:  Chess\n",
            "I'll add Chess to your Pizza.\n",
            "Enter a pizza topping. Enter 'Quit' for exit:  Chiken\n",
            "I'll add Chiken to your Pizza.\n",
            "Enter a pizza topping. Enter 'Quit' for exit:  sausage\n",
            "I'll add sausage to your Pizza.\n",
            "Enter a pizza topping. Enter 'Quit' for exit:  Olive\n",
            "I'll add Olive to your Pizza.\n",
            "Enter a pizza topping. Enter 'Quit' for exit:  quit\n"
          ],
          "name": "stdout"
        }
      ]
    },
    {
      "cell_type": "markdown",
      "metadata": {
        "id": "JPIjrlJwrQq9"
      },
      "source": [
        "7-5. Movie Tickets: A movie theater charges different ticket prices depending on\r\n",
        "a person’s age. If a person is under the age of 3, the ticket is free; if they are\r\n",
        "between 3 and 12, the ticket is $10; and if they are over age 12, the ticket is\r\n",
        "$15. Write a loop in which you ask users their age, and then tell them the cost\r\n",
        "of their movie ticket."
      ]
    },
    {
      "cell_type": "code",
      "metadata": {
        "colab": {
          "base_uri": "https://localhost:8080/"
        },
        "id": "lIpNu-lUrS7T",
        "outputId": "57535766-b575-4e0a-d51a-5b65563e6c52"
      },
      "source": [
        "while True:\r\n",
        "  ticket = input(\"Enter your age to find your ticket's price. Enter 'Quit' for exit:  \")\r\n",
        "  if ticket.lower() == 'quit':\r\n",
        "    print(\"Exit, Thankyou!\")\r\n",
        "    break\r\n",
        "  elif int(ticket) < 3:\r\n",
        "    print(\"Your ticket is  free.\")\r\n",
        "  elif int(ticket) >= 3 and int(ticket) < 12:\r\n",
        "    print(\"Your ticket price is 10 Dollar.\")\r\n",
        "  else:\r\n",
        "    print(\"Your ticket price is 15 Dollar.\")"
      ],
      "execution_count": 10,
      "outputs": [
        {
          "output_type": "stream",
          "text": [
            "Enter your age to find your ticket's price. Enter 'Quit' for exit:  21\n",
            "Your ticket price is 15 Dollar.\n",
            "Enter your age to find your ticket's price. Enter 'Quit' for exit:  11\n",
            "Your ticket price is 10 Dollar.\n",
            "Enter your age to find your ticket's price. Enter 'Quit' for exit:  3\n",
            "Your ticket price is 10 Dollar.\n",
            "Enter your age to find your ticket's price. Enter 'Quit' for exit:  2\n",
            "Your ticket is  free.\n",
            "Enter your age to find your ticket's price. Enter 'Quit' for exit:  quit\n",
            "Exit, Thankyou!\n"
          ],
          "name": "stdout"
        }
      ]
    },
    {
      "cell_type": "markdown",
      "metadata": {
        "id": "xo859IaRrTYr"
      },
      "source": [
        "7-6. Three Exits: Write different versions of either Exercise 7-4 or Exercise 7-5\r\n",
        "that do each of the following at least once:\r\n",
        "*\t Use a conditional test in the while statement to stop the loop.\r\n",
        "*\t Use an active variable to control how long the loop runs.\r\n",
        "*\t Use a break statement to exit the loop when the user enters a 'quit' value."
      ]
    },
    {
      "cell_type": "code",
      "metadata": {
        "colab": {
          "base_uri": "https://localhost:8080/"
        },
        "id": "NkAc7G6irfYp",
        "outputId": "828b8960-6648-434c-9752-eccd9fdb5467"
      },
      "source": [
        "while True:\r\n",
        "  ticket = input(\"Enter your age to find your ticket's price. Enter 'Quit' for exit:  \")\r\n",
        "  if ticket.lower() == 'quit':\r\n",
        "    print(\"Exit, Thankyou!\")\r\n",
        "    break\r\n",
        "  elif int(ticket) < 3:\r\n",
        "    print(\"Your ticket is  free.\")\r\n",
        "  elif int(ticket) >= 3 and int(ticket) < 12:\r\n",
        "    print(\"Your ticket price is 10 Dollar.\")\r\n",
        "  else:\r\n",
        "    print(\"Your ticket price is 15 Dollar.\")"
      ],
      "execution_count": 15,
      "outputs": [
        {
          "output_type": "stream",
          "text": [
            "Enter your age to find your ticket's price. Enter 'Quit' for exit:  3\n",
            "Your ticket price is 10 Dollar.\n",
            "Enter your age to find your ticket's price. Enter 'Quit' for exit:  quit\n",
            "Exit, Thankyou!\n"
          ],
          "name": "stdout"
        }
      ]
    },
    {
      "cell_type": "code",
      "metadata": {
        "colab": {
          "base_uri": "https://localhost:8080/"
        },
        "id": "YnwXZ8cF1WU9",
        "outputId": "64a89385-7e62-4d94-bd9c-d39a0f259272"
      },
      "source": [
        "countnum = 0\r\n",
        "totalpeople = int(input(\"Enter the People Number who want to see the Clip\"))\r\n",
        "while countnum != totalpeople:\r\n",
        "  ticket = input(f\"Enter your age to find {countnum+1} person ticket's price. : \")\r\n",
        "  if int(ticket) < 3:\r\n",
        "    print(\"Your ticket is  free.\")\r\n",
        "  elif int(ticket) >= 3 and int(ticket) < 12:\r\n",
        "    print(\"Your ticket price is 10 Dollar.\")\r\n",
        "  else:\r\n",
        "    print(\"Your ticket price is 15 Dollar.\")\r\n",
        "  countnum =countnum+1"
      ],
      "execution_count": 21,
      "outputs": [
        {
          "output_type": "stream",
          "text": [
            "Enter the People Number who want to see the Clip2\n",
            "Enter your age to find 1 person ticket's price. : 3\n",
            "Your ticket price is 10 Dollar.\n",
            "Enter your age to find 2 person ticket's price. : 21\n",
            "Your ticket price is 15 Dollar.\n"
          ],
          "name": "stdout"
        }
      ]
    },
    {
      "cell_type": "markdown",
      "metadata": {
        "id": "iIwD9jIMrhxz"
      },
      "source": [
        "7-7. Infinity: Write a loop that never ends, and run it. (To end the loop, press\r\n",
        "ctrl-C or close the window displaying the output.)qu"
      ]
    },
    {
      "cell_type": "code",
      "metadata": {
        "id": "XqyH8PoYriLU"
      },
      "source": [
        ""
      ],
      "execution_count": null,
      "outputs": []
    },
    {
      "cell_type": "markdown",
      "metadata": {
        "id": "vKy_bQTLrmdz"
      },
      "source": [
        "7-8. Deli: Make a list called sandwich_orders and fill it with the names of various sandwiches. Then make an empty list called finished_sandwiches. Loop\r\n",
        "through the list of sandwich orders and print a message for each order, such\r\n",
        "as I made your tuna sandwich. As each sandwich is made, move it to the list\r\n",
        "of finished sandwiches. After all the sandwiches have been made, print a\r\n",
        "message listing each sandwich that was made"
      ]
    },
    {
      "cell_type": "code",
      "metadata": {
        "id": "qX9jWFN8rnLo"
      },
      "source": [
        ""
      ],
      "execution_count": null,
      "outputs": []
    },
    {
      "cell_type": "markdown",
      "metadata": {
        "id": "kOBPLkqAroEm"
      },
      "source": [
        "7-9. No Pastrami: Using the list sandwich_orders from Exercise 7-8, make sure\r\n",
        "the sandwich 'pastrami' appears in the list at least three times. Add code\r\n",
        "near the beginning of your program to print a message saying the deli has\r\n",
        "run out of pastrami, and then use a while loop to remove all occurrences of\r\n",
        "'pastrami' from sandwich_orders. Make sure no pastrami sandwiches end up\r\n",
        "in finished_sandwiches."
      ]
    },
    {
      "cell_type": "code",
      "metadata": {
        "id": "AdIyVf1urqpo"
      },
      "source": [
        ""
      ],
      "execution_count": null,
      "outputs": []
    },
    {
      "cell_type": "markdown",
      "metadata": {
        "id": "koihcDuUrrYl"
      },
      "source": [
        "7-10. Dream Vacation: Write a program that polls users about their dream vacation. Write a prompt similar to If you could visit one place in the world, where\r\n",
        "would you go? Include a block of code that prints the results of the poll."
      ]
    },
    {
      "cell_type": "code",
      "metadata": {
        "id": "QXvpeVrfrtIS"
      },
      "source": [
        ""
      ],
      "execution_count": null,
      "outputs": []
    }
  ]
}