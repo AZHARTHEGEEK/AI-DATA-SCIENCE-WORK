{
  "nbformat": 4,
  "nbformat_minor": 0,
  "metadata": {
    "colab": {
      "name": "Chapter 2.ipynb",
      "provenance": []
    },
    "kernelspec": {
      "name": "python3",
      "display_name": "Python 3"
    }
  },
  "cells": [
    {
      "cell_type": "markdown",
      "metadata": {
        "id": "KJO-rkP-Tut8"
      },
      "source": [
        "# Variables and Simple Data Types"
      ]
    },
    {
      "cell_type": "markdown",
      "metadata": {
        "id": "FJRXyMdJT6V7"
      },
      "source": [
        "### 2-1. Simple Message: Assign a message to a variable, and then print that message"
      ]
    },
    {
      "cell_type": "code",
      "metadata": {
        "id": "GceY1lAeTEKJ"
      },
      "source": [
        "message = '''Artificial Intelligence (AI) is the branch of computer sciences that\r\n",
        "emphasizes the development of intelligence machines, thinking and working like \r\n",
        "humans. For example, speech recognition, problem-solving, learning and planning.'''"
      ],
      "execution_count": 13,
      "outputs": []
    },
    {
      "cell_type": "code",
      "metadata": {
        "colab": {
          "base_uri": "https://localhost:8080/"
        },
        "id": "xebvaiQhUOpa",
        "outputId": "6d8e0729-e161-4724-fe92-50083f2ee71f"
      },
      "source": [
        "print(message)"
      ],
      "execution_count": 14,
      "outputs": [
        {
          "output_type": "stream",
          "text": [
            "Artificial Intelligence (AI) is the branch of computer sciences that\n",
            "emphasizes the development of intelligence machines, thinking and working like \n",
            "humans. For example, speech recognition, problem-solving, learning and planning.\n"
          ],
          "name": "stdout"
        }
      ]
    },
    {
      "cell_type": "markdown",
      "metadata": {
        "id": "DkGYw9EWU0Qk"
      },
      "source": [
        "###2-2. Simple Messages: Assign a message to a variable, and print that message Then change the value of the variable to a new message, and print the new message."
      ]
    },
    {
      "cell_type": "code",
      "metadata": {
        "id": "s4mBwPxAUUbz"
      },
      "source": [
        "cloud = '''Cloud computing is the on-demand availability of computer system resources, especially data storage (cloud storage) and computing power,\r\n",
        "without direct active management by the user. The term is generally used to describe data centers available to many users over the Internet.'''"
      ],
      "execution_count": 15,
      "outputs": []
    },
    {
      "cell_type": "code",
      "metadata": {
        "colab": {
          "base_uri": "https://localhost:8080/"
        },
        "id": "4pDRdELMVP66",
        "outputId": "cce8ae93-f880-42ba-91e9-756566870661"
      },
      "source": [
        "print(cloud)"
      ],
      "execution_count": 16,
      "outputs": [
        {
          "output_type": "stream",
          "text": [
            "Cloud computing is the on-demand availability of computer system resources, especially data storage (cloud storage) and computing power,\n",
            "without direct active management by the user. The term is generally used to describe data centers available to many users over the Internet.\n"
          ],
          "name": "stdout"
        }
      ]
    },
    {
      "cell_type": "code",
      "metadata": {
        "id": "K5Nl4dvYVSqR"
      },
      "source": [
        "cloud = '''AWS (Amazon Web Services) is a comprehensive, evolving cloud computing platform provided by Amazon that includes a mixture of infrastructure \r\n",
        "as a service (IaaS), platform as a service (PaaS) and packaged software as a service (SaaS) offerings.'''"
      ],
      "execution_count": 18,
      "outputs": []
    },
    {
      "cell_type": "code",
      "metadata": {
        "colab": {
          "base_uri": "https://localhost:8080/"
        },
        "id": "027vk1p0VhhJ",
        "outputId": "d9308d23-bcee-4e3f-f4d0-1985a13040cc"
      },
      "source": [
        "print(cloud)"
      ],
      "execution_count": 19,
      "outputs": [
        {
          "output_type": "stream",
          "text": [
            "AWS (Amazon Web Services) is a comprehensive, evolving cloud computing platform provided by Amazon that includes a mixture of infrastructure \n",
            "as a service (IaaS), platform as a service (PaaS) and packaged software as a service (SaaS) offerings.\n"
          ],
          "name": "stdout"
        }
      ]
    },
    {
      "cell_type": "code",
      "metadata": {
        "id": "mIg7aPVcVooy"
      },
      "source": [
        ""
      ],
      "execution_count": null,
      "outputs": []
    }
  ]
}