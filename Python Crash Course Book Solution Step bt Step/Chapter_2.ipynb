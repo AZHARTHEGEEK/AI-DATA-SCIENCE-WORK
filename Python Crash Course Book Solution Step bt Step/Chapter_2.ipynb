{
  "nbformat": 4,
  "nbformat_minor": 0,
  "metadata": {
    "colab": {
      "name": "Chapter 2.ipynb",
      "provenance": [],
      "collapsed_sections": [],
      "toc_visible": true
    },
    "kernelspec": {
      "name": "python3",
      "display_name": "Python 3"
    }
  },
  "cells": [
    {
      "cell_type": "markdown",
      "metadata": {
        "id": "KJO-rkP-Tut8"
      },
      "source": [
        "# Variables and Simple Data Types"
      ]
    },
    {
      "cell_type": "markdown",
      "metadata": {
        "id": "FJRXyMdJT6V7"
      },
      "source": [
        "2-1. Simple Message: Assign a message to a variable, and then print that message"
      ]
    },
    {
      "cell_type": "code",
      "metadata": {
        "id": "GceY1lAeTEKJ"
      },
      "source": [
        "message = '''Artificial Intelligence (AI) is the branch of computer sciences that\r\n",
        "emphasizes the development of intelligence machines, thinking and working like \r\n",
        "humans. For example, speech recognition, problem-solving, learning and planning.'''"
      ],
      "execution_count": null,
      "outputs": []
    },
    {
      "cell_type": "code",
      "metadata": {
        "colab": {
          "base_uri": "https://localhost:8080/"
        },
        "id": "xebvaiQhUOpa",
        "outputId": "6d8e0729-e161-4724-fe92-50083f2ee71f"
      },
      "source": [
        "print(message)"
      ],
      "execution_count": null,
      "outputs": [
        {
          "output_type": "stream",
          "text": [
            "Artificial Intelligence (AI) is the branch of computer sciences that\n",
            "emphasizes the development of intelligence machines, thinking and working like \n",
            "humans. For example, speech recognition, problem-solving, learning and planning.\n"
          ],
          "name": "stdout"
        }
      ]
    },
    {
      "cell_type": "markdown",
      "metadata": {
        "id": "DkGYw9EWU0Qk"
      },
      "source": [
        "2-2. Simple Messages: Assign a message to a variable, and print that message Then change the value of the variable to a new message, and print the new message."
      ]
    },
    {
      "cell_type": "code",
      "metadata": {
        "id": "s4mBwPxAUUbz"
      },
      "source": [
        "cloud = '''Cloud computing is the on-demand availability of computer system resources, especially data storage (cloud storage) and computing power,\r\n",
        "without direct active management by the user. The term is generally used to describe data centers available to many users over the Internet.'''"
      ],
      "execution_count": null,
      "outputs": []
    },
    {
      "cell_type": "code",
      "metadata": {
        "colab": {
          "base_uri": "https://localhost:8080/"
        },
        "id": "4pDRdELMVP66",
        "outputId": "cce8ae93-f880-42ba-91e9-756566870661"
      },
      "source": [
        "print(cloud)"
      ],
      "execution_count": null,
      "outputs": [
        {
          "output_type": "stream",
          "text": [
            "Cloud computing is the on-demand availability of computer system resources, especially data storage (cloud storage) and computing power,\n",
            "without direct active management by the user. The term is generally used to describe data centers available to many users over the Internet.\n"
          ],
          "name": "stdout"
        }
      ]
    },
    {
      "cell_type": "code",
      "metadata": {
        "id": "K5Nl4dvYVSqR"
      },
      "source": [
        "cloud = '''AWS (Amazon Web Services) is a comprehensive, evolving cloud computing platform provided by Amazon that includes a mixture of infrastructure \r\n",
        "as a service (IaaS), platform as a service (PaaS) and packaged software as a service (SaaS) offerings.'''"
      ],
      "execution_count": null,
      "outputs": []
    },
    {
      "cell_type": "code",
      "metadata": {
        "colab": {
          "base_uri": "https://localhost:8080/"
        },
        "id": "027vk1p0VhhJ",
        "outputId": "d9308d23-bcee-4e3f-f4d0-1985a13040cc"
      },
      "source": [
        "print(cloud)"
      ],
      "execution_count": null,
      "outputs": [
        {
          "output_type": "stream",
          "text": [
            "AWS (Amazon Web Services) is a comprehensive, evolving cloud computing platform provided by Amazon that includes a mixture of infrastructure \n",
            "as a service (IaaS), platform as a service (PaaS) and packaged software as a service (SaaS) offerings.\n"
          ],
          "name": "stdout"
        }
      ]
    },
    {
      "cell_type": "markdown",
      "metadata": {
        "id": "JNzkmY0aWXvl"
      },
      "source": [
        "2-3. Personal Message: Use a variable to represent a person’s name, an print a message to that person. Your message should be simple, such as, “Hello Eric, would you like to learn some Python today?”"
      ]
    },
    {
      "cell_type": "code",
      "metadata": {
        "id": "mIg7aPVcVooy"
      },
      "source": [
        "name = \"Muhammad Azhar\""
      ],
      "execution_count": null,
      "outputs": []
    },
    {
      "cell_type": "code",
      "metadata": {
        "colab": {
          "base_uri": "https://localhost:8080/"
        },
        "id": "zAc9dMZFWu8w",
        "outputId": "c12af8b4-4352-4ca8-f7ea-7e17b78760e2"
      },
      "source": [
        "print(f\"Assalam O Alaikum {name} , Would you like to Learn Python\")"
      ],
      "execution_count": null,
      "outputs": [
        {
          "output_type": "stream",
          "text": [
            "Assalam O Alaikum Muhammad Azhar , Would you like to Learn Python\n"
          ],
          "name": "stdout"
        }
      ]
    },
    {
      "cell_type": "markdown",
      "metadata": {
        "id": "58HS1jE2Xmmy"
      },
      "source": [
        "2-4. Name Cases: Use a variable to represent a person’s name, and then print that person’s name in lowercase, uppercase, and title case.\r\n"
      ]
    },
    {
      "cell_type": "code",
      "metadata": {
        "id": "N6JhYSGDXcF5"
      },
      "source": [
        "name= \"Azhar\""
      ],
      "execution_count": null,
      "outputs": []
    },
    {
      "cell_type": "code",
      "metadata": {
        "colab": {
          "base_uri": "https://localhost:8080/"
        },
        "id": "-6S8d9lTXuaw",
        "outputId": "51c160d0-a105-4d99-89ed-9e1a9c6cb894"
      },
      "source": [
        "print(name.lower())"
      ],
      "execution_count": null,
      "outputs": [
        {
          "output_type": "stream",
          "text": [
            "azhar\n"
          ],
          "name": "stdout"
        }
      ]
    },
    {
      "cell_type": "code",
      "metadata": {
        "colab": {
          "base_uri": "https://localhost:8080/"
        },
        "id": "afT3xCs0X0vi",
        "outputId": "ca60b22c-91e1-44b1-ad83-65c6597c4b58"
      },
      "source": [
        "print(name.upper())"
      ],
      "execution_count": null,
      "outputs": [
        {
          "output_type": "stream",
          "text": [
            "AZHAR\n"
          ],
          "name": "stdout"
        }
      ]
    },
    {
      "cell_type": "code",
      "metadata": {
        "colab": {
          "base_uri": "https://localhost:8080/"
        },
        "id": "-hM-eRqSX4Dw",
        "outputId": "5e265cfa-8804-4e9f-a348-591ddaf91ffc"
      },
      "source": [
        "print(name.title())"
      ],
      "execution_count": null,
      "outputs": [
        {
          "output_type": "stream",
          "text": [
            "Azhar\n"
          ],
          "name": "stdout"
        }
      ]
    },
    {
      "cell_type": "markdown",
      "metadata": {
        "id": "LwIqfNo0YGp6"
      },
      "source": [
        "2-5. Famous Quote: Find a quote from a famous person you admire. Print the quote and the name of its author. Your output should look something like the following, including the quotation marks: Albert Einstein once said, “A person who never made a mistake never tried anything new.”"
      ]
    },
    {
      "cell_type": "code",
      "metadata": {
        "colab": {
          "base_uri": "https://localhost:8080/"
        },
        "id": "qFqFt8cEYkNY",
        "outputId": "ec304f20-fc7e-4d85-ca53-4672d5437d38"
      },
      "source": [
        "print(f\"\\t Quaid e Azam Once said,\\n\\t \\\"Think 100 times before you take a decision,\\n\\t But once that decision is taken, stand by it as one man.\\\"\")"
      ],
      "execution_count": null,
      "outputs": [
        {
          "output_type": "stream",
          "text": [
            "\t Quaid e Azam Once said,\n",
            "\t \"Think 100 times before you take a decision,\n",
            "\t But once that decision is taken, stand by it as one man.\"\n"
          ],
          "name": "stdout"
        }
      ]
    },
    {
      "cell_type": "markdown",
      "metadata": {
        "id": "e3Z4McnXZXSx"
      },
      "source": [
        "2-6. Famous Quote 2: Repeat Exercise 2-5, but this time, represent the famous person’s name using a variable called famous_person. Then compose your message and represent it with a new variable called message. Print your message."
      ]
    },
    {
      "cell_type": "code",
      "metadata": {
        "id": "v0f1L6jDZEFf"
      },
      "source": [
        "Person_Name = \"Quaid e Azam\""
      ],
      "execution_count": null,
      "outputs": []
    },
    {
      "cell_type": "code",
      "metadata": {
        "id": "j6Eg3HGQyPOY"
      },
      "source": [
        "Quote = \"Think 100 times before you take a decision,\\n\\t But once that decision is taken, stand by it as one man.\""
      ],
      "execution_count": null,
      "outputs": []
    },
    {
      "cell_type": "code",
      "metadata": {
        "colab": {
          "base_uri": "https://localhost:8080/"
        },
        "id": "BpVwZLolyRlG",
        "outputId": "899b0bce-e2fa-49de-f397-017b4f8026ff"
      },
      "source": [
        "print(f\"\\t {Person_Name} Once said,\\n\\t \\\"{Quote}\\\"\")"
      ],
      "execution_count": null,
      "outputs": [
        {
          "output_type": "stream",
          "text": [
            "\t Quaid e Azam Once said,\n",
            "\t \"Think 100 times before you take a decision,\n",
            "\t But once that decision is taken, stand by it as one man.\"\n"
          ],
          "name": "stdout"
        }
      ]
    },
    {
      "cell_type": "markdown",
      "metadata": {
        "id": "ZrQS9ggEyyXA"
      },
      "source": [
        "2-7. Stripping Names: Use a variable to represent a person’s name, and include\r\n",
        "some whitespace characters at the beginning and end of the name. Make sure\r\n",
        "you use each character combination, \"\\t\" and \"\\n\", at least once.\r\n",
        "\r\n",
        "Print the name once, so the whitespace around the name is displayed.\r\n",
        "Then print the name using each of the three stripping functions, lstrip(),\r\n",
        "rstrip(), and strip()."
      ]
    },
    {
      "cell_type": "code",
      "metadata": {
        "id": "hLi03c7nySgE"
      },
      "source": [
        "name = \"   \\t\\tMuhammad   \\t \\n Azhar !!! \""
      ],
      "execution_count": 81,
      "outputs": []
    },
    {
      "cell_type": "code",
      "metadata": {
        "id": "_P4NMO1S85iQ",
        "colab": {
          "base_uri": "https://localhost:8080/"
        },
        "outputId": "0e030592-edf8-4e95-cbb5-c0bcc01af3c7"
      },
      "source": [
        "print(name)"
      ],
      "execution_count": 82,
      "outputs": [
        {
          "output_type": "stream",
          "text": [
            "   \t\tMuhammad   \t \n",
            " Azhar !!! \n"
          ],
          "name": "stdout"
        }
      ]
    },
    {
      "cell_type": "code",
      "metadata": {
        "id": "nhVCa_i39Q1H",
        "colab": {
          "base_uri": "https://localhost:8080/"
        },
        "outputId": "6753e929-0f2f-44e9-a0e0-87cc8e2c7c37"
      },
      "source": [
        "print(name.lstrip())"
      ],
      "execution_count": 83,
      "outputs": [
        {
          "output_type": "stream",
          "text": [
            "Muhammad   \t \n",
            " Azhar !!! \n"
          ],
          "name": "stdout"
        }
      ]
    },
    {
      "cell_type": "code",
      "metadata": {
        "colab": {
          "base_uri": "https://localhost:8080/",
          "height": 35
        },
        "id": "iH8Xc4ccu_lY",
        "outputId": "a8a66a7a-2f06-495a-9dc2-a8b251ab08db"
      },
      "source": [
        "name.lstrip()"
      ],
      "execution_count": 84,
      "outputs": [
        {
          "output_type": "execute_result",
          "data": {
            "application/vnd.google.colaboratory.intrinsic+json": {
              "type": "string"
            },
            "text/plain": [
              "'Muhammad   \\t \\n Azhar !!! '"
            ]
          },
          "metadata": {
            "tags": []
          },
          "execution_count": 84
        }
      ]
    },
    {
      "cell_type": "code",
      "metadata": {
        "colab": {
          "base_uri": "https://localhost:8080/"
        },
        "id": "iy_RKOwhdl-0",
        "outputId": "7585a381-37fa-48ec-94e4-56a1fcf0bd80"
      },
      "source": [
        "print(name.rstrip())"
      ],
      "execution_count": 85,
      "outputs": [
        {
          "output_type": "stream",
          "text": [
            "   \t\tMuhammad   \t \n",
            " Azhar !!!\n"
          ],
          "name": "stdout"
        }
      ]
    },
    {
      "cell_type": "code",
      "metadata": {
        "colab": {
          "base_uri": "https://localhost:8080/",
          "height": 35
        },
        "id": "vXpSj9M8vCnm",
        "outputId": "866d8edd-c061-4933-89ba-61a228b0fb4f"
      },
      "source": [
        "name.rstrip()"
      ],
      "execution_count": 86,
      "outputs": [
        {
          "output_type": "execute_result",
          "data": {
            "application/vnd.google.colaboratory.intrinsic+json": {
              "type": "string"
            },
            "text/plain": [
              "'   \\t\\tMuhammad   \\t \\n Azhar !!!'"
            ]
          },
          "metadata": {
            "tags": []
          },
          "execution_count": 86
        }
      ]
    },
    {
      "cell_type": "code",
      "metadata": {
        "colab": {
          "base_uri": "https://localhost:8080/"
        },
        "id": "Yj_7VE0MenAx",
        "outputId": "49587a7d-32ae-4b92-a55f-3a8b3dfbee90"
      },
      "source": [
        "print(name.strip())"
      ],
      "execution_count": 87,
      "outputs": [
        {
          "output_type": "stream",
          "text": [
            "Muhammad   \t \n",
            " Azhar !!!\n"
          ],
          "name": "stdout"
        }
      ]
    },
    {
      "cell_type": "code",
      "metadata": {
        "id": "pl6GMTOarunz"
      },
      "source": [
        "#print(name.rstrip(\"!\")) "
      ],
      "execution_count": 91,
      "outputs": []
    },
    {
      "cell_type": "markdown",
      "metadata": {
        "id": "ZS-vrkdWv0T7"
      },
      "source": [
        "2-8. Number Eight: Write addition, subtraction, multiplication, and division\r\n",
        "operations that each result in the number 8. Be sure to enclose your operations\r\n",
        "in print() calls to see the results. You should create four lines that look like this:\r\n",
        "print(5+3)\r\n",
        "Your output should simply be four lines with the number 8 appearing once\r\n",
        "on each line"
      ]
    },
    {
      "cell_type": "code",
      "metadata": {
        "colab": {
          "base_uri": "https://localhost:8080/"
        },
        "id": "B-QTxo6Vvl8a",
        "outputId": "cb2ae372-5c64-400f-d911-3009f8e05c5a"
      },
      "source": [
        "print(5+3) #ADDITION"
      ],
      "execution_count": 92,
      "outputs": [
        {
          "output_type": "stream",
          "text": [
            "8\n"
          ],
          "name": "stdout"
        }
      ]
    },
    {
      "cell_type": "code",
      "metadata": {
        "colab": {
          "base_uri": "https://localhost:8080/"
        },
        "id": "z0V2jNqhwKTW",
        "outputId": "d5a2e6d5-7ded-47db-9211-bf64c1e6f449"
      },
      "source": [
        "print(10-2) #SUBSTRATION"
      ],
      "execution_count": 93,
      "outputs": [
        {
          "output_type": "stream",
          "text": [
            "8\n"
          ],
          "name": "stdout"
        }
      ]
    },
    {
      "cell_type": "code",
      "metadata": {
        "colab": {
          "base_uri": "https://localhost:8080/"
        },
        "id": "cQXZ7MnQwN4h",
        "outputId": "643625cd-8a45-4341-9af0-cf437fac2bd8"
      },
      "source": [
        "print(4*2) #MULTIPLICATION"
      ],
      "execution_count": 94,
      "outputs": [
        {
          "output_type": "stream",
          "text": [
            "8\n"
          ],
          "name": "stdout"
        }
      ]
    },
    {
      "cell_type": "code",
      "metadata": {
        "colab": {
          "base_uri": "https://localhost:8080/"
        },
        "id": "0Cr-KLKIwRoB",
        "outputId": "b3e3bb84-e5aa-4708-8cef-468a28caa95f"
      },
      "source": [
        "print(16//2) #DIVIION"
      ],
      "execution_count": 96,
      "outputs": [
        {
          "output_type": "stream",
          "text": [
            "8\n"
          ],
          "name": "stdout"
        }
      ]
    },
    {
      "cell_type": "markdown",
      "metadata": {
        "id": "noM0-r7TwjgA"
      },
      "source": [
        "2-9. Favorite Number: Use a variable to represent your favorite number. Then,\r\n",
        "using that variable, create a message that reveals your favorite number. Print\r\n",
        "that message."
      ]
    },
    {
      "cell_type": "code",
      "metadata": {
        "id": "ULdoneZ5wXE4"
      },
      "source": [
        "favorite_number = 5"
      ],
      "execution_count": 97,
      "outputs": []
    },
    {
      "cell_type": "code",
      "metadata": {
        "colab": {
          "base_uri": "https://localhost:8080/"
        },
        "id": "b2oX1ZMgwwyv",
        "outputId": "25f6e97b-9484-4f51-8c4e-7c4df33b7c9a"
      },
      "source": [
        "print(f\"My Favorite Number is {favorite_number}\")"
      ],
      "execution_count": 98,
      "outputs": [
        {
          "output_type": "stream",
          "text": [
            "My Favorite Number is 5\n"
          ],
          "name": "stdout"
        }
      ]
    },
    {
      "cell_type": "markdown",
      "metadata": {
        "id": "gFHR7z8DxlB1"
      },
      "source": [
        "2-10. Adding Comments: Choose two of the programs you’ve written, and\r\n",
        "add at least one comment to each. If you don’t have anything specific to write\r\n",
        "because your programs are too simple at this point, just add your name and\r\n",
        "the current date at the top of each program file. Then write one sentence\r\n",
        "describing what the program does."
      ]
    },
    {
      "cell_type": "code",
      "metadata": {
        "colab": {
          "base_uri": "https://localhost:8080/"
        },
        "id": "TxE7VPuMxAGZ",
        "outputId": "44967bb0-797b-4770-8ef9-f45ed960272e"
      },
      "source": [
        "#Muhammad Azhar\r\n",
        "#Date 7-02-2020\r\n",
        "'''The Below Line Print the Quaid e Azam Muhammad Ali Jinnah Quote \r\n",
        "    Using the WhiteSpaces (Escapsequence) that is \"\\t\" for tab and \"\\n\" for New Line'''\r\n",
        "print(f\"\\t Quaid e Azam Once said,\\n\\t \\\"Think 100 times before you take a decision,\\n\\tBut once that decision is taken, stand by it as one man.\\\"\")\r\n",
        "\r\n",
        "print(5+3) #This Line Perform The Addition Operation On Two Operands 5 and 3\r\n"
      ],
      "execution_count": 107,
      "outputs": [
        {
          "output_type": "stream",
          "text": [
            "\t Quaid e Azam Once said,\n",
            "\t \"Think 100 times before you take a decision,\n",
            "\tBut once that decision is taken, stand by it as one man.\"\n",
            "8\n"
          ],
          "name": "stdout"
        }
      ]
    },
    {
      "cell_type": "markdown",
      "metadata": {
        "id": "cwflGcaJz1c5"
      },
      "source": [
        "2-11. Zen of Python: Enter import this into a Python terminal session and skim\r\n",
        "through the additional principles."
      ]
    },
    {
      "cell_type": "code",
      "metadata": {
        "colab": {
          "base_uri": "https://localhost:8080/"
        },
        "id": "98A7VcofyUGL",
        "outputId": "e5775c5d-b4ba-487d-f395-73cb35508cb1"
      },
      "source": [
        "import this"
      ],
      "execution_count": 108,
      "outputs": [
        {
          "output_type": "stream",
          "text": [
            "The Zen of Python, by Tim Peters\n",
            "\n",
            "Beautiful is better than ugly.\n",
            "Explicit is better than implicit.\n",
            "Simple is better than complex.\n",
            "Complex is better than complicated.\n",
            "Flat is better than nested.\n",
            "Sparse is better than dense.\n",
            "Readability counts.\n",
            "Special cases aren't special enough to break the rules.\n",
            "Although practicality beats purity.\n",
            "Errors should never pass silently.\n",
            "Unless explicitly silenced.\n",
            "In the face of ambiguity, refuse the temptation to guess.\n",
            "There should be one-- and preferably only one --obvious way to do it.\n",
            "Although that way may not be obvious at first unless you're Dutch.\n",
            "Now is better than never.\n",
            "Although never is often better than *right* now.\n",
            "If the implementation is hard to explain, it's a bad idea.\n",
            "If the implementation is easy to explain, it may be a good idea.\n",
            "Namespaces are one honking great idea -- let's do more of those!\n"
          ],
          "name": "stdout"
        }
      ]
    },
    {
      "cell_type": "code",
      "metadata": {
        "id": "NWkuHww7z4Ld"
      },
      "source": [
        "#Done Chapter 2"
      ],
      "execution_count": 109,
      "outputs": []
    }
  ]
}