{
  "nbformat": 4,
  "nbformat_minor": 0,
  "metadata": {
    "colab": {
      "name": "Chapter_8.ipynb",
      "provenance": [],
      "collapsed_sections": []
    },
    "kernelspec": {
      "name": "python3",
      "display_name": "Python 3"
    }
  },
  "cells": [
    {
      "cell_type": "markdown",
      "metadata": {
        "id": "CuqlEqeoexKx"
      },
      "source": [
        "## Functions"
      ]
    },
    {
      "cell_type": "markdown",
      "metadata": {
        "id": "alL5SVwpeztB"
      },
      "source": [
        "8-1. Message: Write a function called display_message() that prints one sentence telling everyone what you are learning about in this chapter. Call the\r\n",
        "function, and make sure the message displays correctly."
      ]
    },
    {
      "cell_type": "code",
      "metadata": {
        "colab": {
          "base_uri": "https://localhost:8080/"
        },
        "id": "mpuiAtZcgqlR",
        "outputId": "4966d7b1-b608-49e6-e793-749df10453f6"
      },
      "source": [
        "def display_message():\r\n",
        "  print(\"\\t\\nI am Learning About Python Functions in this Chapter 8\")\r\n",
        "\r\n",
        "display_message()"
      ],
      "execution_count": 1,
      "outputs": [
        {
          "output_type": "stream",
          "text": [
            "\t\n",
            "I am Learning About Python Functions in this Chapter 8\n"
          ],
          "name": "stdout"
        }
      ]
    },
    {
      "cell_type": "markdown",
      "metadata": {
        "id": "n-nokJlle03E"
      },
      "source": [
        "8-2. Favorite Book: Write a function called favorite_book() that accepts one\r\n",
        "parameter, title. The function should print a message, such as One of my\r\n",
        "favorite books is Alice in Wonderland. Call the function, making sure to\r\n",
        "include a book title as an argument in the function call."
      ]
    },
    {
      "cell_type": "code",
      "metadata": {
        "colab": {
          "base_uri": "https://localhost:8080/"
        },
        "id": "qQrpeejSgq77",
        "outputId": "ce450e1f-e11d-4d2e-c213-fd5a465c88f0"
      },
      "source": [
        "def  favorite_book(title):\r\n",
        "  print(\"One of my Favorite book Name is \"+ title)\r\n",
        "\r\n",
        "favorite_book(\"Python Crash Course\")\r\n"
      ],
      "execution_count": 4,
      "outputs": [
        {
          "output_type": "stream",
          "text": [
            "One of my Favorite book Name is Python Crash Course\n"
          ],
          "name": "stdout"
        }
      ]
    },
    {
      "cell_type": "markdown",
      "metadata": {
        "id": "8m2mdNd0e1A0"
      },
      "source": [
        "8-3. T-Shirt: Write a function called make_shirt() that accepts a size and the\r\n",
        "text of a message that should be printed on the shirt. The function should print\r\n",
        "a sentence summarizing the size of the shirt and the message printed on it.\r\n",
        "\r\n",
        "\r\n",
        "Call the function once using positional arguments to make a shirt. Call the\r\n",
        "function a second time using keyword arguments."
      ]
    },
    {
      "cell_type": "code",
      "metadata": {
        "colab": {
          "base_uri": "https://localhost:8080/"
        },
        "id": "zN33kgSIgrZc",
        "outputId": "be0b11ca-121a-49c3-ff3d-3f4544c0ad2c"
      },
      "source": [
        "def make_shirt():\r\n",
        "  v1 =input(\"Enter The Size of the Shirt : \")\r\n",
        "  v2=input(\"Enter The Message Which You want to print on the Shirt : \")\r\n",
        "  print(f\"The size of Shirt is {v1} and on which the message is {v2} .\")\r\n",
        "make_shirt()"
      ],
      "execution_count": 5,
      "outputs": [
        {
          "output_type": "stream",
          "text": [
            "Enter The Size of the Shirt : 28\n",
            "Enter The Message Which You want to print on the Shirt : Tech Shoor\n",
            "The size of Shirt is 28 and on which the message is Tech Shoor .\n"
          ],
          "name": "stdout"
        }
      ]
    },
    {
      "cell_type": "markdown",
      "metadata": {
        "id": "SbpC6jZPez0i"
      },
      "source": [
        "8-4. Large Shirts: Modify the make_shirt() function so that shirts are large\r\n",
        "by default with a message that reads I love Python. Make a large shirt and a\r\n",
        "medium shirt with the default message, and a shirt of any size with a different\r\n",
        "message."
      ]
    },
    {
      "cell_type": "code",
      "metadata": {
        "id": "u0YpNRnLgsAc"
      },
      "source": [
        "def make_shirt(v1=\"Large\",v2=\"I Love Python\"):\r\n",
        "  print(f\"The size of Shirt is {v1} and on which the message is {v2} .\")"
      ],
      "execution_count": 9,
      "outputs": []
    },
    {
      "cell_type": "code",
      "metadata": {
        "colab": {
          "base_uri": "https://localhost:8080/"
        },
        "id": "7Sss1b34r2kA",
        "outputId": "1432855d-85c2-42e1-f39b-a18ebd4aae4c"
      },
      "source": [
        "make_shirt()"
      ],
      "execution_count": 11,
      "outputs": [
        {
          "output_type": "stream",
          "text": [
            "The size of Shirt is Large and on which the message is I Love Python .\n"
          ],
          "name": "stdout"
        }
      ]
    },
    {
      "cell_type": "code",
      "metadata": {
        "colab": {
          "base_uri": "https://localhost:8080/"
        },
        "id": "23C9KT0FrivJ",
        "outputId": "28978183-ce72-4749-a6c6-d0f4062283e9"
      },
      "source": [
        "v1 =input(\"Enter The Size of the Shirt : \")\r\n",
        "v2=input(\"Enter The Message Which You want to print on the Shirt : \")\r\n",
        "make_shirt(v1,v2)"
      ],
      "execution_count": 12,
      "outputs": [
        {
          "output_type": "stream",
          "text": [
            "Enter The Size of the Shirt : Mediam\n",
            "Enter The Message Which You want to print on the Shirt : Python Is Future\n",
            "The size of Shirt is Mediam and on which the message is Python Is Future .\n"
          ],
          "name": "stdout"
        }
      ]
    },
    {
      "cell_type": "code",
      "metadata": {
        "colab": {
          "base_uri": "https://localhost:8080/"
        },
        "id": "zBI2UZSxsJBk",
        "outputId": "ddfa3320-6da5-4057-c92b-6b9dd9e90310"
      },
      "source": [
        "v1 =input(\"Enter The Size of the Shirt : \")\r\n",
        "v2=input(\"Enter The Message Which You want to print on the Shirt : \")\r\n",
        "make_shirt(v1,v2)"
      ],
      "execution_count": 13,
      "outputs": [
        {
          "output_type": "stream",
          "text": [
            "Enter The Size of the Shirt : Small\n",
            "Enter The Message Which You want to print on the Shirt : PAKISTAN\n",
            "The size of Shirt is Small and on which the message is PAKISTAN .\n"
          ],
          "name": "stdout"
        }
      ]
    },
    {
      "cell_type": "markdown",
      "metadata": {
        "id": "zAnqlNvDez4t"
      },
      "source": [
        "8-5. Cities: Write a function called describe_city() that accepts the name of\r\n",
        "a city and its country. The function should print a simple sentence, such as\r\n",
        "Reykjavik is in Iceland. Give the parameter for the country a default value.\r\n",
        "Call your function for three different cities, at least one of which is not in the\r\n",
        "default country."
      ]
    },
    {
      "cell_type": "code",
      "metadata": {
        "id": "9gGsHdPwgs_v"
      },
      "source": [
        "def describe_city(city=\"Karachi\",country=\"PAKISTAN\"):\r\n",
        "  print(f\"{city} is in {country}\")\r\n"
      ],
      "execution_count": 14,
      "outputs": []
    },
    {
      "cell_type": "code",
      "metadata": {
        "colab": {
          "base_uri": "https://localhost:8080/"
        },
        "id": "coiV56Suu94p",
        "outputId": "5439c378-3491-416c-dd2f-501cc8fd6e5a"
      },
      "source": [
        "describe_city()"
      ],
      "execution_count": 15,
      "outputs": [
        {
          "output_type": "stream",
          "text": [
            "Karachi is in PAKISTAN\n"
          ],
          "name": "stdout"
        }
      ]
    },
    {
      "cell_type": "code",
      "metadata": {
        "colab": {
          "base_uri": "https://localhost:8080/"
        },
        "id": "eKemHdg4vI5j",
        "outputId": "4dd7544d-8eaf-4599-f3c7-74094c288d27"
      },
      "source": [
        "  city =input(\"What is Your City Name ? \")  \r\n",
        "  country = input(\"What is Your Country Name ? \") \r\n",
        "  describe_city(city,country)"
      ],
      "execution_count": 16,
      "outputs": [
        {
          "output_type": "stream",
          "text": [
            "What is Your City Name ? Multan\n",
            "What is Your Country Name ? Pakistan\n",
            "Multan is in Pakistan\n"
          ],
          "name": "stdout"
        }
      ]
    },
    {
      "cell_type": "code",
      "metadata": {
        "colab": {
          "base_uri": "https://localhost:8080/"
        },
        "id": "DaaqJRUnvJDA",
        "outputId": "80b03648-18e7-4f6b-a685-3de3a6dae872"
      },
      "source": [
        "  city =input(\"What is Your City Name ? \")  \r\n",
        "  country = input(\"What is Your Country Name ? \") \r\n",
        "  describe_city(city,country)"
      ],
      "execution_count": 17,
      "outputs": [
        {
          "output_type": "stream",
          "text": [
            "What is Your City Name ? Istanbul\n",
            "What is Your Country Name ? Turkey\n",
            "Istanbul is in Turkey\n"
          ],
          "name": "stdout"
        }
      ]
    },
    {
      "cell_type": "markdown",
      "metadata": {
        "id": "hOa4Y1k1ez7d"
      },
      "source": [
        "8-6. City Names: Write a function called city_country() that takes in the name\r\n",
        "of a city and its country. The function should return a string formatted like this:\r\n",
        "`\"Santiago, Chile\"`\r\n",
        "Call your function with at least three city-country pairs, and print the\r\n",
        "values that are returned.\r\n",
        "\r\n"
      ]
    },
    {
      "cell_type": "code",
      "metadata": {
        "id": "DHGn3b1btAmm"
      },
      "source": [
        "def city_country(city, Country):\r\n",
        "  print(f'\\\"{city}, {country}\\\"')"
      ],
      "execution_count": 18,
      "outputs": []
    },
    {
      "cell_type": "code",
      "metadata": {
        "colab": {
          "base_uri": "https://localhost:8080/"
        },
        "id": "nQtFCMYLgtXZ",
        "outputId": "24581489-56cb-4fe5-fd72-87f1e59c928e"
      },
      "source": [
        "city_country(\"Madina\",\"Saudia\")\r\n",
        "city_country(\"Karachi\",\"Pakistan\")\r\n",
        "city_country(\"Beijing\",\"china\")"
      ],
      "execution_count": 20,
      "outputs": [
        {
          "output_type": "stream",
          "text": [
            "\"Madina, Turkey\"\n",
            "\"Karachi, Turkey\"\n",
            "\"Beijing, Turkey\"\n"
          ],
          "name": "stdout"
        }
      ]
    },
    {
      "cell_type": "markdown",
      "metadata": {
        "id": "xPSCQcijez-Z"
      },
      "source": [
        "8-7. Album: Write a function called make_album() that builds a dictionary\r\n",
        "describing a music album. The function should take in an artist name and an\r\n",
        "album title, and it should return a dictionary containing these two pieces of\r\n",
        "information. Use the function to make three dictionaries representing different\r\n",
        "albums. Print each return value to show that the dictionaries are storing the\r\n",
        "album information correctly.\r\n",
        "\r\n",
        "\r\n",
        "Use None to add an optional parameter to make_album() that allows you to\r\n",
        "store the number of songs on an album. If the calling line includes a value for\r\n",
        "the number of songs, add that value to the album’s dictionary. Make at least\r\n",
        "one new function call that includes the number of songs on an album."
      ]
    },
    {
      "cell_type": "code",
      "metadata": {
        "id": "cobe4H7Agtx9"
      },
      "source": [
        "def make_album(artist, title ,number_of_songs=0):\r\n",
        "  album = {\r\n",
        "    \"Artist\": artist.title(),\r\n",
        "    \"Title\": title.title(),\r\n",
        "    }\r\n",
        "  if number_of_songs:\r\n",
        "    album[\"Number Of Songs\"] = number_of_songs\r\n",
        "    return album\r\n",
        "  return album"
      ],
      "execution_count": 33,
      "outputs": []
    },
    {
      "cell_type": "code",
      "metadata": {
        "colab": {
          "base_uri": "https://localhost:8080/"
        },
        "id": "DMYgnZqIxR5r",
        "outputId": "2edfb7d2-6343-461c-f61b-6db0d1e468ef"
      },
      "source": [
        "print(make_album(\"Junaid Jamshad\", \"Mera dill badal dai\"))"
      ],
      "execution_count": 34,
      "outputs": [
        {
          "output_type": "stream",
          "text": [
            "{'Artist': 'Junaid Jamshad', 'Title': 'Mera Dill Badal Dai'}\n"
          ],
          "name": "stdout"
        }
      ]
    },
    {
      "cell_type": "code",
      "metadata": {
        "colab": {
          "base_uri": "https://localhost:8080/"
        },
        "id": "ardpsOqNxVWo",
        "outputId": "603805dd-ff85-410a-e211-9dfed21ca06a"
      },
      "source": [
        "print(make_album(\"Nusrat Fateh Ali Khan\", \"Pakistan Pakistan\"))"
      ],
      "execution_count": 35,
      "outputs": [
        {
          "output_type": "stream",
          "text": [
            "{'Artist': 'Nusrat Fateh Ali Khan', 'Title': 'Pakistan Pakistan'}\n"
          ],
          "name": "stdout"
        }
      ]
    },
    {
      "cell_type": "code",
      "metadata": {
        "colab": {
          "base_uri": "https://localhost:8080/"
        },
        "id": "R2FsdqgGxVjG",
        "outputId": "9bfa0e92-0381-4ad6-a15f-58199ed4ab6c"
      },
      "source": [
        "print(make_album(\"Allama Iqbal\", \"Lab pai Atti hai Dua\"))"
      ],
      "execution_count": 36,
      "outputs": [
        {
          "output_type": "stream",
          "text": [
            "{'Artist': 'Allama Iqbal', 'Title': 'Lab Pai Atti Hai Dua'}\n"
          ],
          "name": "stdout"
        }
      ]
    },
    {
      "cell_type": "code",
      "metadata": {
        "colab": {
          "base_uri": "https://localhost:8080/"
        },
        "id": "g7kz7KcMylwa",
        "outputId": "81ab06c2-6f8e-4c5e-f6b8-92dfca373835"
      },
      "source": [
        "print(make_album(\"Allama Iqbal\", \"Lab pai Atti hai Dua\",200))"
      ],
      "execution_count": 37,
      "outputs": [
        {
          "output_type": "stream",
          "text": [
            "{'Artist': 'Allama Iqbal', 'Title': 'Lab Pai Atti Hai Dua', 'Number Of Songs': 200}\n"
          ],
          "name": "stdout"
        }
      ]
    },
    {
      "cell_type": "markdown",
      "metadata": {
        "id": "rohRBEKye0BF"
      },
      "source": [
        "8-8. User Albums: Start with your program from Exercise 8-7. Write a while\r\n",
        "loop that allows users to enter an album’s artist and title. Once you have that\r\n",
        "information, call make_album() with the user’s input and print the dictionary\r\n",
        "that’s created. Be sure to include a quit value in the while loop."
      ]
    },
    {
      "cell_type": "code",
      "metadata": {
        "id": "GotQW5M2xRP4"
      },
      "source": [
        "def make_album(artist, title ,number_of_songs=0):\r\n",
        "  album = {\r\n",
        "    \"Artist\": artist.title(),\r\n",
        "    \"Title\": title.title(),\r\n",
        "    }\r\n",
        "  if number_of_songs:\r\n",
        "    album[\"Number Of Songs\"] = number_of_songs\r\n",
        "    return album\r\n",
        "  return album"
      ],
      "execution_count": null,
      "outputs": []
    },
    {
      "cell_type": "code",
      "metadata": {
        "colab": {
          "base_uri": "https://localhost:8080/"
        },
        "id": "o-ewulo_gu89",
        "outputId": "7b9afd8c-a471-4ac2-c59f-2e14a1910548"
      },
      "source": [
        "while True:\r\n",
        "  artist = input(\"Enter The Artist Name : \")\r\n",
        "  if artist.lower() == 'quit':\r\n",
        "    break\r\n",
        "  title = input(\"Enter the Work Title of Artist : \")\r\n",
        "  if title.lower() == 'quit':\r\n",
        "    break\r\n",
        "  print(make_album(artist, title))\r\n",
        "  print(\"Enter Quit to Exit\")"
      ],
      "execution_count": 40,
      "outputs": [
        {
          "output_type": "stream",
          "text": [
            "Enter The Artist Name : Iqbal\n",
            "Enter the Work Title of Artist : Khudi ko kar Bulaand\n",
            "{'Artist': 'Iqbal', 'Title': 'Khudi Ko Kar Bulaand'}\n",
            "Enter Quit to Exit\n",
            "Enter The Artist Name : quit\n"
          ],
          "name": "stdout"
        }
      ]
    },
    {
      "cell_type": "markdown",
      "metadata": {
        "id": "1sAvzoGkfhwW"
      },
      "source": [
        "8-9. Messages: Make a list containing a series of short text messages. Pass the\r\n",
        "list to a function called show_messages(), which prints each text message"
      ]
    },
    {
      "cell_type": "code",
      "metadata": {
        "id": "6EuubhC2gvXx"
      },
      "source": [
        "def show_messages(messages):\r\n",
        "  for message in messages:\r\n",
        "    print(message.title())"
      ],
      "execution_count": 43,
      "outputs": []
    },
    {
      "cell_type": "code",
      "metadata": {
        "colab": {
          "base_uri": "https://localhost:8080/"
        },
        "id": "n31yXJtw0MSQ",
        "outputId": "0fbc5984-76c2-4a71-f203-e6a433b1c050"
      },
      "source": [
        "messages = [\"I Love You Pakistan\",\"I Love Python\",\"Data Science Is Future\"]\r\n",
        "show_messages(messages)"
      ],
      "execution_count": 44,
      "outputs": [
        {
          "output_type": "stream",
          "text": [
            "I Love You Pakistan\n",
            "I Love Python\n",
            "Data Science Is Future\n"
          ],
          "name": "stdout"
        }
      ]
    },
    {
      "cell_type": "markdown",
      "metadata": {
        "id": "FT_SfkcXfh4d"
      },
      "source": [
        "8-10. Sending Messages: Start with a copy of your program from Exercise 8-9.\r\n",
        "Write a function called send_messages() that prints each text message and\r\n",
        "moves each message to a new list called sent_messages as it’s printed. After\r\n",
        "calling the function, print both of your lists to make sure the messages were\r\n",
        "moved correctly"
      ]
    },
    {
      "cell_type": "code",
      "metadata": {
        "id": "fvkEYwbk1ghW"
      },
      "source": [
        "sent_messages =[]"
      ],
      "execution_count": 71,
      "outputs": []
    },
    {
      "cell_type": "code",
      "metadata": {
        "id": "Dj3G3UZ80L0s"
      },
      "source": [
        "def show_messages(messages):\r\n",
        "  for message in messages:\r\n",
        "    sent_messages.append(message)\r\n",
        "    print(message.title())"
      ],
      "execution_count": 72,
      "outputs": []
    },
    {
      "cell_type": "code",
      "metadata": {
        "colab": {
          "base_uri": "https://localhost:8080/"
        },
        "id": "s52N6wahgwAp",
        "outputId": "89e52e56-ce25-4dd0-a844-e08efb6bf7d0"
      },
      "source": [
        "messages = [\"I Love You Pakistan\",\"I Love Python\",\"Data Science Is Future\"]\r\n",
        "show_messages(messages)"
      ],
      "execution_count": 73,
      "outputs": [
        {
          "output_type": "stream",
          "text": [
            "I Love You Pakistan\n",
            "I Love Python\n",
            "Data Science Is Future\n"
          ],
          "name": "stdout"
        }
      ]
    },
    {
      "cell_type": "code",
      "metadata": {
        "colab": {
          "base_uri": "https://localhost:8080/"
        },
        "id": "8597T4541MYi",
        "outputId": "0566edf6-6d9a-498c-d517-161af44d3ace"
      },
      "source": [
        "print(sent_messages)"
      ],
      "execution_count": 74,
      "outputs": [
        {
          "output_type": "stream",
          "text": [
            "['I Love You Pakistan', 'I Love Python', 'Data Science Is Future']\n"
          ],
          "name": "stdout"
        }
      ]
    },
    {
      "cell_type": "markdown",
      "metadata": {
        "id": "eCosXGmifh8u"
      },
      "source": [
        "8-11. Archived Messages: Start with your work from Exercise 8-10. Call the\r\n",
        "function send_messages() with a copy of the list of messages. After calling the\r\n",
        "function, print both of your lists to show that the original list has retained its\r\n",
        "messages."
      ]
    },
    {
      "cell_type": "code",
      "metadata": {
        "colab": {
          "base_uri": "https://localhost:8080/"
        },
        "id": "9pqKGx65gwsr",
        "outputId": "8fcee96f-18c5-4d11-b29c-96badad9d19d"
      },
      "source": [
        "show_messages(messages)"
      ],
      "execution_count": 75,
      "outputs": [
        {
          "output_type": "stream",
          "text": [
            "I Love You Pakistan\n",
            "I Love Python\n",
            "Data Science Is Future\n"
          ],
          "name": "stdout"
        }
      ]
    },
    {
      "cell_type": "code",
      "metadata": {
        "colab": {
          "base_uri": "https://localhost:8080/"
        },
        "id": "We77moA22jMI",
        "outputId": "7a677a6c-10a5-47a6-f595-d45265b78a58"
      },
      "source": [
        "print(sent_messages)"
      ],
      "execution_count": 76,
      "outputs": [
        {
          "output_type": "stream",
          "text": [
            "['I Love You Pakistan', 'I Love Python', 'Data Science Is Future', 'I Love You Pakistan', 'I Love Python', 'Data Science Is Future']\n"
          ],
          "name": "stdout"
        }
      ]
    },
    {
      "cell_type": "markdown",
      "metadata": {
        "id": "eeUqUI3KfiAF"
      },
      "source": [
        "8-12. Sandwiches: Write a function that accepts a list of items a person wants\r\n",
        "on a sandwich. The function should have one parameter that collects as many\r\n",
        "items as the function call provides, and it should print a summary of the sandwich that’s being ordered. Call the function three times, using a different number of arguments each time."
      ]
    },
    {
      "cell_type": "code",
      "metadata": {
        "id": "AxtMWnL1gxGG"
      },
      "source": [
        "def make_sandwich(*things):\r\n",
        "  for item in things:\r\n",
        "    print(f\"Added {item} to your sandwich.\")"
      ],
      "execution_count": 81,
      "outputs": []
    },
    {
      "cell_type": "code",
      "metadata": {
        "colab": {
          "base_uri": "https://localhost:8080/"
        },
        "id": "yb1eR9R13e16",
        "outputId": "cd9a4bdf-a9c4-4daa-e005-51a58a378e1e"
      },
      "source": [
        "make_sandwich(\"Apple\",\"Cherry\")"
      ],
      "execution_count": 82,
      "outputs": [
        {
          "output_type": "stream",
          "text": [
            "Added Apple to your sandwich.\n",
            "Added Cherry to your sandwich.\n"
          ],
          "name": "stdout"
        }
      ]
    },
    {
      "cell_type": "code",
      "metadata": {
        "colab": {
          "base_uri": "https://localhost:8080/"
        },
        "id": "12tX2C1p33or",
        "outputId": "206c194c-3def-41ef-b2bc-a4b79e7acfba"
      },
      "source": [
        "make_sandwich(\"Apple\",\"Cherry\",\"Mango\")"
      ],
      "execution_count": 83,
      "outputs": [
        {
          "output_type": "stream",
          "text": [
            "Added Apple to your sandwich.\n",
            "Added Cherry to your sandwich.\n",
            "Added Mango to your sandwich.\n"
          ],
          "name": "stdout"
        }
      ]
    },
    {
      "cell_type": "code",
      "metadata": {
        "colab": {
          "base_uri": "https://localhost:8080/"
        },
        "id": "Lq6wmdj7384j",
        "outputId": "3790fa5b-4a8d-401c-f9d2-7fcd44f83c12"
      },
      "source": [
        "make_sandwich(\"Apple\",\"Cherry\",\"Mango\",\"Banana\")"
      ],
      "execution_count": 84,
      "outputs": [
        {
          "output_type": "stream",
          "text": [
            "Added Apple to your sandwich.\n",
            "Added Cherry to your sandwich.\n",
            "Added Mango to your sandwich.\n",
            "Added Banana to your sandwich.\n"
          ],
          "name": "stdout"
        }
      ]
    },
    {
      "cell_type": "markdown",
      "metadata": {
        "id": "5RykGSOhfiGP"
      },
      "source": [
        "8-13. User Profile: Start with a copy of user_profile.py from page 149. Build a\r\n",
        "profile of yourself by calling build_profile(), using your first and last names\r\n",
        "and three other key-value pairs that describe you."
      ]
    },
    {
      "cell_type": "code",
      "metadata": {
        "id": "vQfdWGFHgxfc"
      },
      "source": [
        "def build_profile(first, last, **user_info):\r\n",
        "  user_info['first_name'] = first\r\n",
        "  user_info['last_name'] = last\r\n",
        "  return user_info"
      ],
      "execution_count": 85,
      "outputs": []
    },
    {
      "cell_type": "code",
      "metadata": {
        "colab": {
          "base_uri": "https://localhost:8080/"
        },
        "id": "DOB4uMw549_z",
        "outputId": "c628d40c-7c45-478c-b75d-ae1c8ef8014d"
      },
      "source": [
        "user_profile = build_profile(\"Muhammad\", \"Azhar\",\r\n",
        " location=\"Karachi\",\r\n",
        " field=\"Computer\",\r\n",
        " number= \"03120001547\")\r\n",
        "print(user_profile)"
      ],
      "execution_count": 89,
      "outputs": [
        {
          "output_type": "stream",
          "text": [
            "{'location': 'Karachi', 'field': 'Computer', 'number': '03120001547', 'first_name': 'Muhammad', 'last_name': 'Azhar'}\n"
          ],
          "name": "stdout"
        }
      ]
    },
    {
      "cell_type": "markdown",
      "metadata": {
        "id": "obQF-O6mfuGX"
      },
      "source": [
        "8-14. Cars: Write a function that stores information about a car in a dictionary. The function should always receive a manufacturer and a model name. It\r\n",
        "should then accept an arbitrary number of keyword arguments. Call the function with the required information and two other name-value pairs, such as a\r\n",
        "color or an optional feature. Your function should work for a call like this one: \r\n",
        "\r\n",
        "```car = make_car('subaru', 'outback', color='blue', tow_package=True) ```\r\n",
        "\r\n",
        " Print the dictionary that’s returned to make sure all the information was\r\n",
        "stored correctly."
      ]
    },
    {
      "cell_type": "code",
      "metadata": {
        "id": "41fVtXGrgx-q"
      },
      "source": [
        ""
      ],
      "execution_count": null,
      "outputs": []
    },
    {
      "cell_type": "markdown",
      "metadata": {
        "id": "ld_POBV6fuJj"
      },
      "source": [
        "8-15. Printing Models: Put the functions for the example printing_models.py in a\r\n",
        "separate file called printing_functions.py. Write an import statement at the top\r\n",
        "of printing_models.py, and modify the file to use the imported functions"
      ]
    },
    {
      "cell_type": "markdown",
      "metadata": {
        "id": "b36f_7swfup3"
      },
      "source": [
        "8-16. Imports: Using a program you wrote that has one function in it, store that\r\n",
        "function in a separate file. Import the function into your main program file, and\r\n",
        "call the function using each of these approaches:\r\n",
        "\r\n",
        "* import module_name\r\n",
        "* from module_name import function_name\r\n",
        "* from module_name import function_name as fn\r\n",
        "* import module_name as mn\r\n",
        "* from module_name import *\r\n",
        "\r\n"
      ]
    },
    {
      "cell_type": "code",
      "metadata": {
        "id": "a44M12edgyyx"
      },
      "source": [
        ""
      ],
      "execution_count": null,
      "outputs": []
    },
    {
      "cell_type": "markdown",
      "metadata": {
        "id": "5pXxx9_Tgiye"
      },
      "source": [
        "8-17. Styling Functions: Choose any three programs you wrote for this chapter,\r\n",
        "and make sure they follow the styling guidelines described in this section."
      ]
    },
    {
      "cell_type": "code",
      "metadata": {
        "id": "XWVjDgn2ewuI"
      },
      "source": [
        ""
      ],
      "execution_count": null,
      "outputs": []
    }
  ]
}