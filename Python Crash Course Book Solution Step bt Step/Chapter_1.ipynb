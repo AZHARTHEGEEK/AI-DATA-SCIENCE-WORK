{
  "nbformat": 4,
  "nbformat_minor": 0,
  "metadata": {
    "colab": {
      "name": "Chapter 1",
      "provenance": []
    },
    "kernelspec": {
      "name": "python3",
      "display_name": "Python 3"
    }
  },
  "cells": [
    {
      "cell_type": "markdown",
      "metadata": {
        "id": "fP3yynDAidHe"
      },
      "source": [
        "# ***Getting Started***"
      ]
    },
    {
      "cell_type": "markdown",
      "metadata": {
        "id": "c-4ZxQTKi5JB"
      },
      "source": [
        "### 1-1. python.org Explore"
      ]
    },
    {
      "cell_type": "markdown",
      "metadata": {
        "id": "gLw-Lq5vrt_c"
      },
      "source": [
        "https://wiki.python.org/moin/BeginnersGuide"
      ]
    },
    {
      "cell_type": "markdown",
      "metadata": {
        "id": "aFRxiUU1r-ZZ"
      },
      "source": [
        "### 1-2. Hello World Typos"
      ]
    },
    {
      "cell_type": "code",
      "metadata": {
        "colab": {
          "base_uri": "https://localhost:8080/",
          "height": 35
        },
        "id": "o1AxgZQ8sTtl",
        "outputId": "826b8f0e-4ee7-4777-a8b5-46a6a2d84bd7"
      },
      "source": [
        "\"Hello World\""
      ],
      "execution_count": 2,
      "outputs": [
        {
          "output_type": "execute_result",
          "data": {
            "application/vnd.google.colaboratory.intrinsic+json": {
              "type": "string"
            },
            "text/plain": [
              "'Hello World'"
            ]
          },
          "metadata": {
            "tags": []
          },
          "execution_count": 2
        }
      ]
    },
    {
      "cell_type": "code",
      "metadata": {
        "colab": {
          "base_uri": "https://localhost:8080/"
        },
        "id": "HWxVKoVSi2Jc",
        "outputId": "8a30e960-0bc0-4266-eaa4-2356b8aa1783"
      },
      "source": [
        "print(\"Hello World\")"
      ],
      "execution_count": 1,
      "outputs": [
        {
          "output_type": "stream",
          "text": [
            "Hello World\n"
          ],
          "name": "stdout"
        }
      ]
    },
    {
      "cell_type": "markdown",
      "metadata": {
        "id": "pSM_HRS0s3dc"
      },
      "source": [
        "### 1-3. Infinite Skills:"
      ]
    },
    {
      "cell_type": "markdown",
      "metadata": {
        "id": "Asz8rIQVs6kn"
      },
      "source": [
        "Three Programs i want to create\r\n",
        "1) Facial Recognition\r\n",
        "2) Charts Analysis\r\n",
        "3) Auto Messaging"
      ]
    }
  ]
}