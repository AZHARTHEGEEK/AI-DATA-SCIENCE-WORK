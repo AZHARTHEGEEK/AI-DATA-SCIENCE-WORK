{
  "nbformat": 4,
  "nbformat_minor": 0,
  "metadata": {
    "colab": {
      "name": "Chapter 3.ipynb",
      "provenance": [],
      "collapsed_sections": []
    },
    "kernelspec": {
      "name": "python3",
      "display_name": "Python 3"
    }
  },
  "cells": [
    {
      "cell_type": "markdown",
      "metadata": {
        "id": "kbb4MBO23F9L"
      },
      "source": [
        "3-1. Names: Store the names of a few of your friends in a list called names. Print\r\n",
        "each person’s name by accessing each element in the list, one at a time."
      ]
    },
    {
      "cell_type": "code",
      "metadata": {
        "id": "WQUAx14BWM5m"
      },
      "source": [
        "friend_list = [\"Ghazanfar\",\"Mehar\",\"Sameer\",\"Uzair\",\"Mansoor\",\"Arham\"]"
      ],
      "execution_count": 23,
      "outputs": []
    },
    {
      "cell_type": "code",
      "metadata": {
        "colab": {
          "base_uri": "https://localhost:8080/"
        },
        "id": "1_fozYqT3mg9",
        "outputId": "e4bb0bd6-1c72-449f-a3d4-892058fd52d4"
      },
      "source": [
        "for num in range(len(friend_list)):\r\n",
        "  print(friend_list[num])"
      ],
      "execution_count": 24,
      "outputs": [
        {
          "output_type": "stream",
          "text": [
            "Ghazanfar\n",
            "Mehar\n",
            "Sameer\n",
            "Uzair\n",
            "Mansoor\n",
            "Arham\n"
          ],
          "name": "stdout"
        }
      ]
    },
    {
      "cell_type": "markdown",
      "metadata": {
        "id": "sncLARwy5lt4"
      },
      "source": [
        "3-2. Greetings: Start with the list you used in Exercise 3-1, but instead of just\r\n",
        "printing each person’s name, print a message to them. The text of each message should be the same, but each message should be personalized with the\r\n",
        "person’s name."
      ]
    },
    {
      "cell_type": "code",
      "metadata": {
        "colab": {
          "base_uri": "https://localhost:8080/"
        },
        "id": "DlLiEUDt39Q9",
        "outputId": "4543d7e6-83ea-41fe-d1d1-63b757310c0e"
      },
      "source": [
        "for num in range(len(friend_list)):\r\n",
        "  print(f\"{friend_list[num]} is my Friend\")"
      ],
      "execution_count": 25,
      "outputs": [
        {
          "output_type": "stream",
          "text": [
            "Ghazanfar is my Friend\n",
            "Mehar is my Friend\n",
            "Sameer is my Friend\n",
            "Uzair is my Friend\n",
            "Mansoor is my Friend\n",
            "Arham is my Friend\n"
          ],
          "name": "stdout"
        }
      ]
    },
    {
      "cell_type": "markdown",
      "metadata": {
        "id": "RJWiBWWE56qD"
      },
      "source": [
        "3-3. Your Own List: Think of your favorite mode of transportation, such as a\r\n",
        "motorcycle or a car, and make a list that stores several examples. Use your list\r\n",
        "to print a series of statements about these items, such as “I would like to own a\r\n",
        "Honda motorcycle.”"
      ]
    },
    {
      "cell_type": "code",
      "metadata": {
        "id": "3QP09hAR4de5"
      },
      "source": [
        "favourites = [\"I would like to hold Ethereum for One Year\",\"I would Like to Hold Cardino\",\"Working Hard to Own a Software Houses\",\"Its Our Responsibility to Educate Peoples, Would Like to open Educational Institutes\"]"
      ],
      "execution_count": 26,
      "outputs": []
    },
    {
      "cell_type": "code",
      "metadata": {
        "colab": {
          "base_uri": "https://localhost:8080/"
        },
        "id": "CdfQ9HlW7fi8",
        "outputId": "28272192-d25b-47df-90e5-18da51915d71"
      },
      "source": [
        "for fmodes in range(len(favourites)):\r\n",
        "  print(f\"{favourites[fmodes]}\")"
      ],
      "execution_count": 27,
      "outputs": [
        {
          "output_type": "stream",
          "text": [
            "I would like to hold Ethereum for One Year\n",
            "I would Like to Hold Cardino\n",
            "Working Hard to Own a Software Houses\n",
            "Its Our Responsibility to Educate Peoples, Would Like to open Educational Institutes\n"
          ],
          "name": "stdout"
        }
      ]
    },
    {
      "cell_type": "markdown",
      "metadata": {
        "id": "W5beuCJz8UIw"
      },
      "source": [
        "3-4. Guest List: If you could invite anyone, living or deceased, to dinner, who\r\n",
        "would you invite? Make a list that includes at least three people you’d like to\r\n",
        "invite to dinner. Then use your list to print a message to each person, inviting\r\n",
        "them to dinner."
      ]
    },
    {
      "cell_type": "code",
      "metadata": {
        "id": "emo3NkU-8U80"
      },
      "source": [
        "guests =[\"Mehar\",\"Ghazanfar\",\"Raheel\", \"Shahzad\"]\r\n",
        "CopyGuestsdata = guests[:]"
      ],
      "execution_count": 65,
      "outputs": []
    },
    {
      "cell_type": "code",
      "metadata": {
        "colab": {
          "base_uri": "https://localhost:8080/"
        },
        "id": "klEzSqHf_Qpf",
        "outputId": "0e3fdf0a-b6ff-4907-a683-7bf4e975bb54"
      },
      "source": [
        "for guest in range(len(guests)):\r\n",
        "  print(f\"\\n\\tAssalam O Alaikum,\\n\\tIt is a pleasure for me if you come tonight to dinner Dear {guests[guest]}\\n\\tYour Friend Muhammad Azhar\")"
      ],
      "execution_count": 66,
      "outputs": [
        {
          "output_type": "stream",
          "text": [
            "\n",
            "\tAssalam O Alaikum,\n",
            "\tIt is a pleasure for me if you come tonight to dinner Dear Mehar\n",
            "\tYour Friend Muhammad Azhar\n",
            "\n",
            "\tAssalam O Alaikum,\n",
            "\tIt is a pleasure for me if you come tonight to dinner Dear Ghazanfar\n",
            "\tYour Friend Muhammad Azhar\n",
            "\n",
            "\tAssalam O Alaikum,\n",
            "\tIt is a pleasure for me if you come tonight to dinner Dear Raheel\n",
            "\tYour Friend Muhammad Azhar\n",
            "\n",
            "\tAssalam O Alaikum,\n",
            "\tIt is a pleasure for me if you come tonight to dinner Dear Shahzad\n",
            "\tYour Friend Muhammad Azhar\n"
          ],
          "name": "stdout"
        }
      ]
    },
    {
      "cell_type": "markdown",
      "metadata": {
        "id": "VXG0m7GoASN7"
      },
      "source": [
        "3-5. Changing Guest List: You just heard that one of your guests can’t make the\r\n",
        "dinner, so you need to send out a new set of invitations. You’ll have to think of someone else to invite.\r\n",
        "\r\n",
        "*   Start with your program from Exercise 3-4. Add a print() call at the end\r\n",
        "of your program stating the name of the guest who can’t make it.\r\n",
        "*   Modify your list, replacing the name of the guest who can’t make it with\r\n",
        "the name of the new person you are inviting.\r\n",
        "*   Print a second set of invitation messages, one for each person who is still\r\n",
        "in your list.\r\n",
        "\r\n",
        "\r\n",
        "\r\n"
      ]
    },
    {
      "cell_type": "code",
      "metadata": {
        "colab": {
          "base_uri": "https://localhost:8080/"
        },
        "id": "W44lutv1_-b_",
        "outputId": "905e5e98-afd1-4588-8d46-3929d77dd989"
      },
      "source": [
        "print(guests[-1])"
      ],
      "execution_count": 67,
      "outputs": [
        {
          "output_type": "stream",
          "text": [
            "Shahzad\n"
          ],
          "name": "stdout"
        }
      ]
    },
    {
      "cell_type": "code",
      "metadata": {
        "id": "K2Cb-VTYGMxG"
      },
      "source": [
        "guests[-1]= \"Aurangzaib\""
      ],
      "execution_count": 68,
      "outputs": []
    },
    {
      "cell_type": "code",
      "metadata": {
        "colab": {
          "base_uri": "https://localhost:8080/"
        },
        "id": "VQ2SXMHRGk2o",
        "outputId": "d6e5bd43-0217-43ca-8e8a-60e40e9af07b"
      },
      "source": [
        "print(f\"\\n\\tAssalam O Alaikum,\\n\\tIt is a pleasure for me if you come tonight to dinner Dear {guests[-1]}\\n\\tYour Friend Muhammad Azhar\")"
      ],
      "execution_count": 69,
      "outputs": [
        {
          "output_type": "stream",
          "text": [
            "\n",
            "\tAssalam O Alaikum,\n",
            "\tIt is a pleasure for me if you come tonight to dinner Dear Aurangzaib\n",
            "\tYour Friend Muhammad Azhar\n"
          ],
          "name": "stdout"
        }
      ]
    },
    {
      "cell_type": "markdown",
      "metadata": {
        "id": "AEo2vHJYGwaW"
      },
      "source": [
        "3-6. More Guests: You just found a bigger dinner table, so now more space is\r\n",
        "available. Think of three more guests to invite to dinner\r\n",
        "\r\n",
        "\r\n",
        "*   Start with your program from Exercise 3-4 or Exercise 3-5. Add a print()\r\n",
        "call to the end of your program informing people that you found a bigger\r\n",
        "dinner table.\r\n",
        "*   Use insert() to add one new guest to the beginning of your list.\r\n",
        "*   Use insert() to add one new guest to the middle of your list.\r\n",
        "*   Use append() to add one new guest to the end of your list.\r\n",
        "*   Print a new set of invitation messages, one for each person in your list.\r\n"
      ]
    },
    {
      "cell_type": "code",
      "metadata": {
        "colab": {
          "base_uri": "https://localhost:8080/"
        },
        "id": "0aovJR-rH_X2",
        "outputId": "ecde5087-0844-4d9b-b92c-6ba4bbbcb220"
      },
      "source": [
        "print(guests)"
      ],
      "execution_count": 70,
      "outputs": [
        {
          "output_type": "stream",
          "text": [
            "['Mehar', 'Ghazanfar', 'Raheel', 'Aurangzaib']\n"
          ],
          "name": "stdout"
        }
      ]
    },
    {
      "cell_type": "code",
      "metadata": {
        "colab": {
          "base_uri": "https://localhost:8080/"
        },
        "id": "iZM42bPWGuFX",
        "outputId": "835f3813-32fb-471c-9bdb-f053f1ed0c56"
      },
      "source": [
        "for guest in range(len(guests)):\r\n",
        "  print(f\"\\n\\tAssalam O Alaikum,\\n\\tIt is a pleasure for me if you come tonight to dinner Dear {guests[guest]}\\n\\tYour Friend Muhammad Azhar\")\r\n",
        "  print(\"\\tGuys I Found a bigger Dinner table.\")"
      ],
      "execution_count": 71,
      "outputs": [
        {
          "output_type": "stream",
          "text": [
            "\n",
            "\tAssalam O Alaikum,\n",
            "\tIt is a pleasure for me if you come tonight to dinner Dear Mehar\n",
            "\tYour Friend Muhammad Azhar\n",
            "\tGuys I Found a bigger Dinner table.\n",
            "\n",
            "\tAssalam O Alaikum,\n",
            "\tIt is a pleasure for me if you come tonight to dinner Dear Ghazanfar\n",
            "\tYour Friend Muhammad Azhar\n",
            "\tGuys I Found a bigger Dinner table.\n",
            "\n",
            "\tAssalam O Alaikum,\n",
            "\tIt is a pleasure for me if you come tonight to dinner Dear Raheel\n",
            "\tYour Friend Muhammad Azhar\n",
            "\tGuys I Found a bigger Dinner table.\n",
            "\n",
            "\tAssalam O Alaikum,\n",
            "\tIt is a pleasure for me if you come tonight to dinner Dear Aurangzaib\n",
            "\tYour Friend Muhammad Azhar\n",
            "\tGuys I Found a bigger Dinner table.\n"
          ],
          "name": "stdout"
        }
      ]
    },
    {
      "cell_type": "code",
      "metadata": {
        "id": "TFkEv3jxIDBg"
      },
      "source": [
        "guests.insert(0,\"Farooq\")"
      ],
      "execution_count": 72,
      "outputs": []
    },
    {
      "cell_type": "code",
      "metadata": {
        "id": "3-IWgdK6IZ8R"
      },
      "source": [
        "middlelist =len(guests)//2\r\n",
        "guests.insert(middlelist,\"Arham\")"
      ],
      "execution_count": 73,
      "outputs": []
    },
    {
      "cell_type": "code",
      "metadata": {
        "id": "JpMJqUnuPYPr"
      },
      "source": [
        "guests.append(\"Faisal\")"
      ],
      "execution_count": 74,
      "outputs": []
    },
    {
      "cell_type": "code",
      "metadata": {
        "colab": {
          "base_uri": "https://localhost:8080/"
        },
        "id": "BQsJK-GzSJb1",
        "outputId": "16867500-bfba-4ab4-c746-9c4aaaff3a38"
      },
      "source": [
        "for guest in range(len(guests)):\r\n",
        "  print(f\"\\n\\tAssalam O Alaikum,\\n\\tIt is a pleasure for me if you come tonight to dinner Dear {guests[guest]}\\n\\tYour Friend Muhammad Azhar\")\r\n",
        "  print(\"\\tGuys I Found a bigger Dinner table.\")\r\n",
        "  print(\"\\t######################################\")"
      ],
      "execution_count": 75,
      "outputs": [
        {
          "output_type": "stream",
          "text": [
            "\n",
            "\tAssalam O Alaikum,\n",
            "\tIt is a pleasure for me if you come tonight to dinner Dear Farooq\n",
            "\tYour Friend Muhammad Azhar\n",
            "\tGuys I Found a bigger Dinner table.\n",
            "\t######################################\n",
            "\n",
            "\tAssalam O Alaikum,\n",
            "\tIt is a pleasure for me if you come tonight to dinner Dear Mehar\n",
            "\tYour Friend Muhammad Azhar\n",
            "\tGuys I Found a bigger Dinner table.\n",
            "\t######################################\n",
            "\n",
            "\tAssalam O Alaikum,\n",
            "\tIt is a pleasure for me if you come tonight to dinner Dear Arham\n",
            "\tYour Friend Muhammad Azhar\n",
            "\tGuys I Found a bigger Dinner table.\n",
            "\t######################################\n",
            "\n",
            "\tAssalam O Alaikum,\n",
            "\tIt is a pleasure for me if you come tonight to dinner Dear Ghazanfar\n",
            "\tYour Friend Muhammad Azhar\n",
            "\tGuys I Found a bigger Dinner table.\n",
            "\t######################################\n",
            "\n",
            "\tAssalam O Alaikum,\n",
            "\tIt is a pleasure for me if you come tonight to dinner Dear Raheel\n",
            "\tYour Friend Muhammad Azhar\n",
            "\tGuys I Found a bigger Dinner table.\n",
            "\t######################################\n",
            "\n",
            "\tAssalam O Alaikum,\n",
            "\tIt is a pleasure for me if you come tonight to dinner Dear Aurangzaib\n",
            "\tYour Friend Muhammad Azhar\n",
            "\tGuys I Found a bigger Dinner table.\n",
            "\t######################################\n",
            "\n",
            "\tAssalam O Alaikum,\n",
            "\tIt is a pleasure for me if you come tonight to dinner Dear Faisal\n",
            "\tYour Friend Muhammad Azhar\n",
            "\tGuys I Found a bigger Dinner table.\n",
            "\t######################################\n"
          ],
          "name": "stdout"
        }
      ]
    },
    {
      "cell_type": "markdown",
      "metadata": {
        "id": "pAXYu-zHTXiC"
      },
      "source": [
        "3-7. Shrinking Guest List: You just found out that your new dinner table won’t\r\n",
        "arrive in time for the dinner, and you have space for only two guests.\r\n",
        "*\t Start with your program from Exercise 3-6. Add a new line that prints a\r\n",
        "message saying that you can invite only two people for dinner.\r\n",
        "*\t Use pop() to remove guests from your list one at a time until only two\r\n",
        "names remain in your list. Each time you pop a name from your list, print\r\n",
        "a message to that person letting them know you’re sorry you can’t invite\r\n",
        "them to dinner.\r\n",
        "*\t Print a message to each of the two people still on your list, letting them\r\n",
        "know they’re still invited.\r\n",
        "*\t Use del to remove the last two names from your list, so you have an empty\r\n",
        "list. Print your list to make sure you actually have an empty list at the end\r\n",
        "of your program."
      ]
    },
    {
      "cell_type": "code",
      "metadata": {
        "colab": {
          "base_uri": "https://localhost:8080/"
        },
        "id": "E5Ec8pE0SiDl",
        "outputId": "9ef034ae-54f1-4bcb-e2d3-bedb4690aae7"
      },
      "source": [
        "print(\"\\t Sorry Guys I am Only Able to Invite Only Two People tonight on dinner So i will invite you soon another day\")"
      ],
      "execution_count": 76,
      "outputs": [
        {
          "output_type": "stream",
          "text": [
            "\t Sorry Guys I am Only Able to Invite Only Two People tonight on dinner So i will invite you soon another day\n"
          ],
          "name": "stdout"
        }
      ]
    },
    {
      "cell_type": "code",
      "metadata": {
        "colab": {
          "base_uri": "https://localhost:8080/"
        },
        "id": "unatS-Yfa0n2",
        "outputId": "0db664a0-c767-4d69-88db-106a8c9cf3ea"
      },
      "source": [
        "for popnum in range(len(guests)-2):\r\n",
        "  print(f\"\\t\\nSorry {guests.pop()} I am Only Able to Invite Only Two People tonight on dinner So i will invite you soon another day\")\r\n",
        "  print(\"##################\")"
      ],
      "execution_count": 77,
      "outputs": [
        {
          "output_type": "stream",
          "text": [
            "\t\n",
            "Sorry Faisal I am Only Able to Invite Only Two People tonight on dinner So i will invite you soon another day\n",
            "##################\n",
            "\t\n",
            "Sorry Aurangzaib I am Only Able to Invite Only Two People tonight on dinner So i will invite you soon another day\n",
            "##################\n",
            "\t\n",
            "Sorry Raheel I am Only Able to Invite Only Two People tonight on dinner So i will invite you soon another day\n",
            "##################\n",
            "\t\n",
            "Sorry Ghazanfar I am Only Able to Invite Only Two People tonight on dinner So i will invite you soon another day\n",
            "##################\n",
            "\t\n",
            "Sorry Arham I am Only Able to Invite Only Two People tonight on dinner So i will invite you soon another day\n",
            "##################\n"
          ],
          "name": "stdout"
        }
      ]
    },
    {
      "cell_type": "code",
      "metadata": {
        "colab": {
          "base_uri": "https://localhost:8080/"
        },
        "id": "EipdSfBUbEVX",
        "outputId": "575c6eaa-cac2-4e2e-c5e9-5eec375089a6"
      },
      "source": [
        "for remainingguest in range(len(guests)):\r\n",
        "  print(f\"Dear {guests[remainingguest]} You are still on the list. So, Please Come Tonight on Dinner.\")"
      ],
      "execution_count": 78,
      "outputs": [
        {
          "output_type": "stream",
          "text": [
            "Dear Farooq You are still on the list. So, Please Come Tonight on Dinner.\n",
            "Dear Mehar You are still on the list. So, Please Come Tonight on Dinner.\n"
          ],
          "name": "stdout"
        }
      ]
    },
    {
      "cell_type": "code",
      "metadata": {
        "id": "JaVEINRSbL_2"
      },
      "source": [
        "del guests[:]"
      ],
      "execution_count": 79,
      "outputs": []
    },
    {
      "cell_type": "code",
      "metadata": {
        "colab": {
          "base_uri": "https://localhost:8080/"
        },
        "id": "mL21ZcNFch1N",
        "outputId": "7ba33920-319a-4e1d-bdcc-577f5e4342e6"
      },
      "source": [
        "print(guests)"
      ],
      "execution_count": 80,
      "outputs": [
        {
          "output_type": "stream",
          "text": [
            "[]\n"
          ],
          "name": "stdout"
        }
      ]
    },
    {
      "cell_type": "markdown",
      "metadata": {
        "id": "L5T-cWxWet12"
      },
      "source": [
        "3-8. Seeing the World: Think of at least five places in the world you’d like to\r\n",
        "visit.\r\n",
        "*\t Store the locations in a list. Make sure the list is not in alphabetical order.\r\n",
        "*\t Print your list in its original order. Don’t worry about printing the list neatly,\r\n",
        "just print it as a raw Python list.\r\n",
        "*\t Use sorted() to print your list in alphabetical order without modifying the\r\n",
        "actual list.\r\n",
        "*\t Show that your list is still in its original order by printing it.\r\n",
        "*\t Use sorted() to print your list in reverse alphabetical order without changing the order of the original list.\r\n",
        "*\t Show that your list is still in its original order by printing it again.\r\n",
        "*\t Use reverse() to change the order of your list. Print the list to show that its\r\n",
        "order has changed.\r\n",
        "*\t Use reverse() to change the order of your list again. Print the list to show\r\n",
        "it’s back to its original order.\r\n",
        "*\t Use sort() to change your list so it’s stored in alphabetical order. Print the\r\n",
        "list to show that its order has been changed.\r\n",
        "*\t Use sort() to change your list so it’s stored in reverse alphabetical order.\r\n",
        "Print the list to show that its order has changed."
      ]
    },
    {
      "cell_type": "code",
      "metadata": {
        "id": "rFg34EVDckeu"
      },
      "source": [
        "place_to_visit = [\"Mecca\",\"Madina\",\"Jerusalem\",\"Istanbul\",\"Bejing\"]"
      ],
      "execution_count": 81,
      "outputs": []
    },
    {
      "cell_type": "code",
      "metadata": {
        "colab": {
          "base_uri": "https://localhost:8080/"
        },
        "id": "OFI9rLNdhJUq",
        "outputId": "cecf4ac0-6220-43c5-9d38-ecc7d8d728be"
      },
      "source": [
        "print(place_to_visit)"
      ],
      "execution_count": 82,
      "outputs": [
        {
          "output_type": "stream",
          "text": [
            "['Mecca', 'Madina', 'Jerusalem', 'Istanbul', 'Bejing']\n"
          ],
          "name": "stdout"
        }
      ]
    },
    {
      "cell_type": "code",
      "metadata": {
        "colab": {
          "base_uri": "https://localhost:8080/"
        },
        "id": "uqC4MQ4ihPeE",
        "outputId": "f3193f64-4411-4885-ef96-25708def414a"
      },
      "source": [
        "print(f\"{sorted(place_to_visit)}\")"
      ],
      "execution_count": 83,
      "outputs": [
        {
          "output_type": "stream",
          "text": [
            "['Bejing', 'Istanbul', 'Jerusalem', 'Madina', 'Mecca']\n"
          ],
          "name": "stdout"
        }
      ]
    },
    {
      "cell_type": "code",
      "metadata": {
        "colab": {
          "base_uri": "https://localhost:8080/"
        },
        "id": "z9eY8OzuhUTI",
        "outputId": "819fd89c-5735-4272-bff0-042fee9e9fe4"
      },
      "source": [
        "print(place_to_visit)"
      ],
      "execution_count": 84,
      "outputs": [
        {
          "output_type": "stream",
          "text": [
            "['Mecca', 'Madina', 'Jerusalem', 'Istanbul', 'Bejing']\n"
          ],
          "name": "stdout"
        }
      ]
    },
    {
      "cell_type": "code",
      "metadata": {
        "id": "WADJMS6OiCo8"
      },
      "source": [
        "place_to_visit.reverse()"
      ],
      "execution_count": 85,
      "outputs": []
    },
    {
      "cell_type": "code",
      "metadata": {
        "colab": {
          "base_uri": "https://localhost:8080/"
        },
        "id": "xDYK2ee7iXQp",
        "outputId": "35b69f42-c192-4a17-f4c3-c5c163144427"
      },
      "source": [
        "print(place_to_visit)"
      ],
      "execution_count": 86,
      "outputs": [
        {
          "output_type": "stream",
          "text": [
            "['Bejing', 'Istanbul', 'Jerusalem', 'Madina', 'Mecca']\n"
          ],
          "name": "stdout"
        }
      ]
    },
    {
      "cell_type": "code",
      "metadata": {
        "id": "u6ib2qIbiKp8"
      },
      "source": [
        "place_to_visit.sort()"
      ],
      "execution_count": 87,
      "outputs": []
    },
    {
      "cell_type": "code",
      "metadata": {
        "colab": {
          "base_uri": "https://localhost:8080/"
        },
        "id": "ybb9cuQ3inrX",
        "outputId": "a6c63d30-dfbc-418c-b9ff-7de8b5af1315"
      },
      "source": [
        "print(place_to_visit)"
      ],
      "execution_count": 88,
      "outputs": [
        {
          "output_type": "stream",
          "text": [
            "['Bejing', 'Istanbul', 'Jerusalem', 'Madina', 'Mecca']\n"
          ],
          "name": "stdout"
        }
      ]
    },
    {
      "cell_type": "code",
      "metadata": {
        "id": "-BbuPBSqiphz"
      },
      "source": [
        "place_to_visit.sort(reverse=True)"
      ],
      "execution_count": 89,
      "outputs": []
    },
    {
      "cell_type": "code",
      "metadata": {
        "colab": {
          "base_uri": "https://localhost:8080/"
        },
        "id": "WdyaD8KCix9Y",
        "outputId": "7739035d-a55f-4634-cb95-8d294c89248a"
      },
      "source": [
        "print(place_to_visit)"
      ],
      "execution_count": 90,
      "outputs": [
        {
          "output_type": "stream",
          "text": [
            "['Mecca', 'Madina', 'Jerusalem', 'Istanbul', 'Bejing']\n"
          ],
          "name": "stdout"
        }
      ]
    },
    {
      "cell_type": "markdown",
      "metadata": {
        "id": "BkEsWEJ9i8zF"
      },
      "source": [
        "3-9. Dinner Guests: Working with one of the programs from Exercises 3-4\r\n",
        "through 3-7 (page 42), use len() to print a message indicating the number\r\n",
        "of people you are inviting to dinner."
      ]
    },
    {
      "cell_type": "code",
      "metadata": {
        "colab": {
          "base_uri": "https://localhost:8080/"
        },
        "id": "x-L9xpr6jDjK",
        "outputId": "3a42bf90-99da-42e9-c467-e5dd9b81e155"
      },
      "source": [
        "print(f\"Number of Guests Ivited {len(CopyGuestsdata)}\")"
      ],
      "execution_count": 91,
      "outputs": [
        {
          "output_type": "stream",
          "text": [
            "Number of Guests Ivited 4\n"
          ],
          "name": "stdout"
        }
      ]
    },
    {
      "cell_type": "markdown",
      "metadata": {
        "id": "-rgq3vBui2KG"
      },
      "source": [
        "3-10. Every Function: Think of something you could store in a list. For example,\r\n",
        "you could make a list of mountains, rivers, countries, cities, languages, or anything else you’d like. Write a program that creates a list containing these items\r\n",
        "and then uses each function introduced in this chapter at least once."
      ]
    },
    {
      "cell_type": "code",
      "metadata": {
        "id": "C3mzHEEQi0R9"
      },
      "source": [
        "newlist=[\"Pakistan\",\"Turkey\",\"Saudia\",\"China\",\"K2\",\"Jhelam\",\"Multan\",\"Karachi\",\"Urdu\",\"Arabic\",\"Python\"]"
      ],
      "execution_count": 103,
      "outputs": []
    },
    {
      "cell_type": "code",
      "metadata": {
        "colab": {
          "base_uri": "https://localhost:8080/"
        },
        "id": "lnSL6uAXnYYh",
        "outputId": "5301c1a8-e0a4-487e-d780-0981e3335afa"
      },
      "source": [
        "print(len(newlist))"
      ],
      "execution_count": 108,
      "outputs": [
        {
          "output_type": "stream",
          "text": [
            "11\n"
          ],
          "name": "stdout"
        }
      ]
    },
    {
      "cell_type": "code",
      "metadata": {
        "colab": {
          "base_uri": "https://localhost:8080/"
        },
        "id": "97UUAKvuz6uh",
        "outputId": "1b73ab2e-33cf-4d49-83bd-bf6d63ea1d69"
      },
      "source": [
        "print(sorted(newlist))"
      ],
      "execution_count": 111,
      "outputs": [
        {
          "output_type": "stream",
          "text": [
            "['Arabic', 'China', 'Jhelam', 'K2', 'Karachi', 'Multan', 'Pakistan', 'Python', 'Saudia', 'Turkey', 'Urdu']\n"
          ],
          "name": "stdout"
        }
      ]
    },
    {
      "cell_type": "code",
      "metadata": {
        "colab": {
          "base_uri": "https://localhost:8080/"
        },
        "id": "25dNxpee0SLo",
        "outputId": "02f6dc1f-b06e-4338-acac-ab643165fbbf"
      },
      "source": [
        "reversed(newlist)\r\n",
        "newlist"
      ],
      "execution_count": 114,
      "outputs": [
        {
          "output_type": "execute_result",
          "data": {
            "text/plain": [
              "['Pakistan',\n",
              " 'Turkey',\n",
              " 'Saudia',\n",
              " 'China',\n",
              " 'K2',\n",
              " 'Jhelam',\n",
              " 'Multan',\n",
              " 'Karachi',\n",
              " 'Urdu',\n",
              " 'Arabic',\n",
              " 'Python']"
            ]
          },
          "metadata": {
            "tags": []
          },
          "execution_count": 114
        }
      ]
    },
    {
      "cell_type": "code",
      "metadata": {
        "id": "nyi8rzAr0ca9"
      },
      "source": [
        "newlist.append(\"UNI\")"
      ],
      "execution_count": 115,
      "outputs": []
    },
    {
      "cell_type": "code",
      "metadata": {
        "colab": {
          "base_uri": "https://localhost:8080/"
        },
        "id": "7SunXPbO0qju",
        "outputId": "9ecb8e09-2a90-4414-ece0-ec7e5a67b344"
      },
      "source": [
        "newlist"
      ],
      "execution_count": 116,
      "outputs": [
        {
          "output_type": "execute_result",
          "data": {
            "text/plain": [
              "['Pakistan',\n",
              " 'Turkey',\n",
              " 'Saudia',\n",
              " 'China',\n",
              " 'K2',\n",
              " 'Jhelam',\n",
              " 'Multan',\n",
              " 'Karachi',\n",
              " 'Urdu',\n",
              " 'Arabic',\n",
              " 'Python',\n",
              " 'UNI']"
            ]
          },
          "metadata": {
            "tags": []
          },
          "execution_count": 116
        }
      ]
    },
    {
      "cell_type": "code",
      "metadata": {
        "id": "NU54w0SU0rzX"
      },
      "source": [
        "newlist.clear()"
      ],
      "execution_count": 117,
      "outputs": []
    },
    {
      "cell_type": "code",
      "metadata": {
        "colab": {
          "base_uri": "https://localhost:8080/"
        },
        "id": "MQr2Np-z0wp_",
        "outputId": "2c856b65-6e6e-4599-b242-be67a01f9797"
      },
      "source": [
        "newlist"
      ],
      "execution_count": 118,
      "outputs": [
        {
          "output_type": "execute_result",
          "data": {
            "text/plain": [
              "[]"
            ]
          },
          "metadata": {
            "tags": []
          },
          "execution_count": 118
        }
      ]
    },
    {
      "cell_type": "markdown",
      "metadata": {
        "id": "mbg_i-yZ0zCa"
      },
      "source": [
        "3-11. Intentional Error: If you haven’t received an index error in one of your\r\n",
        "programs yet, try to make one happen. Change an index in one of your programs to produce an index error. Make sure you correct the error before closing the program."
      ]
    },
    {
      "cell_type": "code",
      "metadata": {
        "colab": {
          "base_uri": "https://localhost:8080/",
          "height": 163
        },
        "id": "KkXfvy1D0xlo",
        "outputId": "8c2db4f9-3118-4966-80cd-808f29bbcf95"
      },
      "source": [
        "newlist[1]"
      ],
      "execution_count": 119,
      "outputs": [
        {
          "output_type": "error",
          "ename": "IndexError",
          "evalue": "ignored",
          "traceback": [
            "\u001b[0;31m---------------------------------------------------------------------------\u001b[0m",
            "\u001b[0;31mIndexError\u001b[0m                                Traceback (most recent call last)",
            "\u001b[0;32m<ipython-input-119-1117321027cc>\u001b[0m in \u001b[0;36m<module>\u001b[0;34m()\u001b[0m\n\u001b[0;32m----> 1\u001b[0;31m \u001b[0mnewlist\u001b[0m\u001b[0;34m[\u001b[0m\u001b[0;36m1\u001b[0m\u001b[0;34m]\u001b[0m\u001b[0;34m\u001b[0m\u001b[0;34m\u001b[0m\u001b[0m\n\u001b[0m",
            "\u001b[0;31mIndexError\u001b[0m: list index out of range"
          ]
        }
      ]
    },
    {
      "cell_type": "code",
      "metadata": {
        "id": "FUV931la1B42"
      },
      "source": [
        "#Done Chapter 3"
      ],
      "execution_count": null,
      "outputs": []
    }
  ]
}