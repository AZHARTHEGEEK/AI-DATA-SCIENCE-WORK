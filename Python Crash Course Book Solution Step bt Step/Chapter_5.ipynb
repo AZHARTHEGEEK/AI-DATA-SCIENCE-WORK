{
  "nbformat": 4,
  "nbformat_minor": 0,
  "metadata": {
    "colab": {
      "name": "Chapter_5.ipynb",
      "provenance": [],
      "collapsed_sections": []
    },
    "kernelspec": {
      "name": "python3",
      "display_name": "Python 3"
    }
  },
  "cells": [
    {
      "cell_type": "markdown",
      "metadata": {
        "id": "_rumB7tOBMpb"
      },
      "source": [
        "## if Statemens"
      ]
    },
    {
      "cell_type": "markdown",
      "metadata": {
        "id": "wORuq7E3BNkE"
      },
      "source": [
        "5-1. Conditional Tests: Write a series of conditional tests. Print a statement\r\n",
        "describing each test and your prediction for the results of each test. Your code\r\n",
        "should look something like this:\r\n",
        "\r\n",
        "* car = 'subaru'\r\n",
        "* print(\"Is car == 'subaru'? I predict True.\")\r\n",
        "* print(car == 'subaru')\r\n",
        "\r\n",
        "\r\n",
        "* print(\"\\nIs car == 'audi'? I predict False.\")\r\n",
        "* print(car == 'audi')"
      ]
    },
    {
      "cell_type": "code",
      "metadata": {
        "colab": {
          "base_uri": "https://localhost:8080/"
        },
        "id": "qcd4UD-6CugL",
        "outputId": "bf6f7e42-85c1-461e-cbdf-e44b45e2e56d"
      },
      "source": [
        "Number = 6\r\n",
        "print(\"Test 1 : Is Number > 5? I predict True.\")\r\n",
        "print(Number > 5)\r\n",
        "print(\"\\nTest 2  :Is Number == 5? I predict False.\")\r\n",
        "print(Number == 5)\r\n",
        "print(\"\\nTest 3  :Is Number < 5? I predict False.\")\r\n",
        "print(Number < 5)\r\n",
        "print(\"\\nTest 4  :Is Number >= 7? I predict False.\")\r\n",
        "print(Number >= 7)\r\n",
        "print(\"\\nTest 5  :Is Number != 2 ? I predict True.\")\r\n",
        "print(Number != 7)\r\n",
        "print(\"\\nTest 6  :Is Number == 6 ? I predict True.\")\r\n",
        "print(Number == 6)\r\n",
        "print(\"\\nTest 7  :Is Number or 8 ? I predict 6.\")\r\n",
        "print(Number or 8)\r\n",
        "print(\"\\nTest 8  :Is Number and 8 ? I predict 6.\")\r\n",
        "print(8 and Number)\r\n",
        "print(\"\\nTest 9  :Is 0 or 1 ? I predict 1.\")\r\n",
        "print(0 or 1)\r\n",
        "print(\"\\nTest 10  :Is 10 or 11 ? I predict 10.\")\r\n",
        "print(10 or 11)"
      ],
      "execution_count": 20,
      "outputs": [
        {
          "output_type": "stream",
          "text": [
            "Test 1 : Is Number > 5? I predict True.\n",
            "True\n",
            "\n",
            "Test 2  :Is Number == 5? I predict False.\n",
            "False\n",
            "\n",
            "Test 3  :Is Number < 5? I predict False.\n",
            "False\n",
            "\n",
            "Test 4  :Is Number >= 7? I predict False.\n",
            "False\n",
            "\n",
            "Test 5  :Is Number != 2 ? I predict True.\n",
            "True\n",
            "\n",
            "Test 6  :Is Number == 6 ? I predict True.\n",
            "True\n",
            "\n",
            "Test 7  :Is Number or 8 ? I predict 6.\n",
            "6\n",
            "\n",
            "Test 8  :Is Number and 8 ? I predict 6.\n",
            "6\n",
            "\n",
            "Test 9  :Is 0 or 1 ? I predict 1.\n",
            "1\n",
            "\n",
            "Test 10  :Is 10 or 11 ? I predict 10.\n",
            "10\n"
          ],
          "name": "stdout"
        }
      ]
    },
    {
      "cell_type": "markdown",
      "metadata": {
        "id": "p3csLPt_GOii"
      },
      "source": [
        "5-2. More Conditional Tests: You don’t have to limit the number of tests you\r\n",
        "create to ten. If you want to try more comparisons, write more tests and add\r\n",
        "them to conditional_tests.py. Have at least one True and one False result for\r\n",
        "each of the following:\r\n",
        "*\t Tests for equality and inequality with strings\r\n",
        "*\t Tests using the lower() method\r\n",
        "*\t Numerical tests involving equality and inequality, greater than and\r\n",
        "less than, greater than or equal to, and less than or equal to\r\n",
        "*\t Tests using the and keyword and the or keyword\r\n",
        "*\t Test whether an item is in a list\r\n",
        "*\t Test whether an item is not in a list"
      ]
    },
    {
      "cell_type": "code",
      "metadata": {
        "colab": {
          "base_uri": "https://localhost:8080/"
        },
        "id": "-9OVHJFaD6wW",
        "outputId": "e6f31fc2-1959-45b5-db6f-99ab2093429e"
      },
      "source": [
        "listtest =[4,5,6]\r\n",
        "print(\"\\nTest 11  :Is 5 in Test List ? I predict True.\")\r\n",
        "print(5 in listtest)\r\n",
        "print(\"\\nTest 12  :Is 1 in Test List ? I predict False.\")\r\n",
        "print(1 in listtest)"
      ],
      "execution_count": 22,
      "outputs": [
        {
          "output_type": "stream",
          "text": [
            "\n",
            "Test 11  :Is 5 in Test List ? I predict True.\n",
            "True\n",
            "\n",
            "Test 12  :Is 1 in Test List ? I predict False.\n",
            "False\n"
          ],
          "name": "stdout"
        }
      ]
    },
    {
      "cell_type": "markdown",
      "metadata": {
        "id": "NmN1HY98SL_Y"
      },
      "source": [
        "5-3. Alien Colors #1: Imagine an alien was just shot down in a game. Create a\r\n",
        "variable called alien_color and assign it a value of 'green', 'yellow', or 'red'.\r\n",
        "*\t Write an if statement to test whether the alien’s color is green. If it is, print\r\n",
        "a message that the player just earned 5 points.\r\n",
        "*\t Write one version of this program that passes the if test and another that\r\n",
        "fails. (The version that fails will have no output.)"
      ]
    },
    {
      "cell_type": "code",
      "metadata": {
        "colab": {
          "base_uri": "https://localhost:8080/"
        },
        "id": "q63KhfdhSDd7",
        "outputId": "5f5b9e50-1a08-4cad-d3c0-c33302a45a5d"
      },
      "source": [
        "alien_color = 'green'\r\n",
        "if alien_color == 'green':\r\n",
        "  print(\"You earned 5 points!!!\")"
      ],
      "execution_count": 28,
      "outputs": [
        {
          "output_type": "stream",
          "text": [
            "You earned 5 points!!!\n"
          ],
          "name": "stdout"
        }
      ]
    },
    {
      "cell_type": "code",
      "metadata": {
        "id": "yWLdg4bHS3V3"
      },
      "source": [
        "alien_color = 'red'\r\n",
        "if alien_color == 'green':\r\n",
        "  print(\"You earned 5 points!\")"
      ],
      "execution_count": 29,
      "outputs": []
    },
    {
      "cell_type": "markdown",
      "metadata": {
        "id": "n8k2ynKoSuWS"
      },
      "source": [
        "5-4. Alien Colors #2: Choose a color for an alien as you did in Exercise 5-3, and\r\n",
        "write an if-else chain.\r\n",
        "*\t If the alien’s color is green, print a statement that the player just earned\r\n",
        "5 points for shooting the alien.\r\n",
        "*\t If the alien’s color isn’t green, print a statement that the player just earned\r\n",
        "10 points.\r\n",
        "*\t Write one version of this program that runs the if block and another that\r\n",
        "runs the else block."
      ]
    },
    {
      "cell_type": "code",
      "metadata": {
        "colab": {
          "base_uri": "https://localhost:8080/"
        },
        "id": "EKPZ7CpOSjS1",
        "outputId": "b8c92c76-4372-41c9-e63a-1766d1f1af26"
      },
      "source": [
        "alien_color = 'green'\r\n",
        "if alien_color == 'green':\r\n",
        "  print(\"You earned 5 points for Shooting th Alien!!!\")\r\n",
        "else:\r\n",
        "  print(\"You earned 10 points for Shooting th Alien!!!\")"
      ],
      "execution_count": 39,
      "outputs": [
        {
          "output_type": "stream",
          "text": [
            "You earned 5 points for Shooting th Alien!!!\n"
          ],
          "name": "stdout"
        }
      ]
    },
    {
      "cell_type": "code",
      "metadata": {
        "colab": {
          "base_uri": "https://localhost:8080/"
        },
        "id": "i8SFHBCRTNUj",
        "outputId": "60bdc837-0807-4b77-9077-c1efd6758802"
      },
      "source": [
        "alien_color = 'red'\r\n",
        "if alien_color == 'green':\r\n",
        "  print(\"You earned 5 points for Shooting th Alien!!!\")\r\n",
        "else:\r\n",
        "  print(\"You earned 10 points for Shooting th Alien!!!\")"
      ],
      "execution_count": 41,
      "outputs": [
        {
          "output_type": "stream",
          "text": [
            "You earned 10 points for Shooting th Alien!!!\n"
          ],
          "name": "stdout"
        }
      ]
    },
    {
      "cell_type": "markdown",
      "metadata": {
        "id": "Mkhzu9EPUK_C"
      },
      "source": [
        "5-5. Alien Colors #3: Turn your if-else chain from Exercise 5-4 into an if-elifelse chain.\r\n",
        "*\t If the alien is green, print a message that the player earned 5 points.\r\n",
        "*\t If the alien is yellow, print a message that the player earned 10 points.\r\n",
        "*\t If the alien is red, print a message that the player earned 15 points.\r\n",
        "*\t Write three versions of this program, making sure each message is printed\r\n",
        "for the appropriate color alien."
      ]
    },
    {
      "cell_type": "code",
      "metadata": {
        "colab": {
          "base_uri": "https://localhost:8080/"
        },
        "id": "C_YnpF_fTswY",
        "outputId": "980e2071-52fa-45a1-800d-7b933288232d"
      },
      "source": [
        "alien_color = 'red'\r\n",
        "if alien_color == 'green':\r\n",
        "  print(\"You earned 5 points for Shooting th Alien!!!\")\r\n",
        "elif alien_color == 'yellow':\r\n",
        "  print(\"You earned 10 points for Shooting th Alien!!!\")\r\n",
        "else:\r\n",
        "  print(\"You earned 15 points for Shooting th Alien!!!\")"
      ],
      "execution_count": 42,
      "outputs": [
        {
          "output_type": "stream",
          "text": [
            "You earned 15 points for Shooting th Alien!!!\n"
          ],
          "name": "stdout"
        }
      ]
    },
    {
      "cell_type": "markdown",
      "metadata": {
        "id": "9Os-Va-nVIbv"
      },
      "source": [
        "5-6. Stages of Life: Write an if-elif-else chain that determines a person’s\r\n",
        "stage of life. Set a value for the variable age, and then:\r\n",
        "*\t If the person is less than 2 years old, print a message that the person is\r\n",
        "a baby.\r\n",
        "*\t If the person is at least 2 years old but less than 4, print a message that\r\n",
        "the person is a toddler.\r\n",
        "*\t If the person is at least 4 years old but less than 13, print a message that\r\n",
        "the person is a kid.\r\n",
        "*\t If the person is at least 13 years old but less than 20, print a message that\r\n",
        "the person is a teenager.\r\n",
        "*\t If the person is at least 20 years old but less than 65, print a message that\r\n",
        "the person is an adult.\r\n",
        "*\t If the person is age 65 or older, print a message that the person is an\r\n",
        "elder."
      ]
    },
    {
      "cell_type": "code",
      "metadata": {
        "colab": {
          "base_uri": "https://localhost:8080/"
        },
        "id": "A1kiQ9WRUqEq",
        "outputId": "b2d5533e-ce03-4421-cbd7-787615bd304e"
      },
      "source": [
        "age = 21\r\n",
        "if age < 2:\r\n",
        "  print(\"Person is a baby\")\r\n",
        "elif age < 4:\r\n",
        "  print(\"Person is a toddler\")\r\n",
        "elif age < 13:\r\n",
        "  print(\"Person is a kid\")\r\n",
        "elif age < 20:\r\n",
        "  print(\"Person is a teenager\")\r\n",
        "elif age < 65:\r\n",
        "  print(\"Person is an adult\")\r\n",
        "else:\r\n",
        "  print(\"Person is an elder\")"
      ],
      "execution_count": 45,
      "outputs": [
        {
          "output_type": "stream",
          "text": [
            "Person is an adult\n"
          ],
          "name": "stdout"
        }
      ]
    },
    {
      "cell_type": "markdown",
      "metadata": {
        "id": "VZ9YivF0WTh5"
      },
      "source": [
        "5-7. Favorite Fruit: Make a list of your favorite fruits, and then write a series of\r\n",
        "independent if statements that check for certain fruits in your list.\r\n",
        "*\t Make a list of your three favorite fruits and call it favorite_fruits.\r\n",
        "*\t Write five if statements. Each should check whether a certain kind of fruit\r\n",
        "is in your list. If the fruit is in your list, the if block should print a statement,\r\n",
        "such as You really like bananas!"
      ]
    },
    {
      "cell_type": "code",
      "metadata": {
        "colab": {
          "base_uri": "https://localhost:8080/"
        },
        "id": "f35pizsPVGzg",
        "outputId": "f7f303f1-a70a-47b5-bcf9-9a8146938d1d"
      },
      "source": [
        "favorite_fruits = [\"Mango\",\"Pineapple\",\"Stawberry\",\"Cherry\",\"Sapodilla\"]\r\n",
        "\r\n",
        "if 'Pomegranate' in favorite_fruits:\r\n",
        "  print(\"You really like Pomegranate!\")\r\n",
        "if 'Cherry' in favorite_fruits:\r\n",
        "  print(\"You really like Cherry!\")\r\n",
        "if 'Banana' in favorite_fruits:\r\n",
        "  print(\"You really like Banana!\")\r\n",
        "if 'Mango' in favorite_fruits:\r\n",
        "  print(\"You really like Mango!\")\r\n",
        "if 'Cherry' in favorite_fruits:\r\n",
        "  print(\"You really like Cherry!\")\r\n"
      ],
      "execution_count": 49,
      "outputs": [
        {
          "output_type": "stream",
          "text": [
            "You really like Cherry!\n",
            "You really like Mango!\n",
            "You really like Cherry!\n"
          ],
          "name": "stdout"
        }
      ]
    },
    {
      "cell_type": "markdown",
      "metadata": {
        "id": "hGw1NMrpYBIV"
      },
      "source": [
        "5-8. Hello Admin: Make a list of five or more usernames, including the name\r\n",
        "'admin'. Imagine you are writing code that will print a greeting to each user\r\n",
        "after they log in to a website. Loop through the list, and print a greeting to\r\n",
        "each user:\r\n",
        "*\t If the username is 'admin', print a special greeting, such as Hello admin,\r\n",
        "would you like to see a status report?\r\n",
        "*\t Otherwise, print a generic greeting, such as Hello Jaden, thank you for\r\n",
        "logging in again"
      ]
    },
    {
      "cell_type": "code",
      "metadata": {
        "colab": {
          "base_uri": "https://localhost:8080/"
        },
        "id": "hd9MJbwBXxDd",
        "outputId": "3a863b29-3978-4650-ec2f-0aaa6f502c4b"
      },
      "source": [
        "usernames = [\"admin\",\"mehar\",\"ajmal\",\"ajmal\",\"ghazanfar\"]\r\n",
        "for username in usernames:\r\n",
        "  if username == 'admin':\r\n",
        "    print(\"Hello admin, would you like to see a status report?\")\r\n",
        "  else:\r\n",
        "    print(f\"Hello {username.title()}, thank you for logging in again.\")"
      ],
      "execution_count": 53,
      "outputs": [
        {
          "output_type": "stream",
          "text": [
            "Hello admin, would you like to see a status report?\n",
            "Hello Mehar, thank you for logging in again.\n",
            "Hello Ajmal, thank you for logging in again.\n",
            "Hello Ajmal, thank you for logging in again.\n",
            "Hello Ghazanfar, thank you for logging in again.\n"
          ],
          "name": "stdout"
        }
      ]
    },
    {
      "cell_type": "markdown",
      "metadata": {
        "id": "Gy_tbgkkZM8f"
      },
      "source": [
        "5-9. No Users: Add an if test to hello_admin.py to make sure the list of users is\r\n",
        "not empty.\r\n",
        "*\t If the list is empty, print the message We need to find some users!\r\n",
        "*\t Remove all of the usernames from your list, and make sure the correct\r\n",
        "message is printed."
      ]
    },
    {
      "cell_type": "code",
      "metadata": {
        "id": "ACaQN1rRY0JJ"
      },
      "source": [
        "del usernames[:]"
      ],
      "execution_count": 58,
      "outputs": []
    },
    {
      "cell_type": "code",
      "metadata": {
        "colab": {
          "base_uri": "https://localhost:8080/"
        },
        "id": "hMlIwjvgZlq4",
        "outputId": "daa3af2c-d61a-42b7-aaef-53b811a07f3b"
      },
      "source": [
        "usernames"
      ],
      "execution_count": 59,
      "outputs": [
        {
          "output_type": "execute_result",
          "data": {
            "text/plain": [
              "[]"
            ]
          },
          "metadata": {
            "tags": []
          },
          "execution_count": 59
        }
      ]
    },
    {
      "cell_type": "code",
      "metadata": {
        "colab": {
          "base_uri": "https://localhost:8080/"
        },
        "id": "3imfk41raFqO",
        "outputId": "94cdc3d2-3589-4679-9720-cd06be7e2fcb"
      },
      "source": [
        "if usernames:\r\n",
        "  for username in usernames:\r\n",
        "    if username == 'admin':\r\n",
        "      print(\"Hello admin, would you like to see a status report?\")\r\n",
        "    else:\r\n",
        "      print(f\"Hello {username.title()}, thank you for logging in again.\")\r\n",
        "else:\r\n",
        "  print(\"We need to find some users!\")"
      ],
      "execution_count": 62,
      "outputs": [
        {
          "output_type": "stream",
          "text": [
            "We need to find some users!\n"
          ],
          "name": "stdout"
        }
      ]
    },
    {
      "cell_type": "markdown",
      "metadata": {
        "id": "E-mXcdbjaNO7"
      },
      "source": [
        "5-10. Checking Usernames: Do the following to create a program that simulates\r\n",
        "how websites ensure that everyone has a unique username.\r\n",
        "*\t Make a list of five or more usernames called current_users.\r\n",
        "*\t Make another list of five usernames called new_users. Make sure one or\r\n",
        "two of the new usernames are also in the current_users list.\r\n",
        "*\t Loop through the new_users list to see if each new username has already\r\n",
        "been used. If it has, print a message that the person will need to enter a\r\n",
        "new username. If a username has not been used, print a message saying\r\n",
        "that the username is available.\r\n",
        "*\t Make sure your comparison is case insensitive. If 'John' has been used,\r\n",
        "'JOHN' should not be accepted. (To do this, you’ll need to make a copy of\r\n",
        "current_users containing the lowercase versions of all existing users.)\r\n"
      ]
    },
    {
      "cell_type": "code",
      "metadata": {
        "id": "bmbqjXR5aI16"
      },
      "source": [
        "current_users = [\"azhar\",\"mehar\",\"ajmal\",\"ajmal\",\"ghazanfar\"]\r\n",
        "current_users_insensitive = [user.lower() for user in current_users]"
      ],
      "execution_count": 65,
      "outputs": []
    },
    {
      "cell_type": "code",
      "metadata": {
        "id": "px6nt9F1eqZO"
      },
      "source": [
        "new_users = [\"raheel\",\"azhar\",\"javead\",\"mehar\",\"kalid\"]"
      ],
      "execution_count": 66,
      "outputs": []
    },
    {
      "cell_type": "code",
      "metadata": {
        "colab": {
          "base_uri": "https://localhost:8080/"
        },
        "id": "TShGAC_9i20Q",
        "outputId": "b8e775b6-dd60-41ce-d75b-fcb723a0507a"
      },
      "source": [
        "for new_user in new_users:\r\n",
        "  if new_user.lower() in current_users_insensitive:\r\n",
        "    print(f\"{new_user} need to enter a new username.\")\r\n",
        "  else:\r\n",
        "    print(f\"{new_user} the username is available.\")"
      ],
      "execution_count": 69,
      "outputs": [
        {
          "output_type": "stream",
          "text": [
            "raheel the username is available.\n",
            "azhar need to enter a new username.\n",
            "javead the username is available.\n",
            "mehar need to enter a new username.\n",
            "kalid the username is available.\n"
          ],
          "name": "stdout"
        }
      ]
    },
    {
      "cell_type": "markdown",
      "metadata": {
        "id": "zm36n0s5j5YP"
      },
      "source": [
        "5-11. Ordinal Numbers: Ordinal numbers indicate their position in a list, such\r\n",
        "as 1st or 2nd. Most ordinal numbers end in th, except 1, 2, and 3.\r\n",
        "*\t Store the numbers 1 through 9 in a list.\r\n",
        "*\t Loop through the list.\r\n",
        "*\t Use an if-elif-else chain inside the loop to print the proper ordinal ending for each number. Your output should read \"1st 2nd 3rd 4th 5th 6th\r\n",
        "7th 8th 9th\", and each result should be on a separate line."
      ]
    },
    {
      "cell_type": "code",
      "metadata": {
        "colab": {
          "base_uri": "https://localhost:8080/"
        },
        "id": "S1AuGd2Sjnxv",
        "outputId": "6b48950e-d4f2-40fa-8338-6a031711693f"
      },
      "source": [
        "forordinallist = list(range(1,10))\r\n",
        "for number in forordinallist:\r\n",
        "  if number == 1:\r\n",
        "    print(\"1st\")\r\n",
        "  elif number == 2:\r\n",
        "    print(\"2nd\")\r\n",
        "  elif number == 3:\r\n",
        "    print(\"3rd\")\r\n",
        "  else:\r\n",
        "    print(str(number) + \"th\")"
      ],
      "execution_count": 72,
      "outputs": [
        {
          "output_type": "stream",
          "text": [
            "1st\n",
            "2nd\n",
            "3rd\n",
            "4th\n",
            "5th\n",
            "6th\n",
            "7th\n",
            "8th\n",
            "9th\n"
          ],
          "name": "stdout"
        }
      ]
    },
    {
      "cell_type": "markdown",
      "metadata": {
        "id": "XSkupAYakwgA"
      },
      "source": [
        "5-12. Styling if statements: Review the programs you wrote in this chapter, and\r\n",
        "make sure you styled your conditional tests appropriately."
      ]
    },
    {
      "cell_type": "markdown",
      "metadata": {
        "id": "jiEq3yTXkzYv"
      },
      "source": [
        "`Yes i reviewed the the programs and they meet the style as used in this Chapter appropriately`"
      ]
    },
    {
      "cell_type": "markdown",
      "metadata": {
        "id": "yjFHekK1lLAe"
      },
      "source": [
        "5-13. Your Ideas: At this point, you’re a more capable programmer than you\r\n",
        "were when you started this book. Now that you have a better sense of how\r\n",
        "real-world situations are modeled in programs, you might be thinking of some\r\n",
        "problems you could solve with your own programs. Record any new ideas you\r\n",
        "have about problems you might want to solve as your programming skills continue to improve. Consider games you might want to write, data sets you might\r\n",
        "want to explore, and web applications you’d like to create."
      ]
    },
    {
      "cell_type": "code",
      "metadata": {
        "id": "zSAE3-YAkmKu"
      },
      "source": [
        "#Sure"
      ],
      "execution_count": 73,
      "outputs": []
    },
    {
      "cell_type": "code",
      "metadata": {
        "id": "sQRtorztlToF"
      },
      "source": [
        "#Done Chapter 5"
      ],
      "execution_count": 74,
      "outputs": []
    }
  ]
}