{
  "nbformat": 4,
  "nbformat_minor": 0,
  "metadata": {
    "colab": {
      "name": "Data Analysis on 365",
      "provenance": [],
      "authorship_tag": "ABX9TyOgQbWw8l03NRbqZS4at8LG",
      "include_colab_link": true
    },
    "kernelspec": {
      "name": "python3",
      "display_name": "Python 3"
    },
    "language_info": {
      "name": "python"
    }
  },
  "cells": [
    {
      "cell_type": "markdown",
      "metadata": {
        "id": "view-in-github",
        "colab_type": "text"
      },
      "source": [
        "<a href=\"https://colab.research.google.com/github/AZHARTHEGEEK/AI-DATA-SCIENCE-WORK/blob/main/Data_Analysis_on_365%20data.ipynb\" target=\"_parent\"><img src=\"https://colab.research.google.com/assets/colab-badge.svg\" alt=\"Open In Colab\"/></a>"
      ]
    },
    {
      "cell_type": "code",
      "metadata": {
        "colab": {
          "base_uri": "https://localhost:8080/"
        },
        "id": "eV8XNLHMJOv7",
        "outputId": "d69fdb2b-f6e8-4982-8456-2920449547f6"
      },
      "source": [
        "import pandas as pd\n",
        "dataset = pd.read_csv(\"asd.csv\" , index_col=0)\n",
        "\n",
        "# Are they the same?\n",
        "print(pd.DataFrame(dataset))"
      ],
      "execution_count": null,
      "outputs": [
        {
          "output_type": "stream",
          "text": [
            "                 Entity        Name  ... Mortgage   Source\n",
            "Customer ID                          ...                  \n",
            "C0028        Individual     Madalyn  ...       No  Website\n",
            "C0027        Individual        Lara  ...       No  Website\n",
            "C0014        Individual  Alessandra  ...       No   Agency\n",
            "C0125        Individual     Kaitlin  ...       No   Client\n",
            "C0125        Individual     Kaitlin  ...       No   Agency\n",
            "...                 ...         ...  ...      ...      ...\n",
            "C0174              Firm     Marleez  ...       No  Website\n",
            "C0174              Firm     Marleez  ...       No  Website\n",
            "C0174              Firm     Marleez  ...       No  Website\n",
            "C0174              Firm     Marleez  ...       No  Website\n",
            "C0174              Firm     Marleez  ...       No  Website\n",
            "\n",
            "[195 rows x 15 columns]\n"
          ],
          "name": "stdout"
        }
      ]
    },
    {
      "cell_type": "code",
      "metadata": {
        "colab": {
          "base_uri": "https://localhost:8080/",
          "height": 509
        },
        "id": "xq4II3kkKGiH",
        "outputId": "a4b9691a-0222-4b82-e4bb-d72909f10ffe"
      },
      "source": [
        "pd.DataFrame(dataset)"
      ],
      "execution_count": null,
      "outputs": [
        {
          "output_type": "execute_result",
          "data": {
            "text/html": [
              "<div>\n",
              "<style scoped>\n",
              "    .dataframe tbody tr th:only-of-type {\n",
              "        vertical-align: middle;\n",
              "    }\n",
              "\n",
              "    .dataframe tbody tr th {\n",
              "        vertical-align: top;\n",
              "    }\n",
              "\n",
              "    .dataframe thead th {\n",
              "        text-align: right;\n",
              "    }\n",
              "</style>\n",
              "<table border=\"1\" class=\"dataframe\">\n",
              "  <thead>\n",
              "    <tr style=\"text-align: right;\">\n",
              "      <th></th>\n",
              "      <th>Entity</th>\n",
              "      <th>Name</th>\n",
              "      <th>Surname</th>\n",
              "      <th>Age at time of purchase</th>\n",
              "      <th>Interval</th>\n",
              "      <th>Y</th>\n",
              "      <th>M</th>\n",
              "      <th>D</th>\n",
              "      <th>Gender</th>\n",
              "      <th>Country</th>\n",
              "      <th>State</th>\n",
              "      <th>Purpose</th>\n",
              "      <th>Deal satisfaction</th>\n",
              "      <th>Mortgage</th>\n",
              "      <th>Source</th>\n",
              "    </tr>\n",
              "    <tr>\n",
              "      <th>Customer ID</th>\n",
              "      <th></th>\n",
              "      <th></th>\n",
              "      <th></th>\n",
              "      <th></th>\n",
              "      <th></th>\n",
              "      <th></th>\n",
              "      <th></th>\n",
              "      <th></th>\n",
              "      <th></th>\n",
              "      <th></th>\n",
              "      <th></th>\n",
              "      <th></th>\n",
              "      <th></th>\n",
              "      <th></th>\n",
              "      <th></th>\n",
              "    </tr>\n",
              "  </thead>\n",
              "  <tbody>\n",
              "    <tr>\n",
              "      <th>C0028</th>\n",
              "      <td>Individual</td>\n",
              "      <td>Madalyn</td>\n",
              "      <td>Mercer</td>\n",
              "      <td>#REF!</td>\n",
              "      <td>#REF!</td>\n",
              "      <td>1986.0</td>\n",
              "      <td>6.0</td>\n",
              "      <td>21.0</td>\n",
              "      <td>F</td>\n",
              "      <td>USA</td>\n",
              "      <td>California</td>\n",
              "      <td>Home</td>\n",
              "      <td>5</td>\n",
              "      <td>No</td>\n",
              "      <td>Website</td>\n",
              "    </tr>\n",
              "    <tr>\n",
              "      <th>C0027</th>\n",
              "      <td>Individual</td>\n",
              "      <td>Lara</td>\n",
              "      <td>Carrillo</td>\n",
              "      <td>#REF!</td>\n",
              "      <td>#REF!</td>\n",
              "      <td>1983.0</td>\n",
              "      <td>2.0</td>\n",
              "      <td>24.0</td>\n",
              "      <td>F</td>\n",
              "      <td>USA</td>\n",
              "      <td>California</td>\n",
              "      <td>Home</td>\n",
              "      <td>5</td>\n",
              "      <td>No</td>\n",
              "      <td>Website</td>\n",
              "    </tr>\n",
              "    <tr>\n",
              "      <th>C0014</th>\n",
              "      <td>Individual</td>\n",
              "      <td>Alessandra</td>\n",
              "      <td>Perry</td>\n",
              "      <td>#REF!</td>\n",
              "      <td>#REF!</td>\n",
              "      <td>1979.0</td>\n",
              "      <td>5.0</td>\n",
              "      <td>15.0</td>\n",
              "      <td>F</td>\n",
              "      <td>USA</td>\n",
              "      <td>California</td>\n",
              "      <td>Home</td>\n",
              "      <td>4</td>\n",
              "      <td>No</td>\n",
              "      <td>Agency</td>\n",
              "    </tr>\n",
              "    <tr>\n",
              "      <th>C0125</th>\n",
              "      <td>Individual</td>\n",
              "      <td>Kaitlin</td>\n",
              "      <td>Owen</td>\n",
              "      <td>#REF!</td>\n",
              "      <td>#REF!</td>\n",
              "      <td>1981.0</td>\n",
              "      <td>12.0</td>\n",
              "      <td>26.0</td>\n",
              "      <td>F</td>\n",
              "      <td>USA</td>\n",
              "      <td>Virginia</td>\n",
              "      <td>Investment</td>\n",
              "      <td>5</td>\n",
              "      <td>No</td>\n",
              "      <td>Client</td>\n",
              "    </tr>\n",
              "    <tr>\n",
              "      <th>C0125</th>\n",
              "      <td>Individual</td>\n",
              "      <td>Kaitlin</td>\n",
              "      <td>Owen</td>\n",
              "      <td>#REF!</td>\n",
              "      <td>#REF!</td>\n",
              "      <td>1981.0</td>\n",
              "      <td>12.0</td>\n",
              "      <td>26.0</td>\n",
              "      <td>F</td>\n",
              "      <td>USA</td>\n",
              "      <td>Virginia</td>\n",
              "      <td>Investment</td>\n",
              "      <td>5</td>\n",
              "      <td>No</td>\n",
              "      <td>Agency</td>\n",
              "    </tr>\n",
              "    <tr>\n",
              "      <th>...</th>\n",
              "      <td>...</td>\n",
              "      <td>...</td>\n",
              "      <td>...</td>\n",
              "      <td>...</td>\n",
              "      <td>...</td>\n",
              "      <td>...</td>\n",
              "      <td>...</td>\n",
              "      <td>...</td>\n",
              "      <td>...</td>\n",
              "      <td>...</td>\n",
              "      <td>...</td>\n",
              "      <td>...</td>\n",
              "      <td>...</td>\n",
              "      <td>...</td>\n",
              "      <td>...</td>\n",
              "    </tr>\n",
              "    <tr>\n",
              "      <th>C0174</th>\n",
              "      <td>Firm</td>\n",
              "      <td>Marleez</td>\n",
              "      <td>Co</td>\n",
              "      <td>NaN</td>\n",
              "      <td>NaN</td>\n",
              "      <td>NaN</td>\n",
              "      <td>NaN</td>\n",
              "      <td>NaN</td>\n",
              "      <td>firm</td>\n",
              "      <td>USA</td>\n",
              "      <td>California</td>\n",
              "      <td>Investment</td>\n",
              "      <td>5</td>\n",
              "      <td>No</td>\n",
              "      <td>Website</td>\n",
              "    </tr>\n",
              "    <tr>\n",
              "      <th>C0174</th>\n",
              "      <td>Firm</td>\n",
              "      <td>Marleez</td>\n",
              "      <td>Co</td>\n",
              "      <td>NaN</td>\n",
              "      <td>NaN</td>\n",
              "      <td>NaN</td>\n",
              "      <td>NaN</td>\n",
              "      <td>NaN</td>\n",
              "      <td>firm</td>\n",
              "      <td>USA</td>\n",
              "      <td>California</td>\n",
              "      <td>Investment</td>\n",
              "      <td>5</td>\n",
              "      <td>No</td>\n",
              "      <td>Website</td>\n",
              "    </tr>\n",
              "    <tr>\n",
              "      <th>C0174</th>\n",
              "      <td>Firm</td>\n",
              "      <td>Marleez</td>\n",
              "      <td>Co</td>\n",
              "      <td>NaN</td>\n",
              "      <td>NaN</td>\n",
              "      <td>NaN</td>\n",
              "      <td>NaN</td>\n",
              "      <td>NaN</td>\n",
              "      <td>firm</td>\n",
              "      <td>USA</td>\n",
              "      <td>California</td>\n",
              "      <td>Investment</td>\n",
              "      <td>5</td>\n",
              "      <td>No</td>\n",
              "      <td>Website</td>\n",
              "    </tr>\n",
              "    <tr>\n",
              "      <th>C0174</th>\n",
              "      <td>Firm</td>\n",
              "      <td>Marleez</td>\n",
              "      <td>Co</td>\n",
              "      <td>NaN</td>\n",
              "      <td>NaN</td>\n",
              "      <td>NaN</td>\n",
              "      <td>NaN</td>\n",
              "      <td>NaN</td>\n",
              "      <td>firm</td>\n",
              "      <td>USA</td>\n",
              "      <td>California</td>\n",
              "      <td>Investment</td>\n",
              "      <td>5</td>\n",
              "      <td>No</td>\n",
              "      <td>Website</td>\n",
              "    </tr>\n",
              "    <tr>\n",
              "      <th>C0174</th>\n",
              "      <td>Firm</td>\n",
              "      <td>Marleez</td>\n",
              "      <td>Co</td>\n",
              "      <td>NaN</td>\n",
              "      <td>NaN</td>\n",
              "      <td>NaN</td>\n",
              "      <td>NaN</td>\n",
              "      <td>NaN</td>\n",
              "      <td>firm</td>\n",
              "      <td>USA</td>\n",
              "      <td>California</td>\n",
              "      <td>Investment</td>\n",
              "      <td>5</td>\n",
              "      <td>No</td>\n",
              "      <td>Website</td>\n",
              "    </tr>\n",
              "  </tbody>\n",
              "</table>\n",
              "<p>195 rows × 15 columns</p>\n",
              "</div>"
            ],
            "text/plain": [
              "                 Entity        Name  ... Mortgage   Source\n",
              "Customer ID                          ...                  \n",
              "C0028        Individual     Madalyn  ...       No  Website\n",
              "C0027        Individual        Lara  ...       No  Website\n",
              "C0014        Individual  Alessandra  ...       No   Agency\n",
              "C0125        Individual     Kaitlin  ...       No   Client\n",
              "C0125        Individual     Kaitlin  ...       No   Agency\n",
              "...                 ...         ...  ...      ...      ...\n",
              "C0174              Firm     Marleez  ...       No  Website\n",
              "C0174              Firm     Marleez  ...       No  Website\n",
              "C0174              Firm     Marleez  ...       No  Website\n",
              "C0174              Firm     Marleez  ...       No  Website\n",
              "C0174              Firm     Marleez  ...       No  Website\n",
              "\n",
              "[195 rows x 15 columns]"
            ]
          },
          "metadata": {
            "tags": []
          },
          "execution_count": 19
        }
      ]
    },
    {
      "cell_type": "code",
      "metadata": {
        "colab": {
          "base_uri": "https://localhost:8080/"
        },
        "id": "EdQGe0XFM3b1",
        "outputId": "ef3d0fd5-4e8a-4e2c-ff4f-69e727b4ede8"
      },
      "source": [
        "dataset.columns"
      ],
      "execution_count": null,
      "outputs": [
        {
          "output_type": "execute_result",
          "data": {
            "text/plain": [
              "Index(['Entity', 'Name', 'Surname', 'Age at time of purchase', 'Interval', 'Y',\n",
              "       'M', 'D', 'Gender', 'Country', 'State', 'Purpose', 'Deal satisfaction',\n",
              "       'Mortgage', 'Source'],\n",
              "      dtype='object')"
            ]
          },
          "metadata": {
            "tags": []
          },
          "execution_count": 20
        }
      ]
    },
    {
      "cell_type": "code",
      "metadata": {
        "id": "qZE3OfF6M-LM"
      },
      "source": [
        "import matplotlib.pyplot as plt\n"
      ],
      "execution_count": null,
      "outputs": []
    },
    {
      "cell_type": "code",
      "metadata": {
        "colab": {
          "base_uri": "https://localhost:8080/"
        },
        "id": "VhIimKKXNfYk",
        "outputId": "cd2b6293-48b2-4010-e39c-d1dba928d62d"
      },
      "source": [
        "dataset[\"Gender\"].fillna(\"firm\")"
      ],
      "execution_count": null,
      "outputs": [
        {
          "output_type": "execute_result",
          "data": {
            "text/plain": [
              "Customer ID\n",
              "C0028       F\n",
              "C0027       F\n",
              "C0014       F\n",
              "C0125       F\n",
              "C0125       F\n",
              "         ... \n",
              "C0174    firm\n",
              "C0174    firm\n",
              "C0174    firm\n",
              "C0174    firm\n",
              "C0174    firm\n",
              "Name: Gender, Length: 195, dtype: object"
            ]
          },
          "metadata": {
            "tags": []
          },
          "execution_count": 25
        }
      ]
    },
    {
      "cell_type": "code",
      "metadata": {
        "colab": {
          "base_uri": "https://localhost:8080/"
        },
        "id": "EkiCKSJhNil8",
        "outputId": "b7085792-83c8-44ab-c834-9e57abcea662"
      },
      "source": [
        "dataset[\"Gender\"]"
      ],
      "execution_count": null,
      "outputs": [
        {
          "output_type": "execute_result",
          "data": {
            "text/plain": [
              "Customer ID\n",
              "C0028       F\n",
              "C0027       F\n",
              "C0014       F\n",
              "C0125       F\n",
              "C0125       F\n",
              "         ... \n",
              "C0174    firm\n",
              "C0174    firm\n",
              "C0174    firm\n",
              "C0174    firm\n",
              "C0174    firm\n",
              "Name: Gender, Length: 195, dtype: object"
            ]
          },
          "metadata": {
            "tags": []
          },
          "execution_count": 26
        }
      ]
    },
    {
      "cell_type": "code",
      "metadata": {
        "colab": {
          "base_uri": "https://localhost:8080/"
        },
        "id": "Dde6wd1ePW9j",
        "outputId": "1bdc0388-21f0-4446-b339-3ea449a0d7d2"
      },
      "source": [
        "dataset[\"Gender\"].value_counts()"
      ],
      "execution_count": null,
      "outputs": [
        {
          "output_type": "execute_result",
          "data": {
            "text/plain": [
              "M       108\n",
              "F        70\n",
              "firm     17\n",
              "Name: Gender, dtype: int64"
            ]
          },
          "metadata": {
            "tags": []
          },
          "execution_count": 27
        }
      ]
    },
    {
      "cell_type": "code",
      "metadata": {
        "id": "fvRMO7ohPggC",
        "colab": {
          "base_uri": "https://localhost:8080/",
          "height": 265
        },
        "outputId": "866db63f-fcbb-4c90-fd60-fb056e783680"
      },
      "source": [
        "plt.pie(dataset[\"Gender\"].value_counts(),labels=[\"Male\",\"Female\",\"Firms\"],autopct=\"%1.2f%%\")\n",
        "plt.show"
      ],
      "execution_count": null,
      "outputs": [
        {
          "output_type": "execute_result",
          "data": {
            "text/plain": [
              "<function matplotlib.pyplot.show>"
            ]
          },
          "metadata": {
            "tags": []
          },
          "execution_count": 39
        },
        {
          "output_type": "display_data",
          "data": {
            "image/png": "[encoded data removed]",
            "text/plain": [
              "<Figure size 432x288 with 1 Axes>"
            ]
          },
          "metadata": {
            "tags": []
          }
        }
      ]
    },
    {
      "cell_type": "code",
      "metadata": {
        "colab": {
          "base_uri": "https://localhost:8080/"
        },
        "id": "otGPL44sWsuT",
        "outputId": "ccdca0ef-75ca-4e2c-f666-b49a68e2652b"
      },
      "source": [
        "dataset[\"Age at time of purchase\"].isnull()"
      ],
      "execution_count": null,
      "outputs": [
        {
          "output_type": "execute_result",
          "data": {
            "text/plain": [
              "Customer ID\n",
              "C0028    False\n",
              "C0027    False\n",
              "C0014    False\n",
              "C0125    False\n",
              "C0125    False\n",
              "         ...  \n",
              "C0174     True\n",
              "C0174     True\n",
              "C0174     True\n",
              "C0174     True\n",
              "C0174     True\n",
              "Name: Age at time of purchase, Length: 195, dtype: bool"
            ]
          },
          "metadata": {
            "tags": []
          },
          "execution_count": 41
        }
      ]
    },
    {
      "cell_type": "code",
      "metadata": {
        "id": "Ln7ulPe3av1n"
      },
      "source": [
        ""
      ],
      "execution_count": null,
      "outputs": []
    }
  ]
}