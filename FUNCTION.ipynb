{
  "nbformat": 4,
  "nbformat_minor": 0,
  "metadata": {
    "kernelspec": {
      "display_name": "Python 3",
      "language": "python",
      "name": "python3"
    },
    "language_info": {
      "codemirror_mode": {
        "name": "ipython",
        "version": 3
      },
      "file_extension": ".py",
      "mimetype": "text/x-python",
      "name": "python",
      "nbconvert_exporter": "python",
      "pygments_lexer": "ipython3",
      "version": "3.8.5"
    },
    "colab": {
      "name": "FUNCTION.ipynb",
      "provenance": [],
      "include_colab_link": true
    }
  },
  "cells": [
    {
      "cell_type": "markdown",
      "metadata": {
        "id": "view-in-github",
        "colab_type": "text"
      },
      "source": [
        "<a href=\"https://colab.research.google.com/github/AZHARTHEGEEK/AI-DATA-SCIENCE-WORK/blob/main/FUNCTION.ipynb\" target=\"_parent\"><img src=\"https://colab.research.google.com/assets/colab-badge.svg\" alt=\"Open In Colab\"/></a>"
      ]
    },
    {
      "cell_type": "code",
      "metadata": {
        "id": "P52YqS10Gm86"
      },
      "source": [
        "def evodd():\n",
        "    num = int(input(\"Enter a number: \"))\n",
        "    mod = num % 2\n",
        "    if mod > 0:\n",
        "        print(\"This is an odd number.\")\n",
        "        \n",
        "        num = int(input(\"Enter a number: \"))\n",
        "        if mod >0:\n",
        "            print(\"odd\")\n",
        "    else:\n",
        "        print(\"This is an even number.\")\n",
        "\n",
        "evodd()"
      ],
      "execution_count": null,
      "outputs": []
    }
  ]
}